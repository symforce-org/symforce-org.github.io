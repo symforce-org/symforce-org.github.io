{
 "cells": [
  {
   "cell_type": "markdown",
   "metadata": {},
   "source": [
    "# Ops Tutorial"
   ]
  },
  {
   "cell_type": "markdown",
   "metadata": {},
   "source": [
    "SymForce uses [concepts](https://en.wikipedia.org/wiki/Concept_(generic_programming)) as an underlying mechanism. A concept is a specification of supported operations, including syntax and semantics, but does not require a subtype relationship. This means that a set of heterogenous types can be operated on in a homogenous way, i.e. types that are external and don't share a base class, like Python floats treated as scalars.\n",
    "\n",
    "There are three core concepts, each of which is a superset of the previous. The core routines use these ops interfaces rather than calling methods on types directly. The [ops package](../api/symforce.ops.html) docs provide much more detail and each op is tested on each type, but examples are given here.\n",
    "\n",
    "In the case of lists of objects or a Values object (see the [Values tutorial](../notebooks/values_tutorial.html)), we perform element-wise operations."
   ]
  },
  {
   "cell_type": "code",
   "execution_count": 1,
   "metadata": {
    "execution": {
     "iopub.execute_input": "2022-07-29T00:26:25.215043Z",
     "iopub.status.busy": "2022-07-29T00:26:25.212894Z",
     "iopub.status.idle": "2022-07-29T00:26:25.686877Z",
     "shell.execute_reply": "2022-07-29T00:26:25.686281Z"
    }
   },
   "outputs": [],
   "source": [
    "# Setup\n",
    "import symforce\n",
    "\n",
    "symforce.set_symbolic_api(\"sympy\")\n",
    "symforce.set_log_level(\"warning\")\n",
    "\n",
    "from symforce.notebook_util import display\n",
    "import symforce.symbolic as sf\n",
    "from symforce.values import Values\n",
    "from symforce.ops import StorageOps, GroupOps, LieGroupOps"
   ]
  },
  {
   "cell_type": "markdown",
   "metadata": {},
   "source": [
    "## StorageOps"
   ]
  },
  {
   "cell_type": "markdown",
   "metadata": {},
   "source": [
    "[StorageOps](../api/symforce.ops.storage_ops.html): **Data type that can be serialized to and from a vector of scalar quantities.**\n",
    "\n",
    "Methods: `.storage_dim()`, `.to_storage()`, `.from_storage()`, `.symbolic()`, `.evalf()`, `.subs()`, `.simplify()`\n",
    "\n",
    "Storage operations are used extensively for marshalling and for operating on each scalar in a type."
   ]
  },
  {
   "cell_type": "code",
   "execution_count": 2,
   "metadata": {
    "execution": {
     "iopub.execute_input": "2022-07-29T00:26:25.691876Z",
     "iopub.status.busy": "2022-07-29T00:26:25.690760Z",
     "iopub.status.idle": "2022-07-29T00:26:26.234545Z",
     "shell.execute_reply": "2022-07-29T00:26:26.234016Z"
    }
   },
   "outputs": [
    {
     "data": {
      "image/png": "[encoded data removed]",
      "text/latex": [
       "$\\displaystyle 7$"
      ],
      "text/plain": [
       "7"
      ]
     },
     "metadata": {},
     "output_type": "display_data"
    }
   ],
   "source": [
    "# Number of scalars used to represent a Pose3 (4 quaternion + 3 position)\n",
    "display(StorageOps.storage_dim(sf.Pose3))"
   ]
  },
  {
   "cell_type": "code",
   "execution_count": 3,
   "metadata": {
    "execution": {
     "iopub.execute_input": "2022-07-29T00:26:26.238736Z",
     "iopub.status.busy": "2022-07-29T00:26:26.237692Z",
     "iopub.status.idle": "2022-07-29T00:26:26.250178Z",
     "shell.execute_reply": "2022-07-29T00:26:26.249696Z"
    }
   },
   "outputs": [
    {
     "data": {
      "image/png": "[encoded data removed]",
      "text/latex": [
       "$\\displaystyle 1$"
      ],
      "text/plain": [
       "1"
      ]
     },
     "metadata": {},
     "output_type": "display_data"
    }
   ],
   "source": [
    "# Because we are using concepts, we can operate on types that aren't subtypes\n",
    "# of symforce\n",
    "display(StorageOps.storage_dim(float))"
   ]
  },
  {
   "cell_type": "code",
   "execution_count": 4,
   "metadata": {
    "execution": {
     "iopub.execute_input": "2022-07-29T00:26:26.254310Z",
     "iopub.status.busy": "2022-07-29T00:26:26.253320Z",
     "iopub.status.idle": "2022-07-29T00:26:26.268588Z",
     "shell.execute_reply": "2022-07-29T00:26:26.268046Z"
    }
   },
   "outputs": [
    {
     "data": {
      "image/png": "[encoded data removed]",
      "text/latex": [
       "$\\displaystyle 14$"
      ],
      "text/plain": [
       "14"
      ]
     },
     "metadata": {},
     "output_type": "display_data"
    }
   ],
   "source": [
    "# Element-wise operations on lists of objects\n",
    "display(StorageOps.storage_dim([sf.Pose3, sf.Pose3]))"
   ]
  },
  {
   "cell_type": "code",
   "execution_count": 5,
   "metadata": {
    "execution": {
     "iopub.execute_input": "2022-07-29T00:26:26.272740Z",
     "iopub.status.busy": "2022-07-29T00:26:26.271734Z",
     "iopub.status.idle": "2022-07-29T00:26:26.285483Z",
     "shell.execute_reply": "2022-07-29T00:26:26.284994Z"
    }
   },
   "outputs": [
    {
     "data": {
      "image/png": "[encoded data removed]",
      "text/latex": [
       "$\\displaystyle 8$"
      ],
      "text/plain": [
       "8"
      ]
     },
     "metadata": {},
     "output_type": "display_data"
    }
   ],
   "source": [
    "# Element-wise operations on Values object with multiple types of elements\n",
    "values = Values(\n",
    "    pose=sf.Pose3(),\n",
    "    scalar=sf.Symbol(\"x\"),\n",
    ")\n",
    "display(StorageOps.storage_dim(values))  # 4 quaternion + 3 position + 1 scalar"
   ]
  },
  {
   "cell_type": "code",
   "execution_count": 6,
   "metadata": {
    "execution": {
     "iopub.execute_input": "2022-07-29T00:26:26.289489Z",
     "iopub.status.busy": "2022-07-29T00:26:26.288496Z",
     "iopub.status.idle": "2022-07-29T00:26:26.322138Z",
     "shell.execute_reply": "2022-07-29T00:26:26.321627Z"
    }
   },
   "outputs": [
    {
     "data": {
      "image/png": "[encoded data removed]",
      "text/latex": [
       "$\\displaystyle \\left[ 5\\right]$"
      ],
      "text/plain": [
       "[5]"
      ]
     },
     "metadata": {},
     "output_type": "display_data"
    }
   ],
   "source": [
    "# Serialize scalar\n",
    "display(StorageOps.to_storage(5))"
   ]
  },
  {
   "cell_type": "code",
   "execution_count": 7,
   "metadata": {
    "execution": {
     "iopub.execute_input": "2022-07-29T00:26:26.326207Z",
     "iopub.status.busy": "2022-07-29T00:26:26.325218Z",
     "iopub.status.idle": "2022-07-29T00:26:26.351291Z",
     "shell.execute_reply": "2022-07-29T00:26:26.350797Z"
    }
   },
   "outputs": [
    {
     "data": {
      "image/png": "[encoded data removed]",
      "text/latex": [
       "$\\displaystyle \\left[ x, \\  5.2, \\  \\sqrt{5}\\right]$"
      ],
      "text/plain": [
       "[x, 5.2, √5]"
      ]
     },
     "metadata": {},
     "output_type": "display_data"
    }
   ],
   "source": [
    "# Serialize vector/matrix\n",
    "display(StorageOps.to_storage(sf.V3(sf.Symbol(\"x\"), 5.2, sf.sqrt(5))))"
   ]
  },
  {
   "cell_type": "code",
   "execution_count": 8,
   "metadata": {
    "execution": {
     "iopub.execute_input": "2022-07-29T00:26:26.355460Z",
     "iopub.status.busy": "2022-07-29T00:26:26.354390Z",
     "iopub.status.idle": "2022-07-29T00:26:26.408783Z",
     "shell.execute_reply": "2022-07-29T00:26:26.408284Z"
    }
   },
   "outputs": [
    {
     "data": {
      "image/png": "[encoded data removed]",
      "text/latex": [
       "$\\displaystyle \\left[ T.R_{x}, \\  T.R_{y}, \\  T.R_{z}, \\  T.R_{w}, \\  T.t0, \\  T.t1, \\  T.t2\\right]$"
      ],
      "text/plain": [
       "[T.Rₓ, T.R_y, T.R_z, T.R_w, T.t0, T.t1, T.t2]"
      ]
     },
     "metadata": {},
     "output_type": "display_data"
    },
    {
     "data": {
      "text/plain": [
       "<Pose3 R=<Rot3 <Q xyzw=[T.R_x, T.R_y, T.R_z, T.R_w]>>, t=(T.t0, T.t1, T.t2)>"
      ]
     },
     "metadata": {},
     "output_type": "display_data"
    }
   ],
   "source": [
    "# Serialize geometric type and reconstruct\n",
    "T = sf.Pose3.symbolic(\"T\")\n",
    "T_serialized = StorageOps.to_storage(T)\n",
    "T_recovered = StorageOps.from_storage(sf.Pose3, T_serialized)\n",
    "display(T_serialized)\n",
    "display(T_recovered)"
   ]
  },
  {
   "cell_type": "markdown",
   "metadata": {},
   "source": [
    "## GroupOps"
   ]
  },
  {
   "cell_type": "markdown",
   "metadata": {},
   "source": [
    "[GroupOps](../api/symforce.ops.group_ops.html): **Mathematical group that implements closure, associativity, identity and invertibility.**\n",
    "\n",
    "Methods: `.identity()`, `.inverse()`, `.compose()`, `.between()`\n",
    "\n",
    "Group operations provide the core methods to compare and combine types."
   ]
  },
  {
   "cell_type": "code",
   "execution_count": 9,
   "metadata": {
    "execution": {
     "iopub.execute_input": "2022-07-29T00:26:26.413045Z",
     "iopub.status.busy": "2022-07-29T00:26:26.412022Z",
     "iopub.status.idle": "2022-07-29T00:26:26.418304Z",
     "shell.execute_reply": "2022-07-29T00:26:26.417833Z"
    }
   },
   "outputs": [
    {
     "data": {
      "text/plain": [
       "<Pose3 R=<Rot3 <Q xyzw=[0, 0, 0, 1]>>, t=(0, 0, 0)>"
      ]
     },
     "metadata": {},
     "output_type": "display_data"
    }
   ],
   "source": [
    "# Identity of a pose\n",
    "display(GroupOps.identity(sf.Pose3))"
   ]
  },
  {
   "cell_type": "code",
   "execution_count": 10,
   "metadata": {
    "execution": {
     "iopub.execute_input": "2022-07-29T00:26:26.422275Z",
     "iopub.status.busy": "2022-07-29T00:26:26.421278Z",
     "iopub.status.idle": "2022-07-29T00:26:26.437076Z",
     "shell.execute_reply": "2022-07-29T00:26:26.436574Z"
    }
   },
   "outputs": [
    {
     "data": {
      "image/png": "[encoded data removed]",
      "text/latex": [
       "$\\displaystyle 0$"
      ],
      "text/plain": [
       "0"
      ]
     },
     "metadata": {},
     "output_type": "display_data"
    }
   ],
   "source": [
    "# Identity of a scalar (under addition)\n",
    "display(GroupOps.identity(float))"
   ]
  },
  {
   "cell_type": "code",
   "execution_count": 11,
   "metadata": {
    "execution": {
     "iopub.execute_input": "2022-07-29T00:26:26.441238Z",
     "iopub.status.busy": "2022-07-29T00:26:26.440234Z",
     "iopub.status.idle": "2022-07-29T00:26:26.450374Z",
     "shell.execute_reply": "2022-07-29T00:26:26.449901Z"
    }
   },
   "outputs": [
    {
     "data": {
      "text/latex": [
       "$\\displaystyle \\left[\\begin{matrix}-1.2 & 3 & -2\\end{matrix}\\right]$"
      ],
      "text/plain": [
       "[-1.2  3  -2]"
      ]
     },
     "metadata": {},
     "output_type": "display_data"
    }
   ],
   "source": [
    "# Inverse of a vector\n",
    "display(GroupOps.inverse(sf.V3(1.2, -3, 2)).T)"
   ]
  },
  {
   "cell_type": "code",
   "execution_count": 12,
   "metadata": {
    "execution": {
     "iopub.execute_input": "2022-07-29T00:26:26.454296Z",
     "iopub.status.busy": "2022-07-29T00:26:26.453322Z",
     "iopub.status.idle": "2022-07-29T00:26:26.463256Z",
     "shell.execute_reply": "2022-07-29T00:26:26.462791Z"
    }
   },
   "outputs": [
    {
     "data": {
      "text/latex": [
       "$\\displaystyle \\left[\\begin{matrix}4\\\\-3\\end{matrix}\\right]$"
      ],
      "text/plain": [
       "⎡4 ⎤\n",
       "⎢  ⎥\n",
       "⎣-3⎦"
      ]
     },
     "metadata": {},
     "output_type": "display_data"
    }
   ],
   "source": [
    "# Compose two vectors (under addition)\n",
    "display(GroupOps.compose(sf.V2(1, 2), sf.V2(3, -5)))"
   ]
  },
  {
   "cell_type": "code",
   "execution_count": 13,
   "metadata": {
    "execution": {
     "iopub.execute_input": "2022-07-29T00:26:26.467115Z",
     "iopub.status.busy": "2022-07-29T00:26:26.466124Z",
     "iopub.status.idle": "2022-07-29T00:26:26.763355Z",
     "shell.execute_reply": "2022-07-29T00:26:26.762824Z"
    }
   },
   "outputs": [
    {
     "data": {
      "text/plain": [
       "<Rot3 <Q xyzw=[0, 0, 0, 1]>>"
      ]
     },
     "metadata": {},
     "output_type": "display_data"
    }
   ],
   "source": [
    "# Compose a rotation and its inverse to get identity\n",
    "R1 = sf.Rot3.from_angle_axis(\n",
    "    angle=sf.Symbol(\"theta1\"),\n",
    "    axis=sf.V3(0, 0, 1),\n",
    ")\n",
    "display(StorageOps.simplify(GroupOps.compose(R1, R1.inverse()).simplify()))"
   ]
  },
  {
   "cell_type": "code",
   "execution_count": 14,
   "metadata": {
    "execution": {
     "iopub.execute_input": "2022-07-29T00:26:26.767441Z",
     "iopub.status.busy": "2022-07-29T00:26:26.766423Z",
     "iopub.status.idle": "2022-07-29T00:26:26.919398Z",
     "shell.execute_reply": "2022-07-29T00:26:26.918877Z"
    }
   },
   "outputs": [
    {
     "data": {
      "text/plain": [
       "<Rot3 <Q xyzw=[0, 0, sin(theta2/2), cos(theta2/2)]>>"
      ]
     },
     "metadata": {},
     "output_type": "display_data"
    },
    {
     "data": {
      "text/plain": [
       "<Rot3 <Q xyzw=[0, 0, sin(theta2/2), cos(theta2/2)]>>"
      ]
     },
     "metadata": {},
     "output_type": "display_data"
    }
   ],
   "source": [
    "# Relative rotation using `.between()`\n",
    "R2 = sf.Rot3.from_angle_axis(\n",
    "    angle=sf.Symbol(\"theta2\"),\n",
    "    axis=sf.V3(0, 0, 1),\n",
    ")\n",
    "R_delta = GroupOps.between(R1, R2)\n",
    "display(R2)\n",
    "display(StorageOps.simplify(GroupOps.compose(R1, R_delta)))"
   ]
  },
  {
   "cell_type": "markdown",
   "metadata": {},
   "source": [
    "## LieGroupOps"
   ]
  },
  {
   "cell_type": "markdown",
   "metadata": {},
   "source": [
    "[LieGroupOps](../api/symforce.ops.lie_group_ops.html): **Group that is also a differentiable manifold, such that calculus applies.**\n",
    "\n",
    "Methods: `.tangent_dim()`, `.from_tangent()`, `to_tangent()`, `.retract()`, `.local_coordinates()`, `.storage_D_tangent()`\n",
    "\n",
    "Lie group operations provide the core methods for nonlinear optimization.  \n",
    "Familiarity is not expected for all users, but learning is encouraged!"
   ]
  },
  {
   "cell_type": "code",
   "execution_count": 15,
   "metadata": {
    "execution": {
     "iopub.execute_input": "2022-07-29T00:26:26.923708Z",
     "iopub.status.busy": "2022-07-29T00:26:26.922702Z",
     "iopub.status.idle": "2022-07-29T00:26:26.934837Z",
     "shell.execute_reply": "2022-07-29T00:26:26.934346Z"
    }
   },
   "outputs": [
    {
     "data": {
      "image/png": "[encoded data removed]",
      "text/latex": [
       "$\\displaystyle 3$"
      ],
      "text/plain": [
       "3"
      ]
     },
     "metadata": {},
     "output_type": "display_data"
    }
   ],
   "source": [
    "# Underlying dimension of a 3D rotation's tangent space\n",
    "display(LieGroupOps.tangent_dim(sf.Rot3))"
   ]
  },
  {
   "cell_type": "code",
   "execution_count": 16,
   "metadata": {
    "execution": {
     "iopub.execute_input": "2022-07-29T00:26:26.938878Z",
     "iopub.status.busy": "2022-07-29T00:26:26.937789Z",
     "iopub.status.idle": "2022-07-29T00:26:26.949532Z",
     "shell.execute_reply": "2022-07-29T00:26:26.949076Z"
    }
   },
   "outputs": [
    {
     "data": {
      "text/latex": [
       "$\\displaystyle \\left[\\begin{matrix}\\cos{\\left(\\theta \\right)} & - \\sin{\\left(\\theta \\right)}\\\\\\sin{\\left(\\theta \\right)} & \\cos{\\left(\\theta \\right)}\\end{matrix}\\right]$"
      ],
      "text/plain": [
       "⎡cos(θ)  -sin(θ)⎤\n",
       "⎢               ⎥\n",
       "⎣sin(θ)  cos(θ) ⎦"
      ]
     },
     "metadata": {},
     "output_type": "display_data"
    }
   ],
   "source": [
    "# Exponential map (tangent space vector wrt identity element) for a 2D rotation\n",
    "angle = sf.Symbol(\"theta\")\n",
    "rot2 = LieGroupOps.from_tangent(sf.Rot2, [angle])\n",
    "display(rot2.to_rotation_matrix())"
   ]
  },
  {
   "cell_type": "code",
   "execution_count": 17,
   "metadata": {
    "execution": {
     "iopub.execute_input": "2022-07-29T00:26:26.953383Z",
     "iopub.status.busy": "2022-07-29T00:26:26.952425Z",
     "iopub.status.idle": "2022-07-29T00:26:27.004215Z",
     "shell.execute_reply": "2022-07-29T00:26:27.003716Z"
    }
   },
   "outputs": [
    {
     "data": {
      "image/png": "[encoded data removed]",
      "text/latex": [
       "$\\displaystyle \\left[ \\operatorname{atan_{2}}{\\left(\\sin{\\left(\\theta \\right)},\\cos{\\left(\\theta \\right)} \\right)}\\right]$"
      ],
      "text/plain": [
       "[atan2(sin(θ), cos(θ))]"
      ]
     },
     "metadata": {},
     "output_type": "display_data"
    }
   ],
   "source": [
    "# Logarithmic map (tangent space wrt identity element -> element) of the rotation\n",
    "display(LieGroupOps.to_tangent(rot2))"
   ]
  },
  {
   "cell_type": "code",
   "execution_count": 18,
   "metadata": {
    "execution": {
     "iopub.execute_input": "2022-07-29T00:26:27.008224Z",
     "iopub.status.busy": "2022-07-29T00:26:27.007237Z",
     "iopub.status.idle": "2022-07-29T00:26:27.016987Z",
     "shell.execute_reply": "2022-07-29T00:26:27.016541Z"
    }
   },
   "outputs": [
    {
     "data": {
      "text/latex": [
       "$\\displaystyle \\left[\\begin{matrix}1 & 2 & 3 & 4 & 5\\end{matrix}\\right]$"
      ],
      "text/plain": [
       "[1  2  3  4  5]"
      ]
     },
     "metadata": {},
     "output_type": "display_data"
    }
   ],
   "source": [
    "# Exponential map of a vector type is a no-op\n",
    "display(LieGroupOps.from_tangent(sf.V5(), [1, 2, 3, 4, 5]).T)"
   ]
  },
  {
   "cell_type": "code",
   "execution_count": 19,
   "metadata": {
    "execution": {
     "iopub.execute_input": "2022-07-29T00:26:27.020888Z",
     "iopub.status.busy": "2022-07-29T00:26:27.019916Z",
     "iopub.status.idle": "2022-07-29T00:26:27.038182Z",
     "shell.execute_reply": "2022-07-29T00:26:27.037734Z"
    }
   },
   "outputs": [
    {
     "data": {
      "text/latex": [
       "$\\displaystyle \\left[\\begin{matrix}- \\sin{\\left(\\delta \\right)} \\sin{\\left(\\theta \\right)} + \\cos{\\left(\\delta \\right)} \\cos{\\left(\\theta \\right)} & - \\sin{\\left(\\delta \\right)} \\cos{\\left(\\theta \\right)} - \\sin{\\left(\\theta \\right)} \\cos{\\left(\\delta \\right)}\\\\\\sin{\\left(\\delta \\right)} \\cos{\\left(\\theta \\right)} + \\sin{\\left(\\theta \\right)} \\cos{\\left(\\delta \\right)} & - \\sin{\\left(\\delta \\right)} \\sin{\\left(\\theta \\right)} + \\cos{\\left(\\delta \\right)} \\cos{\\left(\\theta \\right)}\\end{matrix}\\right]$"
      ],
      "text/plain": [
       "⎡-sin(δ)⋅sin(θ) + cos(δ)⋅cos(θ)  -sin(δ)⋅cos(θ) - sin(θ)⋅cos(δ)⎤\n",
       "⎢                                                              ⎥\n",
       "⎣sin(δ)⋅cos(θ) + sin(θ)⋅cos(δ)   -sin(δ)⋅sin(θ) + cos(δ)⋅cos(θ)⎦"
      ]
     },
     "metadata": {},
     "output_type": "display_data"
    }
   ],
   "source": [
    "# Retract perturbs the given element in the tangent space and returns the\n",
    "# updated element\n",
    "rot2_perturbed = LieGroupOps.retract(rot2, [sf.Symbol(\"delta\")])\n",
    "display(rot2_perturbed.to_rotation_matrix())"
   ]
  },
  {
   "cell_type": "code",
   "execution_count": 20,
   "metadata": {
    "execution": {
     "iopub.execute_input": "2022-07-29T00:26:27.042000Z",
     "iopub.status.busy": "2022-07-29T00:26:27.041047Z",
     "iopub.status.idle": "2022-07-29T00:26:27.190098Z",
     "shell.execute_reply": "2022-07-29T00:26:27.189590Z"
    }
   },
   "outputs": [
    {
     "data": {
      "image/png": "[encoded data removed]",
      "text/latex": [
       "$\\displaystyle \\left[ \\operatorname{atan_{2}}{\\left(\\sin{\\left(\\delta \\right)},\\cos{\\left(\\delta \\right)} \\right)}\\right]$"
      ],
      "text/plain": [
       "[atan2(sin(δ), cos(δ))]"
      ]
     },
     "metadata": {},
     "output_type": "display_data"
    }
   ],
   "source": [
    "# Local coordinates compute the tangent space perturbation between one element\n",
    "# and another\n",
    "display(StorageOps.simplify(LieGroupOps.local_coordinates(rot2, rot2_perturbed)))"
   ]
  },
  {
   "cell_type": "code",
   "execution_count": 21,
   "metadata": {
    "execution": {
     "iopub.execute_input": "2022-07-29T00:26:27.194147Z",
     "iopub.status.busy": "2022-07-29T00:26:27.193152Z",
     "iopub.status.idle": "2022-07-29T00:26:27.203520Z",
     "shell.execute_reply": "2022-07-29T00:26:27.203044Z"
    }
   },
   "outputs": [
    {
     "data": {
      "text/latex": [
       "$\\displaystyle \\left[\\begin{matrix}- \\sin{\\left(\\theta \\right)}\\\\\\cos{\\left(\\theta \\right)}\\end{matrix}\\right]$"
      ],
      "text/plain": [
       "⎡-sin(θ)⎤\n",
       "⎢       ⎥\n",
       "⎣cos(θ) ⎦"
      ]
     },
     "metadata": {},
     "output_type": "display_data"
    }
   ],
   "source": [
    "# storage_D_tangent computes the jacobian of the storage space of an object with\n",
    "# respect to the tangent space around the element.\n",
    "\n",
    "# A 2D rotation is represented by a complex number, so storage_D_tangent\n",
    "# represents how that complex number will change given an infinitesimal\n",
    "# perturbation in the tangent space\n",
    "display(LieGroupOps.storage_D_tangent(rot2))"
   ]
  },
  {
   "cell_type": "markdown",
   "metadata": {},
   "source": [
    "Using symbolic geometric types and concepts is already very powerful for development and analysis of robotics, but operating on symbolic objects at runtime is much too slow for most applications. However, symbolic expressions can be beautifully set to fast runtime code."
   ]
  }
 ],
 "metadata": {
  "kernelspec": {
   "display_name": "Python 3",
   "language": "python",
   "name": "python3"
  },
  "language_info": {
   "codemirror_mode": {
    "name": "ipython",
    "version": 3
   },
   "file_extension": ".py",
   "mimetype": "text/x-python",
   "name": "python",
   "nbconvert_exporter": "python",
   "pygments_lexer": "ipython3",
   "version": "3.8.10"
  }
 },
 "nbformat": 4,
 "nbformat_minor": 2
}
