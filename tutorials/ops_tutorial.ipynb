{
 "cells": [
  {
   "cell_type": "markdown",
   "metadata": {},
   "source": [
    "# Ops Tutorial"
   ]
  },
  {
   "cell_type": "markdown",
   "metadata": {},
   "source": [
    "SymForce uses [concepts](https://en.wikipedia.org/wiki/Concept_(generic_programming)) as an underlying mechanism. A concept is a specification of supported operations, including syntax and semantics, but does not require a subtype relationship. This means that a set of heterogenous types can be operated on in a homogenous way, i.e. types that are external and don't share a base class, like Python floats treated as scalars.\n",
    "\n",
    "There are three core concepts, each of which is a superset of the previous. The core routines use these ops interfaces rather than calling methods on types directly. The [ops package](../api/symforce.ops.html) docs provide much more detail and each op is tested on each type, but examples are given here.\n",
    "\n",
    "In the case of different containers, such as lists, dataclasses, or Values objects (see the [Values tutorial](../tutorials/values_tutorial.html)), we perform operations recursively over their elements."
   ]
  },
  {
   "cell_type": "code",
   "execution_count": 1,
   "metadata": {
    "execution": {
     "iopub.execute_input": "2024-12-21T01:14:29.330596Z",
     "iopub.status.busy": "2024-12-21T01:14:29.330339Z",
     "iopub.status.idle": "2024-12-21T01:14:29.891771Z",
     "shell.execute_reply": "2024-12-21T01:14:29.891034Z"
    }
   },
   "outputs": [],
   "source": [
    "# Setup\n",
    "import symforce\n",
    "\n",
    "symforce.set_symbolic_api(\"sympy\")\n",
    "symforce.set_log_level(\"warning\")\n",
    "\n",
    "import symforce.symbolic as sf\n",
    "from symforce.notebook_util import display\n",
    "from symforce.notebook_util import set_notebook_defaults\n",
    "from symforce.ops import GroupOps\n",
    "from symforce.ops import LieGroupOps\n",
    "from symforce.ops import StorageOps\n",
    "from symforce.values import Values\n",
    "\n",
    "set_notebook_defaults()"
   ]
  },
  {
   "cell_type": "markdown",
   "metadata": {},
   "source": [
    "## StorageOps"
   ]
  },
  {
   "cell_type": "markdown",
   "metadata": {},
   "source": [
    "[StorageOps](../api/symforce.ops.storage_ops.html): **Data type that can be serialized to and from a vector of scalar quantities.**\n",
    "\n",
    "Methods: `.storage_dim()`, `.to_storage()`, `.from_storage()`, `.symbolic()`, `.evalf()`, `.subs()`, `.simplify()`\n",
    "\n",
    "Storage operations are used extensively for marshalling and for operating on each scalar in a type."
   ]
  },
  {
   "cell_type": "code",
   "execution_count": 2,
   "metadata": {
    "execution": {
     "iopub.execute_input": "2024-12-21T01:14:29.897043Z",
     "iopub.status.busy": "2024-12-21T01:14:29.895862Z",
     "iopub.status.idle": "2024-12-21T01:14:30.386773Z",
     "shell.execute_reply": "2024-12-21T01:14:30.386124Z"
    }
   },
   "outputs": [
    {
     "data": {
      "image/png": "[encoded data removed]",
      "text/latex": [
       "$\\displaystyle 7$"
      ],
      "text/plain": [
       "7"
      ]
     },
     "metadata": {},
     "output_type": "display_data"
    }
   ],
   "source": [
    "# Number of scalars used to represent a Pose3 (4 quaternion + 3 position)\n",
    "display(StorageOps.storage_dim(sf.Pose3))"
   ]
  },
  {
   "cell_type": "code",
   "execution_count": 3,
   "metadata": {
    "execution": {
     "iopub.execute_input": "2024-12-21T01:14:30.391335Z",
     "iopub.status.busy": "2024-12-21T01:14:30.390178Z",
     "iopub.status.idle": "2024-12-21T01:14:30.403176Z",
     "shell.execute_reply": "2024-12-21T01:14:30.402596Z"
    }
   },
   "outputs": [
    {
     "data": {
      "image/png": "[encoded data removed]",
      "text/latex": [
       "$\\displaystyle 1$"
      ],
      "text/plain": [
       "1"
      ]
     },
     "metadata": {},
     "output_type": "display_data"
    }
   ],
   "source": [
    "# Because we are using concepts, we can operate on types that aren't subtypes\n",
    "# of symforce\n",
    "display(StorageOps.storage_dim(float))"
   ]
  },
  {
   "cell_type": "code",
   "execution_count": 4,
   "metadata": {
    "execution": {
     "iopub.execute_input": "2024-12-21T01:14:30.407247Z",
     "iopub.status.busy": "2024-12-21T01:14:30.406207Z",
     "iopub.status.idle": "2024-12-21T01:14:30.418640Z",
     "shell.execute_reply": "2024-12-21T01:14:30.418078Z"
    }
   },
   "outputs": [
    {
     "data": {
      "image/png": "[encoded data removed]",
      "text/latex": [
       "$\\displaystyle 14$"
      ],
      "text/plain": [
       "14"
      ]
     },
     "metadata": {},
     "output_type": "display_data"
    }
   ],
   "source": [
    "# Element-wise operations on lists of objects\n",
    "display(StorageOps.storage_dim([sf.Pose3, sf.Pose3]))"
   ]
  },
  {
   "cell_type": "code",
   "execution_count": 5,
   "metadata": {
    "execution": {
     "iopub.execute_input": "2024-12-21T01:14:30.422703Z",
     "iopub.status.busy": "2024-12-21T01:14:30.421672Z",
     "iopub.status.idle": "2024-12-21T01:14:30.434423Z",
     "shell.execute_reply": "2024-12-21T01:14:30.433851Z"
    }
   },
   "outputs": [
    {
     "data": {
      "image/png": "[encoded data removed]",
      "text/latex": [
       "$\\displaystyle 8$"
      ],
      "text/plain": [
       "8"
      ]
     },
     "metadata": {},
     "output_type": "display_data"
    }
   ],
   "source": [
    "# Element-wise operations on Values object with multiple types of elements\n",
    "values = Values(\n",
    "    pose=sf.Pose3(),\n",
    "    scalar=sf.Symbol(\"x\"),\n",
    ")\n",
    "display(StorageOps.storage_dim(values))  # 4 quaternion + 3 position + 1 scalar"
   ]
  },
  {
   "cell_type": "code",
   "execution_count": 6,
   "metadata": {
    "execution": {
     "iopub.execute_input": "2024-12-21T01:14:30.438391Z",
     "iopub.status.busy": "2024-12-21T01:14:30.437307Z",
     "iopub.status.idle": "2024-12-21T01:14:30.453606Z",
     "shell.execute_reply": "2024-12-21T01:14:30.453036Z"
    }
   },
   "outputs": [
    {
     "data": {
      "image/png": "[encoded data removed]",
      "text/latex": [
       "$\\displaystyle \\left[ 5\\right]$"
      ],
      "text/plain": [
       "[5]"
      ]
     },
     "metadata": {},
     "output_type": "display_data"
    }
   ],
   "source": [
    "# Serialize scalar\n",
    "display(StorageOps.to_storage(5))"
   ]
  },
  {
   "cell_type": "code",
   "execution_count": 7,
   "metadata": {
    "execution": {
     "iopub.execute_input": "2024-12-21T01:14:30.457407Z",
     "iopub.status.busy": "2024-12-21T01:14:30.456421Z",
     "iopub.status.idle": "2024-12-21T01:14:30.479276Z",
     "shell.execute_reply": "2024-12-21T01:14:30.478708Z"
    }
   },
   "outputs": [
    {
     "data": {
      "image/png": "[encoded data removed]",
      "text/latex": [
       "$\\displaystyle \\left[ x, \\  5.2, \\  \\sqrt{5}\\right]$"
      ],
      "text/plain": [
       "[x, 5.2, √5]"
      ]
     },
     "metadata": {},
     "output_type": "display_data"
    }
   ],
   "source": [
    "# Serialize vector/matrix\n",
    "display(StorageOps.to_storage(sf.V3(sf.Symbol(\"x\"), 5.2, sf.sqrt(5))))"
   ]
  },
  {
   "cell_type": "code",
   "execution_count": 8,
   "metadata": {
    "execution": {
     "iopub.execute_input": "2024-12-21T01:14:30.483121Z",
     "iopub.status.busy": "2024-12-21T01:14:30.482156Z",
     "iopub.status.idle": "2024-12-21T01:14:30.532029Z",
     "shell.execute_reply": "2024-12-21T01:14:30.531396Z"
    }
   },
   "outputs": [
    {
     "data": {
      "image/png": "[encoded data removed]",
      "text/latex": [
       "$\\displaystyle \\left[ T.R_{x}, \\  T.R_{y}, \\  T.R_{z}, \\  T.R_{w}, \\  T.t_{0}, \\  T.t_{1}, \\  T.t_{2}\\right]$"
      ],
      "text/plain": [
       "[T.Rₓ, T.R_y, T.R_z, T.R_w, T.t₀, T.t₁, T.t₂]"
      ]
     },
     "metadata": {},
     "output_type": "display_data"
    },
    {
     "data": {
      "text/plain": [
       "<Pose3 R=<Rot3 <Q xyzw=[T.R_x, T.R_y, T.R_z, T.R_w]>>, t=(T.t_0, T.t_1, T.t_2)>"
      ]
     },
     "metadata": {},
     "output_type": "display_data"
    }
   ],
   "source": [
    "# Serialize geometric type and reconstruct\n",
    "T = sf.Pose3.symbolic(\"T\")\n",
    "T_serialized = StorageOps.to_storage(T)\n",
    "T_recovered = StorageOps.from_storage(sf.Pose3, T_serialized)\n",
    "display(T_serialized)\n",
    "display(T_recovered)"
   ]
  },
  {
   "cell_type": "markdown",
   "metadata": {},
   "source": [
    "## GroupOps"
   ]
  },
  {
   "cell_type": "markdown",
   "metadata": {},
   "source": [
    "[GroupOps](../api/symforce.ops.group_ops.html): **Mathematical group that implements closure, associativity, identity and invertibility.**\n",
    "\n",
    "Methods: `.identity()`, `.inverse()`, `.compose()`, `.between()`\n",
    "\n",
    "Group operations provide the core methods to compare and combine types."
   ]
  },
  {
   "cell_type": "code",
   "execution_count": 9,
   "metadata": {
    "execution": {
     "iopub.execute_input": "2024-12-21T01:14:30.536241Z",
     "iopub.status.busy": "2024-12-21T01:14:30.535216Z",
     "iopub.status.idle": "2024-12-21T01:14:30.542111Z",
     "shell.execute_reply": "2024-12-21T01:14:30.541532Z"
    }
   },
   "outputs": [
    {
     "data": {
      "text/plain": [
       "<Pose3 R=<Rot3 <Q xyzw=[0, 0, 0, 1]>>, t=(0, 0, 0)>"
      ]
     },
     "metadata": {},
     "output_type": "display_data"
    }
   ],
   "source": [
    "# Identity of a pose\n",
    "display(GroupOps.identity(sf.Pose3))"
   ]
  },
  {
   "cell_type": "code",
   "execution_count": 10,
   "metadata": {
    "execution": {
     "iopub.execute_input": "2024-12-21T01:14:30.545890Z",
     "iopub.status.busy": "2024-12-21T01:14:30.544910Z",
     "iopub.status.idle": "2024-12-21T01:14:30.558218Z",
     "shell.execute_reply": "2024-12-21T01:14:30.557642Z"
    }
   },
   "outputs": [
    {
     "data": {
      "image/png": "[encoded data removed]",
      "text/latex": [
       "$\\displaystyle 0.0$"
      ],
      "text/plain": [
       "0.0"
      ]
     },
     "metadata": {},
     "output_type": "display_data"
    }
   ],
   "source": [
    "# Identity of a scalar (under addition)\n",
    "display(GroupOps.identity(float))"
   ]
  },
  {
   "cell_type": "code",
   "execution_count": 11,
   "metadata": {
    "execution": {
     "iopub.execute_input": "2024-12-21T01:14:30.562107Z",
     "iopub.status.busy": "2024-12-21T01:14:30.561114Z",
     "iopub.status.idle": "2024-12-21T01:14:30.571333Z",
     "shell.execute_reply": "2024-12-21T01:14:30.570756Z"
    }
   },
   "outputs": [
    {
     "data": {
      "text/latex": [
       "$\\displaystyle \\left[\\begin{matrix}-1.2 & 3 & -2\\end{matrix}\\right]$"
      ],
      "text/plain": [
       "[-1.2  3  -2]"
      ]
     },
     "metadata": {},
     "output_type": "display_data"
    }
   ],
   "source": [
    "# Inverse of a vector\n",
    "display(GroupOps.inverse(sf.V3(1.2, -3, 2)).T)"
   ]
  },
  {
   "cell_type": "code",
   "execution_count": 12,
   "metadata": {
    "execution": {
     "iopub.execute_input": "2024-12-21T01:14:30.574977Z",
     "iopub.status.busy": "2024-12-21T01:14:30.574028Z",
     "iopub.status.idle": "2024-12-21T01:14:30.583517Z",
     "shell.execute_reply": "2024-12-21T01:14:30.582955Z"
    }
   },
   "outputs": [
    {
     "data": {
      "text/latex": [
       "$\\displaystyle \\left[\\begin{matrix}4\\\\-3\\end{matrix}\\right]$"
      ],
      "text/plain": [
       "⎡4 ⎤\n",
       "⎢  ⎥\n",
       "⎣-3⎦"
      ]
     },
     "metadata": {},
     "output_type": "display_data"
    }
   ],
   "source": [
    "# Compose two vectors (under addition)\n",
    "display(GroupOps.compose(sf.V2(1, 2), sf.V2(3, -5)))"
   ]
  },
  {
   "cell_type": "code",
   "execution_count": 13,
   "metadata": {
    "execution": {
     "iopub.execute_input": "2024-12-21T01:14:30.587163Z",
     "iopub.status.busy": "2024-12-21T01:14:30.586217Z",
     "iopub.status.idle": "2024-12-21T01:14:30.900986Z",
     "shell.execute_reply": "2024-12-21T01:14:30.900299Z"
    }
   },
   "outputs": [
    {
     "data": {
      "text/plain": [
       "<Rot3 <Q xyzw=[0, 0, 0, 1]>>"
      ]
     },
     "metadata": {},
     "output_type": "display_data"
    }
   ],
   "source": [
    "# Compose a rotation and its inverse to get identity\n",
    "R1 = sf.Rot3.from_angle_axis(\n",
    "    angle=sf.Symbol(\"theta1\"),\n",
    "    axis=sf.V3(0, 0, 1),\n",
    ")\n",
    "display(StorageOps.simplify(GroupOps.compose(R1, R1.inverse()).simplify()))"
   ]
  },
  {
   "cell_type": "code",
   "execution_count": 14,
   "metadata": {
    "execution": {
     "iopub.execute_input": "2024-12-21T01:14:30.905328Z",
     "iopub.status.busy": "2024-12-21T01:14:30.904148Z",
     "iopub.status.idle": "2024-12-21T01:14:31.181507Z",
     "shell.execute_reply": "2024-12-21T01:14:31.180780Z"
    }
   },
   "outputs": [
    {
     "data": {
      "text/plain": [
       "<Rot3 <Q xyzw=[0, 0, sin(theta2/2), cos(theta2/2)]>>"
      ]
     },
     "metadata": {},
     "output_type": "display_data"
    },
    {
     "data": {
      "text/plain": [
       "<Rot3 <Q xyzw=[0, 0, sin(theta2/2), cos(theta2/2)]>>"
      ]
     },
     "metadata": {},
     "output_type": "display_data"
    }
   ],
   "source": [
    "# Relative rotation using `.between()`\n",
    "R2 = sf.Rot3.from_angle_axis(\n",
    "    angle=sf.Symbol(\"theta2\"),\n",
    "    axis=sf.V3(0, 0, 1),\n",
    ")\n",
    "R_delta = GroupOps.between(R1, R2)\n",
    "display(R2)\n",
    "display(StorageOps.simplify(GroupOps.compose(R1, R_delta)))"
   ]
  },
  {
   "cell_type": "markdown",
   "metadata": {},
   "source": [
    "## LieGroupOps"
   ]
  },
  {
   "cell_type": "markdown",
   "metadata": {},
   "source": [
    "[LieGroupOps](../api/symforce.ops.lie_group_ops.html): **Group that is also a differentiable manifold, such that calculus applies.**\n",
    "\n",
    "Methods: `.tangent_dim()`, `.from_tangent()`, `to_tangent()`, `.retract()`, `.local_coordinates()`, `.storage_D_tangent()`\n",
    "\n",
    "Lie group operations provide the core methods for nonlinear optimization.  \n",
    "Familiarity is not expected for all users, but learning is encouraged!"
   ]
  },
  {
   "cell_type": "code",
   "execution_count": 15,
   "metadata": {
    "execution": {
     "iopub.execute_input": "2024-12-21T01:14:31.184719Z",
     "iopub.status.busy": "2024-12-21T01:14:31.184458Z",
     "iopub.status.idle": "2024-12-21T01:14:31.197656Z",
     "shell.execute_reply": "2024-12-21T01:14:31.196982Z"
    }
   },
   "outputs": [
    {
     "data": {
      "image/png": "[encoded data removed]",
      "text/latex": [
       "$\\displaystyle 3$"
      ],
      "text/plain": [
       "3"
      ]
     },
     "metadata": {},
     "output_type": "display_data"
    }
   ],
   "source": [
    "# Underlying dimension of a 3D rotation's tangent space\n",
    "display(LieGroupOps.tangent_dim(sf.Rot3))"
   ]
  },
  {
   "cell_type": "code",
   "execution_count": 16,
   "metadata": {
    "execution": {
     "iopub.execute_input": "2024-12-21T01:14:31.201168Z",
     "iopub.status.busy": "2024-12-21T01:14:31.200695Z",
     "iopub.status.idle": "2024-12-21T01:14:31.213079Z",
     "shell.execute_reply": "2024-12-21T01:14:31.212393Z"
    }
   },
   "outputs": [
    {
     "data": {
      "text/latex": [
       "$\\displaystyle \\left[\\begin{matrix}\\cos{\\left(\\theta \\right)} & - \\sin{\\left(\\theta \\right)}\\\\\\sin{\\left(\\theta \\right)} & \\cos{\\left(\\theta \\right)}\\end{matrix}\\right]$"
      ],
      "text/plain": [
       "⎡cos(θ)  -sin(θ)⎤\n",
       "⎢               ⎥\n",
       "⎣sin(θ)  cos(θ) ⎦"
      ]
     },
     "metadata": {},
     "output_type": "display_data"
    }
   ],
   "source": [
    "# Exponential map (tangent space vector wrt identity element) for a 2D rotation\n",
    "angle = sf.Symbol(\"theta\")\n",
    "rot2 = LieGroupOps.from_tangent(sf.Rot2, [angle])\n",
    "display(rot2.to_rotation_matrix())"
   ]
  },
  {
   "cell_type": "code",
   "execution_count": 17,
   "metadata": {
    "execution": {
     "iopub.execute_input": "2024-12-21T01:14:31.216354Z",
     "iopub.status.busy": "2024-12-21T01:14:31.216028Z",
     "iopub.status.idle": "2024-12-21T01:14:31.255010Z",
     "shell.execute_reply": "2024-12-21T01:14:31.254359Z"
    }
   },
   "outputs": [
    {
     "data": {
      "image/png": "[encoded data removed]",
      "text/latex": [
       "$\\displaystyle \\left[ \\operatorname{atan}_{2}{\\left(\\sin{\\left(\\theta \\right)},\\cos{\\left(\\theta \\right)} \\right)}\\right]$"
      ],
      "text/plain": [
       "[atan2(sin(θ), cos(θ))]"
      ]
     },
     "metadata": {},
     "output_type": "display_data"
    }
   ],
   "source": [
    "# Logarithmic map (tangent space wrt identity element -> element) of the rotation\n",
    "display(LieGroupOps.to_tangent(rot2))"
   ]
  },
  {
   "cell_type": "code",
   "execution_count": 18,
   "metadata": {
    "execution": {
     "iopub.execute_input": "2024-12-21T01:14:31.259427Z",
     "iopub.status.busy": "2024-12-21T01:14:31.258197Z",
     "iopub.status.idle": "2024-12-21T01:14:31.269461Z",
     "shell.execute_reply": "2024-12-21T01:14:31.268809Z"
    }
   },
   "outputs": [
    {
     "data": {
      "text/latex": [
       "$\\displaystyle \\left[\\begin{matrix}1 & 2 & 3 & 4 & 5\\end{matrix}\\right]$"
      ],
      "text/plain": [
       "[1  2  3  4  5]"
      ]
     },
     "metadata": {},
     "output_type": "display_data"
    }
   ],
   "source": [
    "# Exponential map of a vector type is a no-op\n",
    "display(LieGroupOps.from_tangent(sf.V5(), [1, 2, 3, 4, 5]).T)"
   ]
  },
  {
   "cell_type": "code",
   "execution_count": 19,
   "metadata": {
    "execution": {
     "iopub.execute_input": "2024-12-21T01:14:31.273634Z",
     "iopub.status.busy": "2024-12-21T01:14:31.272406Z",
     "iopub.status.idle": "2024-12-21T01:14:31.294725Z",
     "shell.execute_reply": "2024-12-21T01:14:31.294090Z"
    }
   },
   "outputs": [
    {
     "data": {
      "text/latex": [
       "$\\displaystyle \\left[\\begin{matrix}- \\sin{\\left(\\delta \\right)} \\sin{\\left(\\theta \\right)} + \\cos{\\left(\\delta \\right)} \\cos{\\left(\\theta \\right)} & - \\sin{\\left(\\delta \\right)} \\cos{\\left(\\theta \\right)} - \\sin{\\left(\\theta \\right)} \\cos{\\left(\\delta \\right)}\\\\\\sin{\\left(\\delta \\right)} \\cos{\\left(\\theta \\right)} + \\sin{\\left(\\theta \\right)} \\cos{\\left(\\delta \\right)} & - \\sin{\\left(\\delta \\right)} \\sin{\\left(\\theta \\right)} + \\cos{\\left(\\delta \\right)} \\cos{\\left(\\theta \\right)}\\end{matrix}\\right]$"
      ],
      "text/plain": [
       "⎡-sin(δ)⋅sin(θ) + cos(δ)⋅cos(θ)  -sin(δ)⋅cos(θ) - sin(θ)⋅cos(δ)⎤\n",
       "⎢                                                              ⎥\n",
       "⎣sin(δ)⋅cos(θ) + sin(θ)⋅cos(δ)   -sin(δ)⋅sin(θ) + cos(δ)⋅cos(θ)⎦"
      ]
     },
     "metadata": {},
     "output_type": "display_data"
    }
   ],
   "source": [
    "# Retract perturbs the given element in the tangent space and returns the\n",
    "# updated element\n",
    "rot2_perturbed = LieGroupOps.retract(rot2, [sf.Symbol(\"delta\")])\n",
    "display(rot2_perturbed.to_rotation_matrix())"
   ]
  },
  {
   "cell_type": "code",
   "execution_count": 20,
   "metadata": {
    "execution": {
     "iopub.execute_input": "2024-12-21T01:14:31.299083Z",
     "iopub.status.busy": "2024-12-21T01:14:31.297800Z",
     "iopub.status.idle": "2024-12-21T01:14:31.478366Z",
     "shell.execute_reply": "2024-12-21T01:14:31.477705Z"
    }
   },
   "outputs": [
    {
     "data": {
      "image/png": "[encoded data removed]",
      "text/latex": [
       "$\\displaystyle \\left[ \\operatorname{atan}_{2}{\\left(\\sin{\\left(\\delta \\right)},\\cos{\\left(\\delta \\right)} \\right)}\\right]$"
      ],
      "text/plain": [
       "[atan2(sin(δ), cos(δ))]"
      ]
     },
     "metadata": {},
     "output_type": "display_data"
    }
   ],
   "source": [
    "# Local coordinates compute the tangent space perturbation between one element\n",
    "# and another\n",
    "display(StorageOps.simplify(LieGroupOps.local_coordinates(rot2, rot2_perturbed)))"
   ]
  },
  {
   "cell_type": "code",
   "execution_count": 21,
   "metadata": {
    "execution": {
     "iopub.execute_input": "2024-12-21T01:14:31.482874Z",
     "iopub.status.busy": "2024-12-21T01:14:31.481614Z",
     "iopub.status.idle": "2024-12-21T01:14:31.494661Z",
     "shell.execute_reply": "2024-12-21T01:14:31.494005Z"
    }
   },
   "outputs": [
    {
     "data": {
      "text/latex": [
       "$\\displaystyle \\left[\\begin{matrix}- \\sin{\\left(\\theta \\right)}\\\\\\cos{\\left(\\theta \\right)}\\end{matrix}\\right]$"
      ],
      "text/plain": [
       "⎡-sin(θ)⎤\n",
       "⎢       ⎥\n",
       "⎣cos(θ) ⎦"
      ]
     },
     "metadata": {},
     "output_type": "display_data"
    }
   ],
   "source": [
    "# storage_D_tangent computes the jacobian of the storage space of an object with\n",
    "# respect to the tangent space around the element.\n",
    "\n",
    "# A 2D rotation is represented by a complex number, so storage_D_tangent\n",
    "# represents how that complex number will change given an infinitesimal\n",
    "# perturbation in the tangent space\n",
    "display(LieGroupOps.storage_D_tangent(rot2))"
   ]
  },
  {
   "cell_type": "markdown",
   "metadata": {},
   "source": [
    "Using symbolic geometric types and concepts is already very powerful for development and analysis of robotics, but operating on symbolic objects at runtime is much too slow for most applications. However, symbolic expressions can be beautifully set to fast runtime code."
   ]
  }
 ],
 "metadata": {
  "kernelspec": {
   "display_name": "Python 3",
   "language": "python",
   "name": "python3"
  },
  "language_info": {
   "codemirror_mode": {
    "name": "ipython",
    "version": 3
   },
   "file_extension": ".py",
   "mimetype": "text/x-python",
   "name": "python",
   "nbconvert_exporter": "python",
   "pygments_lexer": "ipython3",
   "version": "3.8.10"
  }
 },
 "nbformat": 4,
 "nbformat_minor": 2
}
