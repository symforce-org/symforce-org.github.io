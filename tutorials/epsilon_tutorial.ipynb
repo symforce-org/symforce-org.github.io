{
 "cells": [
  {
   "attachments": {},
   "cell_type": "markdown",
   "metadata": {},
   "source": [
    "# Epsilon Tutorial\n",
    "\n",
    "This notebook describes the epsilon mechanism by which numerical singularities are handled in SymForce. The [paper](https://arxiv.org/abs/2204.07889) addresses the theory in Section VI, and this tutorial demonstrates the idea through examples.\n",
    "\n",
    "The basic concept is that it is common to have functions in robotics that are smooth but have singularities at given points. Handwritten functions tend to handle them by adding an if statement at the singularity with some kind of approximation or alternate formulation. This is harder to do with symbolic expressions, and also is not kind to branch prediction. SymForce addresses this with a different method - shifting the input to the function away from the singular point with an infinitesimal variable $\\epsilon$ (epsilon). This approach is simple and fast for a useful class of removable singularities, with negligible effect to output values for sufficiently small epsilon.\n",
    "\n",
    "All functions in SymForce that have singularities take epsilon as an argument. In a numerical context, a very small floating point number should be passed in. In the symbolic context, an epsilon symbol should be passed in. Epsilon arguments are currently optional with zero defaults. This is convenient so that playing with expressions in a notebook doesn't require passing epsilons around. However, this is dangerous and it is extremely important to pass epsilons to get robust behavior or when generating code. Because of this, there are active efforts to make a more intelligent mechanism for the default epsilon to make it less of a footgun to accidentally forget an epsilon and end up with a NaN."
   ]
  },
  {
   "attachments": {},
   "cell_type": "markdown",
   "metadata": {},
   "source": [
    "## Goal\n",
    "\n",
    "We have a function `f(x)`.\n",
    "\n",
    "In the simplest case, we're trying to fix a removable singularity at `x=0`, i.e. `f(x).subs(x, 0) == sm.S.NaN`\n",
    "\n",
    "Libraries often do this by checking whether the value of `x` is close to 0, and using a different method for evaluation there, such as a Taylor expansion.  In symbolic expressions, branching like this is messy and expensive.\n",
    "\n",
    "The idea is to instead make a function `f(x, eps)` so the value is not NaN, when `eps` is a small positive number:  \n",
    "`f(x, eps).subs(x, 0) != sm.S.NaN`\n",
    "\n",
    "We usually also want that the derivative is not NaN:  \n",
    "`f(x, eps).diff(x).subs(x, 0) != NaN`\n",
    "\n",
    "For value continuity we want to match the limit:  \n",
    "`f(x, eps).subs(x, 0).limit(eps, 0) == f(x).limit(x, 0)`\n",
    "\n",
    "For derivative continuity we want to match the limit: \n",
    "`f(x, eps).diff(x).subs(x, 0).limit(eps, 0) == f(x).diff(x).limit(x, 0)`"
   ]
  },
  {
   "cell_type": "code",
   "execution_count": 1,
   "metadata": {
    "execution": {
     "iopub.execute_input": "2025-07-23T21:32:11.362249Z",
     "iopub.status.busy": "2025-07-23T21:32:11.361991Z",
     "iopub.status.idle": "2025-07-23T21:32:12.051203Z",
     "shell.execute_reply": "2025-07-23T21:32:12.050190Z"
    }
   },
   "outputs": [],
   "source": [
    "import numpy as np\n",
    "import plotly.express as px\n",
    "import sympy as sm\n",
    "\n",
    "x = sm.Symbol(\"x\")\n",
    "eps = sm.Symbol(\"epsilon\")"
   ]
  },
  {
   "attachments": {},
   "cell_type": "markdown",
   "metadata": {},
   "source": [
    "## An example: sin(x) / x\n",
    "\n",
    "For the whole section below, let's pretend x is positive so $x = -\\epsilon$ is not a fear. We'll address that later."
   ]
  },
  {
   "cell_type": "code",
   "execution_count": 2,
   "metadata": {
    "execution": {
     "iopub.execute_input": "2025-07-23T21:32:12.055103Z",
     "iopub.status.busy": "2025-07-23T21:32:12.054653Z",
     "iopub.status.idle": "2025-07-23T21:32:12.511209Z",
     "shell.execute_reply": "2025-07-23T21:32:12.510288Z"
    }
   },
   "outputs": [
    {
     "data": {
      "text/latex": [
       "$\\displaystyle \\frac{\\sin{\\left(x \\right)}}{x}$"
      ],
      "text/plain": [
       "sin(x)/x"
      ]
     },
     "execution_count": 2,
     "metadata": {},
     "output_type": "execute_result"
    }
   ],
   "source": [
    "# The function `sin(x) / x` looks like this:\n",
    "def f(x):\n",
    "    return sm.sin(x) / x\n",
    "\n",
    "\n",
    "f(x)"
   ]
  },
  {
   "cell_type": "code",
   "execution_count": 3,
   "metadata": {
    "execution": {
     "iopub.execute_input": "2025-07-23T21:32:12.516447Z",
     "iopub.status.busy": "2025-07-23T21:32:12.516133Z",
     "iopub.status.idle": "2025-07-23T21:32:13.168026Z",
     "shell.execute_reply": "2025-07-23T21:32:13.166344Z"
    }
   },
   "outputs": [
    {
     "data": {
      "application/vnd.plotly.v1+json": {
       "config": {
        "plotlyServerURL": "https://plot.ly"
       },
       "data": [
        {
         "hovertemplate": "x=%{x}<br>y=%{y}<extra></extra>",
         "legendgroup": "",
         "line": {
          "color": "#636efa",
          "dash": "solid"
         },
         "marker": {
          "symbol": "circle"
         },
         "mode": "lines",
         "name": "",
         "orientation": "v",
         "showlegend": false,
         "type": "scatter",
         "x": {
          "bdata": "AAAAAAAAFMDMKXg5BS8TwJhT8HIKXhLAY31orA+NEcAvp+DlFLwQwPahsT401g/AjfWhsT40DsAkSZIkSZIMwLycgpdT8ArAVPByCl5OCcDrQ2N9aKwHwIKXU/ByCgbAGutDY31oBMCyPjTWh8YCwEmSJEmSJAHAwMspeDkF/7/wcgpeTsH7vyAa60Njffi/TsHLKXg59b98aKwPjfXxv1gfGutDY+2/uG3btm3b5r8QvJyCl1Pgv+AUvJyCl9O/gMb60Fgfur+AxvrQWB+6P+AUvJyCl9M/GLycgpdT4D+4bdu2bdvmP1gfGutDY+0/gGisD4318T9QwcspeDn1PyAa60Njffg/8HIKXk7B+z/Ayyl4OQX/P0qSJEmSJAFAsj401ofGAkAa60NjfWgEQISXU/ByCgZA7ENjfWisB0BU8HIKXk4JQLycgpdT8ApAJEmSJEmSDECM9aGxPjQOQPihsT401g9AMKfg5RS8EEBkfWisD40RQJhT8HIKXhJAzCl4OQUvE0AAAAAAAAAUQA==",
          "dtype": "f8"
         },
         "xaxis": "x",
         "y": {
          "bdata": "9uDm92eMyL+Nv/ihp5jKvyfjFMxZrMu/O7yCKfuly7/9u2Bt42rKv5ONfPpj6Me/8uf//awUxL/dt20q4N69vwqtvmZzBLG/qBQNi5oPfL8oc52/w2KvP5kc4Dwqg8E/BahiXZjwyz8YO8evy3XTP26zmc2LHNk/U5I9HvnM3j83FzkoKTPiPwqvbTvJ4+Q/jKOMVDBo5z/ETn+7/rDpPx62pFYTsOs/FTJTF/VY7T+Y3bWSMKHuP8UsGsemgO8/LU6Shcrx7z8tTpKFyvHvP8UsGsemgO8/l921kjCh7j8VMlMX9VjtPx62pFYTsOs/wU5/u/6w6T+Lo4xUMGjnPwqvbTvJ4+Q/Nxc5KCkz4j9Tkj0e+czeP2qzmc2LHNk/GDvHr8t10z8FqGJdmPDLP4wc4Dwqg8E/EXOdv8Nirz+oFA2Lmg98vwqtvmZzBLG/3bdtKuDevb/w5//9rBTEv5eNfPpj6Me/AbxgbeNqyr88vIIp+6XLvyfjFMxZrMu/jb/4oaeYyr/24Ob3Z4zIvw==",
          "dtype": "f8"
         },
         "yaxis": "y"
        }
       ],
       "layout": {
        "legend": {
         "tracegroupgap": 0
        },
        "margin": {
         "t": 60
        },
        "template": {
         "data": {
          "bar": [
           {
            "error_x": {
             "color": "#2a3f5f"
            },
            "error_y": {
             "color": "#2a3f5f"
            },
            "marker": {
             "line": {
              "color": "#E5ECF6",
              "width": 0.5
             },
             "pattern": {
              "fillmode": "overlay",
              "size": 10,
              "solidity": 0.2
             }
            },
            "type": "bar"
           }
          ],
          "barpolar": [
           {
            "marker": {
             "line": {
              "color": "#E5ECF6",
              "width": 0.5
             },
             "pattern": {
              "fillmode": "overlay",
              "size": 10,
              "solidity": 0.2
             }
            },
            "type": "barpolar"
           }
          ],
          "carpet": [
           {
            "aaxis": {
             "endlinecolor": "#2a3f5f",
             "gridcolor": "white",
             "linecolor": "white",
             "minorgridcolor": "white",
             "startlinecolor": "#2a3f5f"
            },
            "baxis": {
             "endlinecolor": "#2a3f5f",
             "gridcolor": "white",
             "linecolor": "white",
             "minorgridcolor": "white",
             "startlinecolor": "#2a3f5f"
            },
            "type": "carpet"
           }
          ],
          "choropleth": [
           {
            "colorbar": {
             "outlinewidth": 0,
             "ticks": ""
            },
            "type": "choropleth"
           }
          ],
          "contour": [
           {
            "colorbar": {
             "outlinewidth": 0,
             "ticks": ""
            },
            "colorscale": [
             [
              0.0,
              "#0d0887"
             ],
             [
              0.1111111111111111,
              "#46039f"
             ],
             [
              0.2222222222222222,
              "#7201a8"
             ],
             [
              0.3333333333333333,
              "#9c179e"
             ],
             [
              0.4444444444444444,
              "#bd3786"
             ],
             [
              0.5555555555555556,
              "#d8576b"
             ],
             [
              0.6666666666666666,
              "#ed7953"
             ],
             [
              0.7777777777777778,
              "#fb9f3a"
             ],
             [
              0.8888888888888888,
              "#fdca26"
             ],
             [
              1.0,
              "#f0f921"
             ]
            ],
            "type": "contour"
           }
          ],
          "contourcarpet": [
           {
            "colorbar": {
             "outlinewidth": 0,
             "ticks": ""
            },
            "type": "contourcarpet"
           }
          ],
          "heatmap": [
           {
            "colorbar": {
             "outlinewidth": 0,
             "ticks": ""
            },
            "colorscale": [
             [
              0.0,
              "#0d0887"
             ],
             [
              0.1111111111111111,
              "#46039f"
             ],
             [
              0.2222222222222222,
              "#7201a8"
             ],
             [
              0.3333333333333333,
              "#9c179e"
             ],
             [
              0.4444444444444444,
              "#bd3786"
             ],
             [
              0.5555555555555556,
              "#d8576b"
             ],
             [
              0.6666666666666666,
              "#ed7953"
             ],
             [
              0.7777777777777778,
              "#fb9f3a"
             ],
             [
              0.8888888888888888,
              "#fdca26"
             ],
             [
              1.0,
              "#f0f921"
             ]
            ],
            "type": "heatmap"
           }
          ],
          "histogram": [
           {
            "marker": {
             "pattern": {
              "fillmode": "overlay",
              "size": 10,
              "solidity": 0.2
             }
            },
            "type": "histogram"
           }
          ],
          "histogram2d": [
           {
            "colorbar": {
             "outlinewidth": 0,
             "ticks": ""
            },
            "colorscale": [
             [
              0.0,
              "#0d0887"
             ],
             [
              0.1111111111111111,
              "#46039f"
             ],
             [
              0.2222222222222222,
              "#7201a8"
             ],
             [
              0.3333333333333333,
              "#9c179e"
             ],
             [
              0.4444444444444444,
              "#bd3786"
             ],
             [
              0.5555555555555556,
              "#d8576b"
             ],
             [
              0.6666666666666666,
              "#ed7953"
             ],
             [
              0.7777777777777778,
              "#fb9f3a"
             ],
             [
              0.8888888888888888,
              "#fdca26"
             ],
             [
              1.0,
              "#f0f921"
             ]
            ],
            "type": "histogram2d"
           }
          ],
          "histogram2dcontour": [
           {
            "colorbar": {
             "outlinewidth": 0,
             "ticks": ""
            },
            "colorscale": [
             [
              0.0,
              "#0d0887"
             ],
             [
              0.1111111111111111,
              "#46039f"
             ],
             [
              0.2222222222222222,
              "#7201a8"
             ],
             [
              0.3333333333333333,
              "#9c179e"
             ],
             [
              0.4444444444444444,
              "#bd3786"
             ],
             [
              0.5555555555555556,
              "#d8576b"
             ],
             [
              0.6666666666666666,
              "#ed7953"
             ],
             [
              0.7777777777777778,
              "#fb9f3a"
             ],
             [
              0.8888888888888888,
              "#fdca26"
             ],
             [
              1.0,
              "#f0f921"
             ]
            ],
            "type": "histogram2dcontour"
           }
          ],
          "mesh3d": [
           {
            "colorbar": {
             "outlinewidth": 0,
             "ticks": ""
            },
            "type": "mesh3d"
           }
          ],
          "parcoords": [
           {
            "line": {
             "colorbar": {
              "outlinewidth": 0,
              "ticks": ""
             }
            },
            "type": "parcoords"
           }
          ],
          "pie": [
           {
            "automargin": true,
            "type": "pie"
           }
          ],
          "scatter": [
           {
            "fillpattern": {
             "fillmode": "overlay",
             "size": 10,
             "solidity": 0.2
            },
            "type": "scatter"
           }
          ],
          "scatter3d": [
           {
            "line": {
             "colorbar": {
              "outlinewidth": 0,
              "ticks": ""
             }
            },
            "marker": {
             "colorbar": {
              "outlinewidth": 0,
              "ticks": ""
             }
            },
            "type": "scatter3d"
           }
          ],
          "scattercarpet": [
           {
            "marker": {
             "colorbar": {
              "outlinewidth": 0,
              "ticks": ""
             }
            },
            "type": "scattercarpet"
           }
          ],
          "scattergeo": [
           {
            "marker": {
             "colorbar": {
              "outlinewidth": 0,
              "ticks": ""
             }
            },
            "type": "scattergeo"
           }
          ],
          "scattergl": [
           {
            "marker": {
             "colorbar": {
              "outlinewidth": 0,
              "ticks": ""
             }
            },
            "type": "scattergl"
           }
          ],
          "scattermap": [
           {
            "marker": {
             "colorbar": {
              "outlinewidth": 0,
              "ticks": ""
             }
            },
            "type": "scattermap"
           }
          ],
          "scattermapbox": [
           {
            "marker": {
             "colorbar": {
              "outlinewidth": 0,
              "ticks": ""
             }
            },
            "type": "scattermapbox"
           }
          ],
          "scatterpolar": [
           {
            "marker": {
             "colorbar": {
              "outlinewidth": 0,
              "ticks": ""
             }
            },
            "type": "scatterpolar"
           }
          ],
          "scatterpolargl": [
           {
            "marker": {
             "colorbar": {
              "outlinewidth": 0,
              "ticks": ""
             }
            },
            "type": "scatterpolargl"
           }
          ],
          "scatterternary": [
           {
            "marker": {
             "colorbar": {
              "outlinewidth": 0,
              "ticks": ""
             }
            },
            "type": "scatterternary"
           }
          ],
          "surface": [
           {
            "colorbar": {
             "outlinewidth": 0,
             "ticks": ""
            },
            "colorscale": [
             [
              0.0,
              "#0d0887"
             ],
             [
              0.1111111111111111,
              "#46039f"
             ],
             [
              0.2222222222222222,
              "#7201a8"
             ],
             [
              0.3333333333333333,
              "#9c179e"
             ],
             [
              0.4444444444444444,
              "#bd3786"
             ],
             [
              0.5555555555555556,
              "#d8576b"
             ],
             [
              0.6666666666666666,
              "#ed7953"
             ],
             [
              0.7777777777777778,
              "#fb9f3a"
             ],
             [
              0.8888888888888888,
              "#fdca26"
             ],
             [
              1.0,
              "#f0f921"
             ]
            ],
            "type": "surface"
           }
          ],
          "table": [
           {
            "cells": {
             "fill": {
              "color": "#EBF0F8"
             },
             "line": {
              "color": "white"
             }
            },
            "header": {
             "fill": {
              "color": "#C8D4E3"
             },
             "line": {
              "color": "white"
             }
            },
            "type": "table"
           }
          ]
         },
         "layout": {
          "annotationdefaults": {
           "arrowcolor": "#2a3f5f",
           "arrowhead": 0,
           "arrowwidth": 1
          },
          "autotypenumbers": "strict",
          "coloraxis": {
           "colorbar": {
            "outlinewidth": 0,
            "ticks": ""
           }
          },
          "colorscale": {
           "diverging": [
            [
             0,
             "#8e0152"
            ],
            [
             0.1,
             "#c51b7d"
            ],
            [
             0.2,
             "#de77ae"
            ],
            [
             0.3,
             "#f1b6da"
            ],
            [
             0.4,
             "#fde0ef"
            ],
            [
             0.5,
             "#f7f7f7"
            ],
            [
             0.6,
             "#e6f5d0"
            ],
            [
             0.7,
             "#b8e186"
            ],
            [
             0.8,
             "#7fbc41"
            ],
            [
             0.9,
             "#4d9221"
            ],
            [
             1,
             "#276419"
            ]
           ],
           "sequential": [
            [
             0.0,
             "#0d0887"
            ],
            [
             0.1111111111111111,
             "#46039f"
            ],
            [
             0.2222222222222222,
             "#7201a8"
            ],
            [
             0.3333333333333333,
             "#9c179e"
            ],
            [
             0.4444444444444444,
             "#bd3786"
            ],
            [
             0.5555555555555556,
             "#d8576b"
            ],
            [
             0.6666666666666666,
             "#ed7953"
            ],
            [
             0.7777777777777778,
             "#fb9f3a"
            ],
            [
             0.8888888888888888,
             "#fdca26"
            ],
            [
             1.0,
             "#f0f921"
            ]
           ],
           "sequentialminus": [
            [
             0.0,
             "#0d0887"
            ],
            [
             0.1111111111111111,
             "#46039f"
            ],
            [
             0.2222222222222222,
             "#7201a8"
            ],
            [
             0.3333333333333333,
             "#9c179e"
            ],
            [
             0.4444444444444444,
             "#bd3786"
            ],
            [
             0.5555555555555556,
             "#d8576b"
            ],
            [
             0.6666666666666666,
             "#ed7953"
            ],
            [
             0.7777777777777778,
             "#fb9f3a"
            ],
            [
             0.8888888888888888,
             "#fdca26"
            ],
            [
             1.0,
             "#f0f921"
            ]
           ]
          },
          "colorway": [
           "#636efa",
           "#EF553B",
           "#00cc96",
           "#ab63fa",
           "#FFA15A",
           "#19d3f3",
           "#FF6692",
           "#B6E880",
           "#FF97FF",
           "#FECB52"
          ],
          "font": {
           "color": "#2a3f5f"
          },
          "geo": {
           "bgcolor": "white",
           "lakecolor": "white",
           "landcolor": "#E5ECF6",
           "showlakes": true,
           "showland": true,
           "subunitcolor": "white"
          },
          "hoverlabel": {
           "align": "left"
          },
          "hovermode": "closest",
          "mapbox": {
           "style": "light"
          },
          "paper_bgcolor": "white",
          "plot_bgcolor": "#E5ECF6",
          "polar": {
           "angularaxis": {
            "gridcolor": "white",
            "linecolor": "white",
            "ticks": ""
           },
           "bgcolor": "#E5ECF6",
           "radialaxis": {
            "gridcolor": "white",
            "linecolor": "white",
            "ticks": ""
           }
          },
          "scene": {
           "xaxis": {
            "backgroundcolor": "#E5ECF6",
            "gridcolor": "white",
            "gridwidth": 2,
            "linecolor": "white",
            "showbackground": true,
            "ticks": "",
            "zerolinecolor": "white"
           },
           "yaxis": {
            "backgroundcolor": "#E5ECF6",
            "gridcolor": "white",
            "gridwidth": 2,
            "linecolor": "white",
            "showbackground": true,
            "ticks": "",
            "zerolinecolor": "white"
           },
           "zaxis": {
            "backgroundcolor": "#E5ECF6",
            "gridcolor": "white",
            "gridwidth": 2,
            "linecolor": "white",
            "showbackground": true,
            "ticks": "",
            "zerolinecolor": "white"
           }
          },
          "shapedefaults": {
           "line": {
            "color": "#2a3f5f"
           }
          },
          "ternary": {
           "aaxis": {
            "gridcolor": "white",
            "linecolor": "white",
            "ticks": ""
           },
           "baxis": {
            "gridcolor": "white",
            "linecolor": "white",
            "ticks": ""
           },
           "bgcolor": "#E5ECF6",
           "caxis": {
            "gridcolor": "white",
            "linecolor": "white",
            "ticks": ""
           }
          },
          "title": {
           "x": 0.05
          },
          "xaxis": {
           "automargin": true,
           "gridcolor": "white",
           "linecolor": "white",
           "ticks": "",
           "title": {
            "standoff": 15
           },
           "zerolinecolor": "white",
           "zerolinewidth": 2
          },
          "yaxis": {
           "automargin": true,
           "gridcolor": "white",
           "linecolor": "white",
           "ticks": "",
           "title": {
            "standoff": 15
           },
           "zerolinecolor": "white",
           "zerolinewidth": 2
          }
         }
        },
        "xaxis": {
         "anchor": "y",
         "domain": [
          0.0,
          1.0
         ],
         "title": {
          "text": "x"
         }
        },
        "yaxis": {
         "anchor": "x",
         "domain": [
          0.0,
          1.0
         ],
         "title": {
          "text": "y"
         }
        }
       }
      }
     },
     "metadata": {},
     "output_type": "display_data"
    }
   ],
   "source": [
    "# And its graph:\n",
    "x_numerical = np.linspace(-5, 5)\n",
    "px.line(x=x_numerical, y=np.vectorize(f, otypes=[float])(x_numerical))"
   ]
  },
  {
   "cell_type": "code",
   "execution_count": 4,
   "metadata": {
    "execution": {
     "iopub.execute_input": "2025-07-23T21:32:13.173109Z",
     "iopub.status.busy": "2025-07-23T21:32:13.172792Z",
     "iopub.status.idle": "2025-07-23T21:32:13.181267Z",
     "shell.execute_reply": "2025-07-23T21:32:13.179714Z"
    }
   },
   "outputs": [
    {
     "data": {
      "text/latex": [
       "$\\displaystyle \\text{NaN}$"
      ],
      "text/plain": [
       "nan"
      ]
     },
     "execution_count": 4,
     "metadata": {},
     "output_type": "execute_result"
    }
   ],
   "source": [
    "# It has a removable singularity at 0, of the form 0/0, which gives NaN:\n",
    "f(x).subs(x, 0)"
   ]
  },
  {
   "cell_type": "code",
   "execution_count": 5,
   "metadata": {
    "execution": {
     "iopub.execute_input": "2025-07-23T21:32:13.185640Z",
     "iopub.status.busy": "2025-07-23T21:32:13.184561Z",
     "iopub.status.idle": "2025-07-23T21:32:13.210424Z",
     "shell.execute_reply": "2025-07-23T21:32:13.209579Z"
    }
   },
   "outputs": [
    {
     "data": {
      "text/latex": [
       "$\\displaystyle \\text{NaN}$"
      ],
      "text/plain": [
       "nan"
      ]
     },
     "execution_count": 5,
     "metadata": {},
     "output_type": "execute_result"
    }
   ],
   "source": [
    "# The derivative has the same issue:\n",
    "f(x).diff(x).subs(x, 0)"
   ]
  },
  {
   "attachments": {},
   "cell_type": "markdown",
   "metadata": {},
   "source": [
    "One thought to fix this might be to just push the denominator away from 0.  This does resolve the NaN, but it produces the wrong value! (Remember, the value at `x=0` should be 1)"
   ]
  },
  {
   "cell_type": "code",
   "execution_count": 6,
   "metadata": {
    "execution": {
     "iopub.execute_input": "2025-07-23T21:32:13.214147Z",
     "iopub.status.busy": "2025-07-23T21:32:13.213813Z",
     "iopub.status.idle": "2025-07-23T21:32:13.227044Z",
     "shell.execute_reply": "2025-07-23T21:32:13.226253Z"
    }
   },
   "outputs": [
    {
     "data": {
      "text/latex": [
       "$\\displaystyle 0$"
      ],
      "text/plain": [
       "0"
      ]
     },
     "execution_count": 6,
     "metadata": {},
     "output_type": "execute_result"
    }
   ],
   "source": [
    "def f(x, eps):\n",
    "    return sm.sin(x) / (x + eps)\n",
    "\n",
    "\n",
    "f(x, eps).subs(x, 0)"
   ]
  },
  {
   "attachments": {},
   "cell_type": "markdown",
   "metadata": {},
   "source": [
    "Similarly, the derivative is wrong, and actually diverges (it should be 0):"
   ]
  },
  {
   "cell_type": "code",
   "execution_count": 7,
   "metadata": {
    "execution": {
     "iopub.execute_input": "2025-07-23T21:32:13.230825Z",
     "iopub.status.busy": "2025-07-23T21:32:13.230480Z",
     "iopub.status.idle": "2025-07-23T21:32:13.258979Z",
     "shell.execute_reply": "2025-07-23T21:32:13.258138Z"
    }
   },
   "outputs": [
    {
     "data": {
      "text/latex": [
       "$\\displaystyle \\frac{1}{\\epsilon}$"
      ],
      "text/plain": [
       "1/epsilon"
      ]
     },
     "execution_count": 7,
     "metadata": {},
     "output_type": "execute_result"
    }
   ],
   "source": [
    "f(x, eps).diff(x).subs(x, 0)"
   ]
  },
  {
   "cell_type": "code",
   "execution_count": 8,
   "metadata": {
    "execution": {
     "iopub.execute_input": "2025-07-23T21:32:13.262854Z",
     "iopub.status.busy": "2025-07-23T21:32:13.262493Z",
     "iopub.status.idle": "2025-07-23T21:32:13.275880Z",
     "shell.execute_reply": "2025-07-23T21:32:13.274991Z"
    }
   },
   "outputs": [
    {
     "data": {
      "text/latex": [
       "$\\displaystyle \\infty$"
      ],
      "text/plain": [
       "oo"
      ]
     },
     "execution_count": 8,
     "metadata": {},
     "output_type": "execute_result"
    }
   ],
   "source": [
    "f(x, eps).diff(x).subs(x, 0).limit(eps, 0)"
   ]
  },
  {
   "attachments": {},
   "cell_type": "markdown",
   "metadata": {},
   "source": [
    "Instead, what we want to do is _perturb the input away from the singularity_.  Effectively, we're shifting the graph of the function to the left.  For removable singularities in well-behaved functions, the error introduced by this is proportional to epsilon.  That looks like this:"
   ]
  },
  {
   "cell_type": "code",
   "execution_count": 9,
   "metadata": {
    "execution": {
     "iopub.execute_input": "2025-07-23T21:32:13.279529Z",
     "iopub.status.busy": "2025-07-23T21:32:13.279208Z",
     "iopub.status.idle": "2025-07-23T21:32:13.290325Z",
     "shell.execute_reply": "2025-07-23T21:32:13.289556Z"
    }
   },
   "outputs": [
    {
     "data": {
      "text/latex": [
       "$\\displaystyle \\frac{\\sin{\\left(\\epsilon \\right)}}{\\epsilon}$"
      ],
      "text/plain": [
       "sin(epsilon)/epsilon"
      ]
     },
     "execution_count": 9,
     "metadata": {},
     "output_type": "execute_result"
    }
   ],
   "source": [
    "def f(x, eps):\n",
    "    x_safe = x + eps\n",
    "    return sm.sin(x_safe) / x_safe\n",
    "\n",
    "\n",
    "f(x, eps).subs(x, 0)"
   ]
  },
  {
   "cell_type": "code",
   "execution_count": 10,
   "metadata": {
    "execution": {
     "iopub.execute_input": "2025-07-23T21:32:13.294674Z",
     "iopub.status.busy": "2025-07-23T21:32:13.293577Z",
     "iopub.status.idle": "2025-07-23T21:32:13.302281Z",
     "shell.execute_reply": "2025-07-23T21:32:13.301444Z"
    }
   },
   "outputs": [
    {
     "data": {
      "text/latex": [
       "$\\displaystyle 1$"
      ],
      "text/plain": [
       "1"
      ]
     },
     "execution_count": 10,
     "metadata": {},
     "output_type": "execute_result"
    }
   ],
   "source": [
    "f(x, eps).subs(x, 0).limit(eps, 0)"
   ]
  },
  {
   "cell_type": "code",
   "execution_count": 11,
   "metadata": {
    "execution": {
     "iopub.execute_input": "2025-07-23T21:32:13.306644Z",
     "iopub.status.busy": "2025-07-23T21:32:13.305345Z",
     "iopub.status.idle": "2025-07-23T21:32:13.326388Z",
     "shell.execute_reply": "2025-07-23T21:32:13.325522Z"
    }
   },
   "outputs": [
    {
     "data": {
      "text/latex": [
       "$\\displaystyle \\frac{\\cos{\\left(\\epsilon \\right)}}{\\epsilon} - \\frac{\\sin{\\left(\\epsilon \\right)}}{\\epsilon^{2}}$"
      ],
      "text/plain": [
       "cos(epsilon)/epsilon - sin(epsilon)/epsilon**2"
      ]
     },
     "execution_count": 11,
     "metadata": {},
     "output_type": "execute_result"
    }
   ],
   "source": [
    "f(x, eps).diff(x).subs(x, 0)"
   ]
  },
  {
   "cell_type": "code",
   "execution_count": 12,
   "metadata": {
    "execution": {
     "iopub.execute_input": "2025-07-23T21:32:13.332843Z",
     "iopub.status.busy": "2025-07-23T21:32:13.329530Z",
     "iopub.status.idle": "2025-07-23T21:32:13.482174Z",
     "shell.execute_reply": "2025-07-23T21:32:13.481284Z"
    }
   },
   "outputs": [
    {
     "data": {
      "text/latex": [
       "$\\displaystyle 0$"
      ],
      "text/plain": [
       "0"
      ]
     },
     "execution_count": 12,
     "metadata": {},
     "output_type": "execute_result"
    }
   ],
   "source": [
    "f(x, eps).diff(x).subs(x, 0).limit(eps, 0)"
   ]
  },
  {
   "attachments": {},
   "cell_type": "markdown",
   "metadata": {},
   "source": [
    "## Automating Verification\n",
    "\n",
    "We can also write a function that automatically checks that you've used epsilon correctly, using SymPy's ability to take derivatives and limits as we've been doing above.  That looks something like this - similar functions are available in SymForce in [symforce.test_util.epsilon_handling](../api/symforce.test_util.epsilon_handling.html)."
   ]
  },
  {
   "cell_type": "code",
   "execution_count": 13,
   "metadata": {
    "execution": {
     "iopub.execute_input": "2025-07-23T21:32:13.485493Z",
     "iopub.status.busy": "2025-07-23T21:32:13.485140Z",
     "iopub.status.idle": "2025-07-23T21:32:13.498355Z",
     "shell.execute_reply": "2025-07-23T21:32:13.497567Z"
    }
   },
   "outputs": [],
   "source": [
    "def is_epsilon_correct(func, singularity=0, limit_direction=\"+\"):\n",
    "    \"\"\"\n",
    "    Check epsilon handling for a function that accepts a single value and an\n",
    "    epsilon.\n",
    "\n",
    "    For epsilon to be handled correctly, the function must:\n",
    "        1) evaluate to a non-singularity at x=singularity given epsilon\n",
    "        2) linear approximation of the original must match that taken with\n",
    "           epsilon then substituted to zero\n",
    "    \"\"\"\n",
    "    # Create symbols\n",
    "    x = sm.Symbol(\"x\", real=True)\n",
    "    epsilon = sm.Symbol(\"epsilon\", positive=True)\n",
    "\n",
    "    is_correct = True\n",
    "\n",
    "    # Evaluate expression\n",
    "    expr_eps = func(x, epsilon)\n",
    "    expr_raw = expr_eps.subs(epsilon, 0)\n",
    "\n",
    "    display(\"Expressions (raw / eps):\")\n",
    "    display(expr_raw)\n",
    "    display(expr_eps)\n",
    "\n",
    "    # Sub in zero\n",
    "    expr_eps_at_x_zero = expr_eps.subs(x, singularity)\n",
    "    if expr_eps_at_x_zero == sm.S.NaN:\n",
    "        display(\"[ERROR] Epsilon handling failed, expression at 0 is NaN.\")\n",
    "        is_correct = False\n",
    "\n",
    "    # Take constant approximation at singularity and check equivalence\n",
    "    value_x0_raw = sm.simplify(expr_raw.limit(x, singularity, limit_direction))\n",
    "    value_x0_eps = expr_eps.subs(x, singularity)\n",
    "    value_x0_eps_sub2 = sm.simplify(value_x0_eps.limit(epsilon, 0))\n",
    "    if value_x0_eps_sub2 != value_x0_raw:\n",
    "        display(\n",
    "            f\"[ERROR] Values at x={singularity} do not match (raw / eps / eps.limit):\",\n",
    "        )\n",
    "        display(value_x0_raw)\n",
    "        display(value_x0_eps)\n",
    "        display(value_x0_eps_sub2)\n",
    "        is_correct = False\n",
    "\n",
    "    # Take linear approximation at singularity and check equivalence\n",
    "    derivative_x0_raw = sm.simplify(\n",
    "        expr_raw.diff(x).limit(x, singularity, limit_direction),\n",
    "    )\n",
    "    derivative_x0_eps = expr_eps.diff(x).subs(x, singularity)\n",
    "    derivative_x0_eps_sub2 = sm.simplify(derivative_x0_eps.limit(epsilon, 0))\n",
    "    if derivative_x0_eps_sub2 != derivative_x0_raw:\n",
    "        display(\n",
    "            f\"[ERROR] Derivatives at x={singularity} do not match (raw / eps / eps.limit):\",\n",
    "        )\n",
    "        display(derivative_x0_raw)\n",
    "        display(derivative_x0_eps)\n",
    "        display(derivative_x0_eps_sub2)\n",
    "        is_correct = False\n",
    "\n",
    "    return is_correct"
   ]
  },
  {
   "attachments": {},
   "cell_type": "markdown",
   "metadata": {},
   "source": [
    "### Test sin(x) / x"
   ]
  },
  {
   "cell_type": "code",
   "execution_count": 14,
   "metadata": {
    "execution": {
     "iopub.execute_input": "2025-07-23T21:32:13.501820Z",
     "iopub.status.busy": "2025-07-23T21:32:13.501022Z",
     "iopub.status.idle": "2025-07-23T21:32:13.675331Z",
     "shell.execute_reply": "2025-07-23T21:32:13.674392Z"
    }
   },
   "outputs": [
    {
     "data": {
      "text/plain": [
       "'Expressions (raw / eps):'"
      ]
     },
     "metadata": {},
     "output_type": "display_data"
    },
    {
     "data": {
      "text/latex": [
       "$\\displaystyle \\frac{\\sin{\\left(x \\right)}}{x}$"
      ],
      "text/plain": [
       "sin(x)/x"
      ]
     },
     "metadata": {},
     "output_type": "display_data"
    },
    {
     "data": {
      "text/latex": [
       "$\\displaystyle \\frac{\\sin{\\left(x \\right)}}{x}$"
      ],
      "text/plain": [
       "sin(x)/x"
      ]
     },
     "metadata": {},
     "output_type": "display_data"
    },
    {
     "data": {
      "text/plain": [
       "'[ERROR] Epsilon handling failed, expression at 0 is NaN.'"
      ]
     },
     "metadata": {},
     "output_type": "display_data"
    },
    {
     "data": {
      "text/plain": [
       "'[ERROR] Values at x=0 do not match (raw / eps / eps.limit):'"
      ]
     },
     "metadata": {},
     "output_type": "display_data"
    },
    {
     "data": {
      "text/latex": [
       "$\\displaystyle 1$"
      ],
      "text/plain": [
       "1"
      ]
     },
     "metadata": {},
     "output_type": "display_data"
    },
    {
     "data": {
      "text/latex": [
       "$\\displaystyle \\text{NaN}$"
      ],
      "text/plain": [
       "nan"
      ]
     },
     "metadata": {},
     "output_type": "display_data"
    },
    {
     "data": {
      "text/latex": [
       "$\\displaystyle \\text{NaN}$"
      ],
      "text/plain": [
       "nan"
      ]
     },
     "metadata": {},
     "output_type": "display_data"
    },
    {
     "data": {
      "text/plain": [
       "'[ERROR] Derivatives at x=0 do not match (raw / eps / eps.limit):'"
      ]
     },
     "metadata": {},
     "output_type": "display_data"
    },
    {
     "data": {
      "text/latex": [
       "$\\displaystyle 0$"
      ],
      "text/plain": [
       "0"
      ]
     },
     "metadata": {},
     "output_type": "display_data"
    },
    {
     "data": {
      "text/latex": [
       "$\\displaystyle \\text{NaN}$"
      ],
      "text/plain": [
       "nan"
      ]
     },
     "metadata": {},
     "output_type": "display_data"
    },
    {
     "data": {
      "text/latex": [
       "$\\displaystyle \\text{NaN}$"
      ],
      "text/plain": [
       "nan"
      ]
     },
     "metadata": {},
     "output_type": "display_data"
    }
   ],
   "source": [
    "# Original function fails, singular at x=0\n",
    "correct = is_epsilon_correct(lambda x, eps: sm.sin(x) / x)\n",
    "assert not correct"
   ]
  },
  {
   "cell_type": "code",
   "execution_count": 15,
   "metadata": {
    "execution": {
     "iopub.execute_input": "2025-07-23T21:32:13.678576Z",
     "iopub.status.busy": "2025-07-23T21:32:13.678248Z",
     "iopub.status.idle": "2025-07-23T21:32:13.736237Z",
     "shell.execute_reply": "2025-07-23T21:32:13.735581Z"
    }
   },
   "outputs": [
    {
     "data": {
      "text/plain": [
       "'Expressions (raw / eps):'"
      ]
     },
     "metadata": {},
     "output_type": "display_data"
    },
    {
     "data": {
      "text/latex": [
       "$\\displaystyle \\frac{\\sin{\\left(x \\right)}}{x}$"
      ],
      "text/plain": [
       "sin(x)/x"
      ]
     },
     "metadata": {},
     "output_type": "display_data"
    },
    {
     "data": {
      "text/latex": [
       "$\\displaystyle \\frac{\\sin{\\left(x \\right)}}{\\epsilon + x}$"
      ],
      "text/plain": [
       "sin(x)/(epsilon + x)"
      ]
     },
     "metadata": {},
     "output_type": "display_data"
    },
    {
     "data": {
      "text/plain": [
       "'[ERROR] Values at x=0 do not match (raw / eps / eps.limit):'"
      ]
     },
     "metadata": {},
     "output_type": "display_data"
    },
    {
     "data": {
      "text/latex": [
       "$\\displaystyle 1$"
      ],
      "text/plain": [
       "1"
      ]
     },
     "metadata": {},
     "output_type": "display_data"
    },
    {
     "data": {
      "text/latex": [
       "$\\displaystyle 0$"
      ],
      "text/plain": [
       "0"
      ]
     },
     "metadata": {},
     "output_type": "display_data"
    },
    {
     "data": {
      "text/latex": [
       "$\\displaystyle 0$"
      ],
      "text/plain": [
       "0"
      ]
     },
     "metadata": {},
     "output_type": "display_data"
    },
    {
     "data": {
      "text/plain": [
       "'[ERROR] Derivatives at x=0 do not match (raw / eps / eps.limit):'"
      ]
     },
     "metadata": {},
     "output_type": "display_data"
    },
    {
     "data": {
      "text/latex": [
       "$\\displaystyle 0$"
      ],
      "text/plain": [
       "0"
      ]
     },
     "metadata": {},
     "output_type": "display_data"
    },
    {
     "data": {
      "text/latex": [
       "$\\displaystyle \\frac{1}{\\epsilon}$"
      ],
      "text/plain": [
       "1/epsilon"
      ]
     },
     "metadata": {},
     "output_type": "display_data"
    },
    {
     "data": {
      "text/latex": [
       "$\\displaystyle \\infty$"
      ],
      "text/plain": [
       "oo"
      ]
     },
     "metadata": {},
     "output_type": "display_data"
    }
   ],
   "source": [
    "# Original broken attempt\n",
    "correct = is_epsilon_correct(lambda x, eps: sm.sin(x) / (eps + x))\n",
    "assert not correct"
   ]
  },
  {
   "cell_type": "code",
   "execution_count": 16,
   "metadata": {
    "execution": {
     "iopub.execute_input": "2025-07-23T21:32:13.740044Z",
     "iopub.status.busy": "2025-07-23T21:32:13.739533Z",
     "iopub.status.idle": "2025-07-23T21:32:13.761147Z",
     "shell.execute_reply": "2025-07-23T21:32:13.760473Z"
    }
   },
   "outputs": [
    {
     "data": {
      "text/plain": [
       "'Expressions (raw / eps):'"
      ]
     },
     "metadata": {},
     "output_type": "display_data"
    },
    {
     "data": {
      "text/latex": [
       "$\\displaystyle \\frac{\\sin{\\left(x \\right)}}{x}$"
      ],
      "text/plain": [
       "sin(x)/x"
      ]
     },
     "metadata": {},
     "output_type": "display_data"
    },
    {
     "data": {
      "text/latex": [
       "$\\displaystyle \\frac{\\epsilon + \\sin{\\left(x \\right)}}{\\epsilon + x}$"
      ],
      "text/plain": [
       "(epsilon + sin(x))/(epsilon + x)"
      ]
     },
     "metadata": {},
     "output_type": "display_data"
    }
   ],
   "source": [
    "# Additive on top/bottom works\n",
    "correct = is_epsilon_correct(lambda x, eps: (eps + sm.sin(x)) / (eps + x))\n",
    "assert correct"
   ]
  },
  {
   "cell_type": "code",
   "execution_count": 17,
   "metadata": {
    "execution": {
     "iopub.execute_input": "2025-07-23T21:32:13.764671Z",
     "iopub.status.busy": "2025-07-23T21:32:13.764383Z",
     "iopub.status.idle": "2025-07-23T21:32:13.871386Z",
     "shell.execute_reply": "2025-07-23T21:32:13.870585Z"
    }
   },
   "outputs": [
    {
     "data": {
      "text/plain": [
       "'Expressions (raw / eps):'"
      ]
     },
     "metadata": {},
     "output_type": "display_data"
    },
    {
     "data": {
      "text/latex": [
       "$\\displaystyle \\frac{\\sin{\\left(x \\right)}}{x}$"
      ],
      "text/plain": [
       "sin(x)/x"
      ]
     },
     "metadata": {},
     "output_type": "display_data"
    },
    {
     "data": {
      "text/latex": [
       "$\\displaystyle \\frac{\\sin{\\left(\\epsilon + x \\right)}}{\\epsilon + x}$"
      ],
      "text/plain": [
       "sin(epsilon + x)/(epsilon + x)"
      ]
     },
     "metadata": {},
     "output_type": "display_data"
    }
   ],
   "source": [
    "# Replacing all x with (x + eps) works\n",
    "correct = is_epsilon_correct(lambda x, eps: sm.sin(x + eps) / (x + eps))\n",
    "assert correct"
   ]
  },
  {
   "attachments": {},
   "cell_type": "markdown",
   "metadata": {},
   "source": [
    "### Test (1 - cos(x)) / x"
   ]
  },
  {
   "cell_type": "code",
   "execution_count": 18,
   "metadata": {
    "execution": {
     "iopub.execute_input": "2025-07-23T21:32:13.875343Z",
     "iopub.status.busy": "2025-07-23T21:32:13.875025Z",
     "iopub.status.idle": "2025-07-23T21:32:14.045732Z",
     "shell.execute_reply": "2025-07-23T21:32:14.044978Z"
    }
   },
   "outputs": [
    {
     "data": {
      "text/plain": [
       "'Expressions (raw / eps):'"
      ]
     },
     "metadata": {},
     "output_type": "display_data"
    },
    {
     "data": {
      "text/latex": [
       "$\\displaystyle \\frac{1 - \\cos{\\left(x \\right)}}{x}$"
      ],
      "text/plain": [
       "(1 - cos(x))/x"
      ]
     },
     "metadata": {},
     "output_type": "display_data"
    },
    {
     "data": {
      "text/latex": [
       "$\\displaystyle \\frac{1 - \\cos{\\left(x \\right)}}{x}$"
      ],
      "text/plain": [
       "(1 - cos(x))/x"
      ]
     },
     "metadata": {},
     "output_type": "display_data"
    },
    {
     "data": {
      "text/plain": [
       "'[ERROR] Epsilon handling failed, expression at 0 is NaN.'"
      ]
     },
     "metadata": {},
     "output_type": "display_data"
    },
    {
     "data": {
      "text/plain": [
       "'[ERROR] Values at x=0 do not match (raw / eps / eps.limit):'"
      ]
     },
     "metadata": {},
     "output_type": "display_data"
    },
    {
     "data": {
      "text/latex": [
       "$\\displaystyle 0$"
      ],
      "text/plain": [
       "0"
      ]
     },
     "metadata": {},
     "output_type": "display_data"
    },
    {
     "data": {
      "text/latex": [
       "$\\displaystyle \\text{NaN}$"
      ],
      "text/plain": [
       "nan"
      ]
     },
     "metadata": {},
     "output_type": "display_data"
    },
    {
     "data": {
      "text/latex": [
       "$\\displaystyle \\text{NaN}$"
      ],
      "text/plain": [
       "nan"
      ]
     },
     "metadata": {},
     "output_type": "display_data"
    },
    {
     "data": {
      "text/plain": [
       "'[ERROR] Derivatives at x=0 do not match (raw / eps / eps.limit):'"
      ]
     },
     "metadata": {},
     "output_type": "display_data"
    },
    {
     "data": {
      "text/latex": [
       "$\\displaystyle \\frac{1}{2}$"
      ],
      "text/plain": [
       "1/2"
      ]
     },
     "metadata": {},
     "output_type": "display_data"
    },
    {
     "data": {
      "text/latex": [
       "$\\displaystyle \\text{NaN}$"
      ],
      "text/plain": [
       "nan"
      ]
     },
     "metadata": {},
     "output_type": "display_data"
    },
    {
     "data": {
      "text/latex": [
       "$\\displaystyle \\text{NaN}$"
      ],
      "text/plain": [
       "nan"
      ]
     },
     "metadata": {},
     "output_type": "display_data"
    }
   ],
   "source": [
    "# Original fails, singular at 0\n",
    "correct = is_epsilon_correct(lambda x, eps: (1 - sm.cos(x)) / x)\n",
    "assert not correct"
   ]
  },
  {
   "cell_type": "code",
   "execution_count": 19,
   "metadata": {
    "execution": {
     "iopub.execute_input": "2025-07-23T21:32:14.048817Z",
     "iopub.status.busy": "2025-07-23T21:32:14.048526Z",
     "iopub.status.idle": "2025-07-23T21:32:14.081890Z",
     "shell.execute_reply": "2025-07-23T21:32:14.081218Z"
    }
   },
   "outputs": [
    {
     "data": {
      "text/plain": [
       "'Expressions (raw / eps):'"
      ]
     },
     "metadata": {},
     "output_type": "display_data"
    },
    {
     "data": {
      "text/latex": [
       "$\\displaystyle \\frac{1 - \\cos{\\left(x \\right)}}{x}$"
      ],
      "text/plain": [
       "(1 - cos(x))/x"
      ]
     },
     "metadata": {},
     "output_type": "display_data"
    },
    {
     "data": {
      "text/latex": [
       "$\\displaystyle \\frac{1 - \\cos{\\left(x \\right)}}{\\epsilon + x}$"
      ],
      "text/plain": [
       "(1 - cos(x))/(epsilon + x)"
      ]
     },
     "metadata": {},
     "output_type": "display_data"
    },
    {
     "data": {
      "text/plain": [
       "'[ERROR] Derivatives at x=0 do not match (raw / eps / eps.limit):'"
      ]
     },
     "metadata": {},
     "output_type": "display_data"
    },
    {
     "data": {
      "text/latex": [
       "$\\displaystyle \\frac{1}{2}$"
      ],
      "text/plain": [
       "1/2"
      ]
     },
     "metadata": {},
     "output_type": "display_data"
    },
    {
     "data": {
      "text/latex": [
       "$\\displaystyle 0$"
      ],
      "text/plain": [
       "0"
      ]
     },
     "metadata": {},
     "output_type": "display_data"
    },
    {
     "data": {
      "text/latex": [
       "$\\displaystyle 0$"
      ],
      "text/plain": [
       "0"
      ]
     },
     "metadata": {},
     "output_type": "display_data"
    }
   ],
   "source": [
    "# Value passes if we just replace the denominator, because this one is\n",
    "# ~ x**2 / x unlike the above which is ~ x / x\n",
    "correct = is_epsilon_correct(lambda x, eps: (1 - sm.cos(x)) / (x + eps))\n",
    "assert not correct"
   ]
  },
  {
   "cell_type": "code",
   "execution_count": 20,
   "metadata": {
    "execution": {
     "iopub.execute_input": "2025-07-23T21:32:14.085039Z",
     "iopub.status.busy": "2025-07-23T21:32:14.084767Z",
     "iopub.status.idle": "2025-07-23T21:32:14.217810Z",
     "shell.execute_reply": "2025-07-23T21:32:14.216838Z"
    }
   },
   "outputs": [
    {
     "data": {
      "text/plain": [
       "'Expressions (raw / eps):'"
      ]
     },
     "metadata": {},
     "output_type": "display_data"
    },
    {
     "data": {
      "text/latex": [
       "$\\displaystyle \\frac{1 - \\cos{\\left(x \\right)}}{x}$"
      ],
      "text/plain": [
       "(1 - cos(x))/x"
      ]
     },
     "metadata": {},
     "output_type": "display_data"
    },
    {
     "data": {
      "text/latex": [
       "$\\displaystyle \\frac{1 - \\cos{\\left(\\epsilon + x \\right)}}{\\epsilon + x}$"
      ],
      "text/plain": [
       "(1 - cos(epsilon + x))/(epsilon + x)"
      ]
     },
     "metadata": {},
     "output_type": "display_data"
    }
   ],
   "source": [
    "# Derivative also passes if we replace both\n",
    "correct = is_epsilon_correct(lambda x, eps: (1 - sm.cos(x + eps)) / (x + eps))\n",
    "assert correct"
   ]
  },
  {
   "attachments": {},
   "cell_type": "markdown",
   "metadata": {},
   "source": [
    "### Test x / sqrt(x**2)"
   ]
  },
  {
   "cell_type": "code",
   "execution_count": 21,
   "metadata": {
    "execution": {
     "iopub.execute_input": "2025-07-23T21:32:14.222295Z",
     "iopub.status.busy": "2025-07-23T21:32:14.221929Z",
     "iopub.status.idle": "2025-07-23T21:32:14.277682Z",
     "shell.execute_reply": "2025-07-23T21:32:14.276806Z"
    }
   },
   "outputs": [
    {
     "data": {
      "text/plain": [
       "'Expressions (raw / eps):'"
      ]
     },
     "metadata": {},
     "output_type": "display_data"
    },
    {
     "data": {
      "text/latex": [
       "$\\displaystyle \\frac{x}{\\left|{x}\\right|}$"
      ],
      "text/plain": [
       "x/Abs(x)"
      ]
     },
     "metadata": {},
     "output_type": "display_data"
    },
    {
     "data": {
      "text/latex": [
       "$\\displaystyle \\frac{x}{\\left|{x}\\right|}$"
      ],
      "text/plain": [
       "x/Abs(x)"
      ]
     },
     "metadata": {},
     "output_type": "display_data"
    },
    {
     "data": {
      "text/plain": [
       "'[ERROR] Epsilon handling failed, expression at 0 is NaN.'"
      ]
     },
     "metadata": {},
     "output_type": "display_data"
    },
    {
     "data": {
      "text/plain": [
       "'[ERROR] Values at x=0 do not match (raw / eps / eps.limit):'"
      ]
     },
     "metadata": {},
     "output_type": "display_data"
    },
    {
     "data": {
      "text/latex": [
       "$\\displaystyle 1$"
      ],
      "text/plain": [
       "1"
      ]
     },
     "metadata": {},
     "output_type": "display_data"
    },
    {
     "data": {
      "text/latex": [
       "$\\displaystyle \\text{NaN}$"
      ],
      "text/plain": [
       "nan"
      ]
     },
     "metadata": {},
     "output_type": "display_data"
    },
    {
     "data": {
      "text/latex": [
       "$\\displaystyle \\text{NaN}$"
      ],
      "text/plain": [
       "nan"
      ]
     },
     "metadata": {},
     "output_type": "display_data"
    },
    {
     "data": {
      "text/plain": [
       "'[ERROR] Derivatives at x=0 do not match (raw / eps / eps.limit):'"
      ]
     },
     "metadata": {},
     "output_type": "display_data"
    },
    {
     "data": {
      "text/latex": [
       "$\\displaystyle 0$"
      ],
      "text/plain": [
       "0"
      ]
     },
     "metadata": {},
     "output_type": "display_data"
    },
    {
     "data": {
      "text/latex": [
       "$\\displaystyle \\text{NaN}$"
      ],
      "text/plain": [
       "nan"
      ]
     },
     "metadata": {},
     "output_type": "display_data"
    },
    {
     "data": {
      "text/latex": [
       "$\\displaystyle \\text{NaN}$"
      ],
      "text/plain": [
       "nan"
      ]
     },
     "metadata": {},
     "output_type": "display_data"
    }
   ],
   "source": [
    "# Original fails, singular at 0\n",
    "correct = is_epsilon_correct(lambda x, eps: x / sm.sqrt(x**2))\n",
    "assert not correct"
   ]
  },
  {
   "cell_type": "code",
   "execution_count": 22,
   "metadata": {
    "execution": {
     "iopub.execute_input": "2025-07-23T21:32:14.282255Z",
     "iopub.status.busy": "2025-07-23T21:32:14.281141Z",
     "iopub.status.idle": "2025-07-23T21:32:14.336435Z",
     "shell.execute_reply": "2025-07-23T21:32:14.335717Z"
    }
   },
   "outputs": [
    {
     "data": {
      "text/plain": [
       "'Expressions (raw / eps):'"
      ]
     },
     "metadata": {},
     "output_type": "display_data"
    },
    {
     "data": {
      "text/latex": [
       "$\\displaystyle \\frac{x}{\\left|{x}\\right|}$"
      ],
      "text/plain": [
       "x/Abs(x)"
      ]
     },
     "metadata": {},
     "output_type": "display_data"
    },
    {
     "data": {
      "text/latex": [
       "$\\displaystyle \\frac{x}{\\sqrt{\\epsilon^{2} + x^{2}}}$"
      ],
      "text/plain": [
       "x/sqrt(epsilon**2 + x**2)"
      ]
     },
     "metadata": {},
     "output_type": "display_data"
    },
    {
     "data": {
      "text/plain": [
       "'[ERROR] Values at x=0 do not match (raw / eps / eps.limit):'"
      ]
     },
     "metadata": {},
     "output_type": "display_data"
    },
    {
     "data": {
      "text/latex": [
       "$\\displaystyle 1$"
      ],
      "text/plain": [
       "1"
      ]
     },
     "metadata": {},
     "output_type": "display_data"
    },
    {
     "data": {
      "text/latex": [
       "$\\displaystyle 0$"
      ],
      "text/plain": [
       "0"
      ]
     },
     "metadata": {},
     "output_type": "display_data"
    },
    {
     "data": {
      "text/latex": [
       "$\\displaystyle 0$"
      ],
      "text/plain": [
       "0"
      ]
     },
     "metadata": {},
     "output_type": "display_data"
    },
    {
     "data": {
      "text/plain": [
       "'[ERROR] Derivatives at x=0 do not match (raw / eps / eps.limit):'"
      ]
     },
     "metadata": {},
     "output_type": "display_data"
    },
    {
     "data": {
      "text/latex": [
       "$\\displaystyle 0$"
      ],
      "text/plain": [
       "0"
      ]
     },
     "metadata": {},
     "output_type": "display_data"
    },
    {
     "data": {
      "text/latex": [
       "$\\displaystyle \\frac{1}{\\epsilon}$"
      ],
      "text/plain": [
       "1/epsilon"
      ]
     },
     "metadata": {},
     "output_type": "display_data"
    },
    {
     "data": {
      "text/latex": [
       "$\\displaystyle \\infty$"
      ],
      "text/plain": [
       "oo"
      ]
     },
     "metadata": {},
     "output_type": "display_data"
    }
   ],
   "source": [
    "# Broken fix #1\n",
    "correct = is_epsilon_correct(lambda x, eps: x / sm.sqrt(x**2 + eps**2))\n",
    "assert not correct"
   ]
  },
  {
   "cell_type": "code",
   "execution_count": 23,
   "metadata": {
    "execution": {
     "iopub.execute_input": "2025-07-23T21:32:14.341067Z",
     "iopub.status.busy": "2025-07-23T21:32:14.339966Z",
     "iopub.status.idle": "2025-07-23T21:32:14.373588Z",
     "shell.execute_reply": "2025-07-23T21:32:14.372863Z"
    }
   },
   "outputs": [
    {
     "data": {
      "text/plain": [
       "'Expressions (raw / eps):'"
      ]
     },
     "metadata": {},
     "output_type": "display_data"
    },
    {
     "data": {
      "text/latex": [
       "$\\displaystyle \\frac{x}{\\left|{x}\\right|}$"
      ],
      "text/plain": [
       "x/Abs(x)"
      ]
     },
     "metadata": {},
     "output_type": "display_data"
    },
    {
     "data": {
      "text/latex": [
       "$\\displaystyle \\frac{\\epsilon + x}{\\sqrt{\\epsilon^{2} + x^{2}}}$"
      ],
      "text/plain": [
       "(epsilon + x)/sqrt(epsilon**2 + x**2)"
      ]
     },
     "metadata": {},
     "output_type": "display_data"
    },
    {
     "data": {
      "text/plain": [
       "'[ERROR] Derivatives at x=0 do not match (raw / eps / eps.limit):'"
      ]
     },
     "metadata": {},
     "output_type": "display_data"
    },
    {
     "data": {
      "text/latex": [
       "$\\displaystyle 0$"
      ],
      "text/plain": [
       "0"
      ]
     },
     "metadata": {},
     "output_type": "display_data"
    },
    {
     "data": {
      "text/latex": [
       "$\\displaystyle \\frac{1}{\\epsilon}$"
      ],
      "text/plain": [
       "1/epsilon"
      ]
     },
     "metadata": {},
     "output_type": "display_data"
    },
    {
     "data": {
      "text/latex": [
       "$\\displaystyle \\infty$"
      ],
      "text/plain": [
       "oo"
      ]
     },
     "metadata": {},
     "output_type": "display_data"
    }
   ],
   "source": [
    "# Broken fix #2\n",
    "correct = is_epsilon_correct(\n",
    "    lambda x, eps: (x + eps) / sm.sqrt(x**2 + eps**2),\n",
    ")\n",
    "assert not correct"
   ]
  },
  {
   "cell_type": "code",
   "execution_count": 24,
   "metadata": {
    "execution": {
     "iopub.execute_input": "2025-07-23T21:32:14.377352Z",
     "iopub.status.busy": "2025-07-23T21:32:14.377034Z",
     "iopub.status.idle": "2025-07-23T21:32:14.432391Z",
     "shell.execute_reply": "2025-07-23T21:32:14.431650Z"
    }
   },
   "outputs": [
    {
     "data": {
      "text/plain": [
       "'Expressions (raw / eps):'"
      ]
     },
     "metadata": {},
     "output_type": "display_data"
    },
    {
     "data": {
      "text/latex": [
       "$\\displaystyle \\frac{x}{\\left|{x}\\right|}$"
      ],
      "text/plain": [
       "x/Abs(x)"
      ]
     },
     "metadata": {},
     "output_type": "display_data"
    },
    {
     "data": {
      "text/latex": [
       "$\\displaystyle \\frac{\\epsilon + x}{\\epsilon + \\sqrt{\\epsilon^{2} + x^{2}}}$"
      ],
      "text/plain": [
       "(epsilon + x)/(epsilon + sqrt(epsilon**2 + x**2))"
      ]
     },
     "metadata": {},
     "output_type": "display_data"
    },
    {
     "data": {
      "text/plain": [
       "'[ERROR] Values at x=0 do not match (raw / eps / eps.limit):'"
      ]
     },
     "metadata": {},
     "output_type": "display_data"
    },
    {
     "data": {
      "text/latex": [
       "$\\displaystyle 1$"
      ],
      "text/plain": [
       "1"
      ]
     },
     "metadata": {},
     "output_type": "display_data"
    },
    {
     "data": {
      "text/latex": [
       "$\\displaystyle \\frac{1}{2}$"
      ],
      "text/plain": [
       "1/2"
      ]
     },
     "metadata": {},
     "output_type": "display_data"
    },
    {
     "data": {
      "text/latex": [
       "$\\displaystyle \\frac{1}{2}$"
      ],
      "text/plain": [
       "1/2"
      ]
     },
     "metadata": {},
     "output_type": "display_data"
    },
    {
     "data": {
      "text/plain": [
       "'[ERROR] Derivatives at x=0 do not match (raw / eps / eps.limit):'"
      ]
     },
     "metadata": {},
     "output_type": "display_data"
    },
    {
     "data": {
      "text/latex": [
       "$\\displaystyle 0$"
      ],
      "text/plain": [
       "0"
      ]
     },
     "metadata": {},
     "output_type": "display_data"
    },
    {
     "data": {
      "text/latex": [
       "$\\displaystyle \\frac{1}{2 \\epsilon}$"
      ],
      "text/plain": [
       "1/(2*epsilon)"
      ]
     },
     "metadata": {},
     "output_type": "display_data"
    },
    {
     "data": {
      "text/latex": [
       "$\\displaystyle \\infty$"
      ],
      "text/plain": [
       "oo"
      ]
     },
     "metadata": {},
     "output_type": "display_data"
    }
   ],
   "source": [
    "# Broken fix #3, ugh\n",
    "correct = is_epsilon_correct(\n",
    "    lambda x, eps: (x + eps) / (eps + sm.sqrt(x**2 + eps**2)),\n",
    ")\n",
    "assert not correct"
   ]
  },
  {
   "cell_type": "code",
   "execution_count": 25,
   "metadata": {
    "execution": {
     "iopub.execute_input": "2025-07-23T21:32:14.436476Z",
     "iopub.status.busy": "2025-07-23T21:32:14.436178Z",
     "iopub.status.idle": "2025-07-23T21:32:14.465261Z",
     "shell.execute_reply": "2025-07-23T21:32:14.464375Z"
    }
   },
   "outputs": [
    {
     "data": {
      "text/plain": [
       "'Expressions (raw / eps):'"
      ]
     },
     "metadata": {},
     "output_type": "display_data"
    },
    {
     "data": {
      "text/latex": [
       "$\\displaystyle \\frac{x}{\\left|{x}\\right|}$"
      ],
      "text/plain": [
       "x/Abs(x)"
      ]
     },
     "metadata": {},
     "output_type": "display_data"
    },
    {
     "data": {
      "text/latex": [
       "$\\displaystyle \\frac{\\epsilon + x}{\\left|{\\epsilon + x}\\right|}$"
      ],
      "text/plain": [
       "(epsilon + x)/Abs(epsilon + x)"
      ]
     },
     "metadata": {},
     "output_type": "display_data"
    }
   ],
   "source": [
    "# Working if you again replace all x with x + eps\n",
    "correct = is_epsilon_correct(\n",
    "    lambda x, eps: (x + eps) / sm.sqrt((x + eps) ** 2),\n",
    ")\n",
    "assert correct"
   ]
  },
  {
   "attachments": {},
   "cell_type": "markdown",
   "metadata": {},
   "source": [
    "### Test acos(x) / sqrt(1 - x^2) at 1"
   ]
  },
  {
   "cell_type": "code",
   "execution_count": 26,
   "metadata": {
    "execution": {
     "iopub.execute_input": "2025-07-23T21:32:14.468833Z",
     "iopub.status.busy": "2025-07-23T21:32:14.468496Z",
     "iopub.status.idle": "2025-07-23T21:32:17.034396Z",
     "shell.execute_reply": "2025-07-23T21:32:17.033762Z"
    }
   },
   "outputs": [
    {
     "data": {
      "text/plain": [
       "'Expressions (raw / eps):'"
      ]
     },
     "metadata": {},
     "output_type": "display_data"
    },
    {
     "data": {
      "text/latex": [
       "$\\displaystyle \\frac{\\operatorname{acos}{\\left(x \\right)}}{\\sqrt{1 - x^{2}}}$"
      ],
      "text/plain": [
       "acos(x)/sqrt(1 - x**2)"
      ]
     },
     "metadata": {},
     "output_type": "display_data"
    },
    {
     "data": {
      "text/latex": [
       "$\\displaystyle \\frac{\\operatorname{acos}{\\left(x \\right)}}{\\sqrt{1 - x^{2}}}$"
      ],
      "text/plain": [
       "acos(x)/sqrt(1 - x**2)"
      ]
     },
     "metadata": {},
     "output_type": "display_data"
    },
    {
     "data": {
      "text/plain": [
       "'[ERROR] Epsilon handling failed, expression at 0 is NaN.'"
      ]
     },
     "metadata": {},
     "output_type": "display_data"
    },
    {
     "data": {
      "text/plain": [
       "'[ERROR] Values at x=1 do not match (raw / eps / eps.limit):'"
      ]
     },
     "metadata": {},
     "output_type": "display_data"
    },
    {
     "data": {
      "text/latex": [
       "$\\displaystyle 1$"
      ],
      "text/plain": [
       "1"
      ]
     },
     "metadata": {},
     "output_type": "display_data"
    },
    {
     "data": {
      "text/latex": [
       "$\\displaystyle \\text{NaN}$"
      ],
      "text/plain": [
       "nan"
      ]
     },
     "metadata": {},
     "output_type": "display_data"
    },
    {
     "data": {
      "text/latex": [
       "$\\displaystyle \\text{NaN}$"
      ],
      "text/plain": [
       "nan"
      ]
     },
     "metadata": {},
     "output_type": "display_data"
    },
    {
     "data": {
      "text/plain": [
       "'[ERROR] Derivatives at x=1 do not match (raw / eps / eps.limit):'"
      ]
     },
     "metadata": {},
     "output_type": "display_data"
    },
    {
     "data": {
      "text/latex": [
       "$\\displaystyle - \\frac{1}{3}$"
      ],
      "text/plain": [
       "-1/3"
      ]
     },
     "metadata": {},
     "output_type": "display_data"
    },
    {
     "data": {
      "text/latex": [
       "$\\displaystyle \\text{NaN}$"
      ],
      "text/plain": [
       "nan"
      ]
     },
     "metadata": {},
     "output_type": "display_data"
    },
    {
     "data": {
      "text/latex": [
       "$\\displaystyle \\text{NaN}$"
      ],
      "text/plain": [
       "nan"
      ]
     },
     "metadata": {},
     "output_type": "display_data"
    }
   ],
   "source": [
    "# Original fails, singular at 1\n",
    "correct = is_epsilon_correct(\n",
    "    lambda x, eps: sm.acos(x) / sm.sqrt(1 - x**2),\n",
    "    singularity=1,\n",
    ")\n",
    "assert not correct"
   ]
  },
  {
   "cell_type": "code",
   "execution_count": 27,
   "metadata": {
    "execution": {
     "iopub.execute_input": "2025-07-23T21:32:17.037295Z",
     "iopub.status.busy": "2025-07-23T21:32:17.037034Z",
     "iopub.status.idle": "2025-07-23T21:32:18.499861Z",
     "shell.execute_reply": "2025-07-23T21:32:18.499035Z"
    }
   },
   "outputs": [
    {
     "data": {
      "text/plain": [
       "'Expressions (raw / eps):'"
      ]
     },
     "metadata": {},
     "output_type": "display_data"
    },
    {
     "data": {
      "text/latex": [
       "$\\displaystyle \\frac{\\operatorname{acos}{\\left(x \\right)}}{\\sqrt{1 - x^{2}}}$"
      ],
      "text/plain": [
       "acos(x)/sqrt(1 - x**2)"
      ]
     },
     "metadata": {},
     "output_type": "display_data"
    },
    {
     "data": {
      "text/latex": [
       "$\\displaystyle \\frac{\\operatorname{acos}{\\left(\\epsilon + x \\right)}}{\\sqrt{1 - \\left(\\epsilon + x\\right)^{2}}}$"
      ],
      "text/plain": [
       "acos(epsilon + x)/sqrt(1 - (epsilon + x)**2)"
      ]
     },
     "metadata": {},
     "output_type": "display_data"
    }
   ],
   "source": [
    "# Working if you replace all x with x + eps\n",
    "correct = is_epsilon_correct(\n",
    "    lambda x, eps: sm.acos(x + eps) / sm.sqrt(1 - (x + eps) ** 2),\n",
    "    singularity=1,\n",
    ")\n",
    "assert correct"
   ]
  },
  {
   "attachments": {},
   "cell_type": "markdown",
   "metadata": {},
   "source": [
    "### Test atan2(0, x)"
   ]
  },
  {
   "cell_type": "code",
   "execution_count": 28,
   "metadata": {
    "execution": {
     "iopub.execute_input": "2025-07-23T21:32:18.503120Z",
     "iopub.status.busy": "2025-07-23T21:32:18.502864Z",
     "iopub.status.idle": "2025-07-23T21:32:18.524950Z",
     "shell.execute_reply": "2025-07-23T21:32:18.524273Z"
    }
   },
   "outputs": [
    {
     "data": {
      "text/plain": [
       "'Expressions (raw / eps):'"
      ]
     },
     "metadata": {},
     "output_type": "display_data"
    },
    {
     "data": {
      "text/latex": [
       "$\\displaystyle \\operatorname{atan}_{2}{\\left(0,x \\right)}$"
      ],
      "text/plain": [
       "atan2(0, x)"
      ]
     },
     "metadata": {},
     "output_type": "display_data"
    },
    {
     "data": {
      "text/latex": [
       "$\\displaystyle \\operatorname{atan}_{2}{\\left(0,x \\right)}$"
      ],
      "text/plain": [
       "atan2(0, x)"
      ]
     },
     "metadata": {},
     "output_type": "display_data"
    },
    {
     "data": {
      "text/plain": [
       "'[ERROR] Epsilon handling failed, expression at 0 is NaN.'"
      ]
     },
     "metadata": {},
     "output_type": "display_data"
    },
    {
     "data": {
      "text/plain": [
       "'[ERROR] Values at x=0 do not match (raw / eps / eps.limit):'"
      ]
     },
     "metadata": {},
     "output_type": "display_data"
    },
    {
     "data": {
      "text/latex": [
       "$\\displaystyle 0$"
      ],
      "text/plain": [
       "0"
      ]
     },
     "metadata": {},
     "output_type": "display_data"
    },
    {
     "data": {
      "text/latex": [
       "$\\displaystyle \\text{NaN}$"
      ],
      "text/plain": [
       "nan"
      ]
     },
     "metadata": {},
     "output_type": "display_data"
    },
    {
     "data": {
      "text/latex": [
       "$\\displaystyle \\text{NaN}$"
      ],
      "text/plain": [
       "nan"
      ]
     },
     "metadata": {},
     "output_type": "display_data"
    }
   ],
   "source": [
    "# Original is singular\n",
    "correct = is_epsilon_correct(lambda x, eps: sm.atan2(0, x))\n",
    "assert not correct"
   ]
  },
  {
   "cell_type": "code",
   "execution_count": 29,
   "metadata": {
    "execution": {
     "iopub.execute_input": "2025-07-23T21:32:18.527674Z",
     "iopub.status.busy": "2025-07-23T21:32:18.527390Z",
     "iopub.status.idle": "2025-07-23T21:32:18.540273Z",
     "shell.execute_reply": "2025-07-23T21:32:18.539725Z"
    }
   },
   "outputs": [
    {
     "data": {
      "text/plain": [
       "'Expressions (raw / eps):'"
      ]
     },
     "metadata": {},
     "output_type": "display_data"
    },
    {
     "data": {
      "text/latex": [
       "$\\displaystyle \\operatorname{atan}_{2}{\\left(0,x \\right)}$"
      ],
      "text/plain": [
       "atan2(0, x)"
      ]
     },
     "metadata": {},
     "output_type": "display_data"
    },
    {
     "data": {
      "text/latex": [
       "$\\displaystyle \\operatorname{atan}_{2}{\\left(0,\\epsilon + x \\right)}$"
      ],
      "text/plain": [
       "atan2(0, epsilon + x)"
      ]
     },
     "metadata": {},
     "output_type": "display_data"
    }
   ],
   "source": [
    "# This works\n",
    "correct = is_epsilon_correct(lambda x, eps: sm.atan2(0, x + eps))\n",
    "assert correct"
   ]
  },
  {
   "attachments": {},
   "cell_type": "markdown",
   "metadata": {},
   "source": [
    "## Handling negative x"
   ]
  },
  {
   "attachments": {},
   "cell_type": "markdown",
   "metadata": {},
   "source": [
    "If we consider an example from above like $sin(x + \\epsilon) / (x + \\epsilon)$, this can easily be singular for a negative $x$, specifically where $x = -\\epsilon$. If $x$ were always negative, we could do $sin(x - \\epsilon) / (x - \\epsilon)$.\n",
    "\n",
    "So to handle both cases we can use the sign function as: $sin(x + sign(x) * \\epsilon) / (x + sign(x) * \\epsilon)$. This gives us the behavior that it always pushes $x$ away from zero because $sign(+) = 1$ and $sign(-) = -1$. However, $sign(0) = 0$ (at least, by SymPy's definition) which breaks the original zero point. To resolve this we can make a \"no zero\" version that arbitrarily picks the positive direction when exactly at zero.  We'll call this `sign_no_zero(x)`, or $snz(x)$\n",
    "\n",
    "We can implement this cleverly with the help of a min function:"
   ]
  },
  {
   "cell_type": "code",
   "execution_count": 30,
   "metadata": {
    "execution": {
     "iopub.execute_input": "2025-07-23T21:32:18.542826Z",
     "iopub.status.busy": "2025-07-23T21:32:18.542585Z",
     "iopub.status.idle": "2025-07-23T21:32:18.547518Z",
     "shell.execute_reply": "2025-07-23T21:32:18.546836Z"
    }
   },
   "outputs": [],
   "source": [
    "def sign_no_zero(x):\n",
    "    # type: (sf.Scalar) -> sf.Scalar\n",
    "    \"\"\"\n",
    "    Returns -1 if x is negative, 1 if x is positive, and 1 if x is zero (given\n",
    "    a positive epsilon).\n",
    "    \"\"\"\n",
    "    return 2 * sm.Min(sm.sign(x), 0) + 1"
   ]
  },
  {
   "cell_type": "code",
   "execution_count": 31,
   "metadata": {
    "execution": {
     "iopub.execute_input": "2025-07-23T21:32:18.550186Z",
     "iopub.status.busy": "2025-07-23T21:32:18.549948Z",
     "iopub.status.idle": "2025-07-23T21:32:18.759654Z",
     "shell.execute_reply": "2025-07-23T21:32:18.758818Z"
    }
   },
   "outputs": [
    {
     "data": {
      "text/plain": [
       "'Expressions (raw / eps):'"
      ]
     },
     "metadata": {},
     "output_type": "display_data"
    },
    {
     "data": {
      "text/latex": [
       "$\\displaystyle \\frac{\\sin{\\left(x \\right)}}{x}$"
      ],
      "text/plain": [
       "sin(x)/x"
      ]
     },
     "metadata": {},
     "output_type": "display_data"
    },
    {
     "data": {
      "text/latex": [
       "$\\displaystyle \\frac{\\sin{\\left(\\epsilon \\left(2 \\min\\left(0, \\operatorname{sign}{\\left(x \\right)}\\right) + 1\\right) + x \\right)}}{\\epsilon \\left(2 \\min\\left(0, \\operatorname{sign}{\\left(x \\right)}\\right) + 1\\right) + x}$"
      ],
      "text/plain": [
       "sin(epsilon*(2*Min(0, sign(x)) + 1) + x)/(epsilon*(2*Min(0, sign(x)) + 1) + x)"
      ]
     },
     "metadata": {},
     "output_type": "display_data"
    }
   ],
   "source": [
    "# Test for sin(x) / x\n",
    "correct = is_epsilon_correct(\n",
    "    lambda x, eps: (sm.sin(x + eps * sign_no_zero(x))) / (x + eps * sign_no_zero(x))\n",
    ")\n",
    "assert correct"
   ]
  },
  {
   "cell_type": "code",
   "execution_count": 32,
   "metadata": {
    "execution": {
     "iopub.execute_input": "2025-07-23T21:32:18.762846Z",
     "iopub.status.busy": "2025-07-23T21:32:18.762543Z",
     "iopub.status.idle": "2025-07-23T21:32:18.778796Z",
     "shell.execute_reply": "2025-07-23T21:32:18.777964Z"
    }
   },
   "outputs": [
    {
     "data": {
      "text/plain": [
       "'Expressions (raw / eps):'"
      ]
     },
     "metadata": {},
     "output_type": "display_data"
    },
    {
     "data": {
      "text/latex": [
       "$\\displaystyle \\frac{x}{\\left|{x}\\right|}$"
      ],
      "text/plain": [
       "x/Abs(x)"
      ]
     },
     "metadata": {},
     "output_type": "display_data"
    },
    {
     "data": {
      "text/latex": [
       "$\\displaystyle \\frac{\\epsilon + x}{\\left|{\\epsilon + x}\\right|}$"
      ],
      "text/plain": [
       "(epsilon + x)/Abs(epsilon + x)"
      ]
     },
     "metadata": {},
     "output_type": "display_data"
    }
   ],
   "source": [
    "# Test for x / sqrt(x**2)\n",
    "correct = is_epsilon_correct(\n",
    "    lambda x, eps: (x + eps) / sm.sqrt((x + eps) ** 2),\n",
    ")\n",
    "assert correct"
   ]
  },
  {
   "cell_type": "code",
   "execution_count": 33,
   "metadata": {
    "execution": {
     "iopub.execute_input": "2025-07-23T21:32:18.781358Z",
     "iopub.status.busy": "2025-07-23T21:32:18.781118Z",
     "iopub.status.idle": "2025-07-23T21:32:18.794998Z",
     "shell.execute_reply": "2025-07-23T21:32:18.794372Z"
    }
   },
   "outputs": [
    {
     "data": {
      "text/plain": [
       "'Expressions (raw / eps):'"
      ]
     },
     "metadata": {},
     "output_type": "display_data"
    },
    {
     "data": {
      "text/latex": [
       "$\\displaystyle \\operatorname{atan}_{2}{\\left(0,x \\right)}$"
      ],
      "text/plain": [
       "atan2(0, x)"
      ]
     },
     "metadata": {},
     "output_type": "display_data"
    },
    {
     "data": {
      "text/latex": [
       "$\\displaystyle \\operatorname{atan}_{2}{\\left(0,\\epsilon \\left(2 \\min\\left(0, \\operatorname{sign}{\\left(x \\right)}\\right) + 1\\right) + x \\right)}$"
      ],
      "text/plain": [
       "atan2(0, epsilon*(2*Min(0, sign(x)) + 1) + x)"
      ]
     },
     "metadata": {},
     "output_type": "display_data"
    }
   ],
   "source": [
    "# Test for atan2(0, x)\n",
    "correct = is_epsilon_correct(\n",
    "    lambda x, eps: sm.atan2(0, x + eps * sign_no_zero(x)),\n",
    ")\n",
    "assert correct"
   ]
  },
  {
   "attachments": {},
   "cell_type": "markdown",
   "metadata": {},
   "source": [
    "## Generalization"
   ]
  },
  {
   "attachments": {},
   "cell_type": "markdown",
   "metadata": {},
   "source": [
    "So far it seems like for a function $f(x)$ that is singular at $x=0$, the expression $f(x + \\epsilon * snz(x))$ for a small positive $\\epsilon$ will be non-singular and retain the same linear approximiation as $f(x)$. So we can easily write a function that does this substitution:"
   ]
  },
  {
   "cell_type": "code",
   "execution_count": 34,
   "metadata": {
    "execution": {
     "iopub.execute_input": "2025-07-23T21:32:18.797587Z",
     "iopub.status.busy": "2025-07-23T21:32:18.797304Z",
     "iopub.status.idle": "2025-07-23T21:32:18.801777Z",
     "shell.execute_reply": "2025-07-23T21:32:18.801056Z"
    }
   },
   "outputs": [],
   "source": [
    "def add_epsilon_sign(expr, var, eps):\n",
    "    return expr.subs(var, var + eps * sign_no_zero(var))"
   ]
  },
  {
   "cell_type": "code",
   "execution_count": 35,
   "metadata": {
    "execution": {
     "iopub.execute_input": "2025-07-23T21:32:18.803985Z",
     "iopub.status.busy": "2025-07-23T21:32:18.803759Z",
     "iopub.status.idle": "2025-07-23T21:32:18.818137Z",
     "shell.execute_reply": "2025-07-23T21:32:18.817329Z"
    }
   },
   "outputs": [
    {
     "data": {
      "text/plain": [
       "'Expressions (raw / eps):'"
      ]
     },
     "metadata": {},
     "output_type": "display_data"
    },
    {
     "data": {
      "text/latex": [
       "$\\displaystyle \\frac{\\sin{\\left(x \\right)}}{x}$"
      ],
      "text/plain": [
       "sin(x)/x"
      ]
     },
     "metadata": {},
     "output_type": "display_data"
    },
    {
     "data": {
      "text/latex": [
       "$\\displaystyle \\frac{\\sin{\\left(\\epsilon \\left(2 \\min\\left(0, \\operatorname{sign}{\\left(x \\right)}\\right) + 1\\right) + x \\right)}}{\\epsilon \\left(2 \\min\\left(0, \\operatorname{sign}{\\left(x \\right)}\\right) + 1\\right) + x}$"
      ],
      "text/plain": [
       "sin(epsilon*(2*Min(0, sign(x)) + 1) + x)/(epsilon*(2*Min(0, sign(x)) + 1) + x)"
      ]
     },
     "metadata": {},
     "output_type": "display_data"
    }
   ],
   "source": [
    "# Check known example\n",
    "correct = is_epsilon_correct(\n",
    "    lambda x, eps: add_epsilon_sign(sm.sin(x) / x, x, eps),\n",
    ")\n",
    "assert correct"
   ]
  },
  {
   "cell_type": "code",
   "execution_count": 36,
   "metadata": {
    "execution": {
     "iopub.execute_input": "2025-07-23T21:32:18.821175Z",
     "iopub.status.busy": "2025-07-23T21:32:18.820619Z",
     "iopub.status.idle": "2025-07-23T21:32:19.057115Z",
     "shell.execute_reply": "2025-07-23T21:32:19.056248Z"
    }
   },
   "outputs": [
    {
     "data": {
      "text/plain": [
       "'Expressions (raw / eps):'"
      ]
     },
     "metadata": {},
     "output_type": "display_data"
    },
    {
     "data": {
      "text/latex": [
       "$\\displaystyle \\frac{x + \\sin^{2}{\\left(x \\right)}}{x \\left(1 - \\frac{1}{x}\\right)}$"
      ],
      "text/plain": [
       "(x + sin(x)**2)/(x*(1 - 1/x))"
      ]
     },
     "metadata": {},
     "output_type": "display_data"
    },
    {
     "data": {
      "text/latex": [
       "$\\displaystyle \\frac{\\epsilon \\left(2 \\min\\left(0, \\operatorname{sign}{\\left(x \\right)}\\right) + 1\\right) + x + \\sin^{2}{\\left(\\epsilon \\left(2 \\min\\left(0, \\operatorname{sign}{\\left(x \\right)}\\right) + 1\\right) + x \\right)}}{\\left(1 - \\frac{1}{\\epsilon \\left(2 \\min\\left(0, \\operatorname{sign}{\\left(x \\right)}\\right) + 1\\right) + x}\\right) \\left(\\epsilon \\left(2 \\min\\left(0, \\operatorname{sign}{\\left(x \\right)}\\right) + 1\\right) + x\\right)}$"
      ],
      "text/plain": [
       "(epsilon*(2*Min(0, sign(x)) + 1) + x + sin(epsilon*(2*Min(0, sign(x)) + 1) + x)**2)/((1 - 1/(epsilon*(2*Min(0, sign(x)) + 1) + x))*(epsilon*(2*Min(0, sign(x)) + 1) + x))"
      ]
     },
     "metadata": {},
     "output_type": "display_data"
    }
   ],
   "source": [
    "# Try some more complicated thing nobody wants to epsilon by hand\n",
    "correct = is_epsilon_correct(\n",
    "    lambda x, eps: add_epsilon_sign(\n",
    "        (x + sm.sin(x) ** 2) / (x * (1 - 1 / x)),\n",
    "        x,\n",
    "        eps,\n",
    "    )\n",
    ")\n",
    "assert correct"
   ]
  },
  {
   "attachments": {},
   "cell_type": "markdown",
   "metadata": {},
   "source": [
    "Another common case is a function $f(x)$ that is singular at $|x| = 1$, where we expect $x$ to be between $-1$ and $1$.  In this case we can use a similar idea, using $f(x - \\epsilon * snz(x))$.  A function to do this would be:"
   ]
  },
  {
   "cell_type": "code",
   "execution_count": 37,
   "metadata": {
    "execution": {
     "iopub.execute_input": "2025-07-23T21:32:19.060546Z",
     "iopub.status.busy": "2025-07-23T21:32:19.060251Z",
     "iopub.status.idle": "2025-07-23T21:32:19.065049Z",
     "shell.execute_reply": "2025-07-23T21:32:19.064273Z"
    }
   },
   "outputs": [],
   "source": [
    "def add_epsilon_near_1_sign(expr, var, eps):\n",
    "    return expr.subs(var, var - eps * sign_no_zero(var))"
   ]
  },
  {
   "cell_type": "code",
   "execution_count": 38,
   "metadata": {
    "execution": {
     "iopub.execute_input": "2025-07-23T21:32:19.067781Z",
     "iopub.status.busy": "2025-07-23T21:32:19.067487Z",
     "iopub.status.idle": "2025-07-23T21:32:20.477286Z",
     "shell.execute_reply": "2025-07-23T21:32:20.476435Z"
    }
   },
   "outputs": [
    {
     "data": {
      "text/plain": [
       "'Expressions (raw / eps):'"
      ]
     },
     "metadata": {},
     "output_type": "display_data"
    },
    {
     "data": {
      "text/latex": [
       "$\\displaystyle \\frac{\\cos{\\left(x \\right)}}{\\sqrt{1 - x^{2}}}$"
      ],
      "text/plain": [
       "cos(x)/sqrt(1 - x**2)"
      ]
     },
     "metadata": {},
     "output_type": "display_data"
    },
    {
     "data": {
      "text/latex": [
       "$\\displaystyle \\frac{\\cos{\\left(\\epsilon \\left(2 \\min\\left(0, \\operatorname{sign}{\\left(x \\right)}\\right) + 1\\right) - x \\right)}}{\\sqrt{1 - \\left(- \\epsilon \\left(2 \\min\\left(0, \\operatorname{sign}{\\left(x \\right)}\\right) + 1\\right) + x\\right)^{2}}}$"
      ],
      "text/plain": [
       "cos(epsilon*(2*Min(0, sign(x)) + 1) - x)/sqrt(1 - (-epsilon*(2*Min(0, sign(x)) + 1) + x)**2)"
      ]
     },
     "metadata": {},
     "output_type": "display_data"
    }
   ],
   "source": [
    "# Check known example\n",
    "correct = is_epsilon_correct(\n",
    "    lambda x, eps: add_epsilon_near_1_sign(\n",
    "        sm.cos(x) / sm.sqrt(1 - x**2),\n",
    "        x,\n",
    "        eps,\n",
    "    ),\n",
    "    singularity=1,\n",
    "    limit_direction=\"-\",\n",
    ")\n",
    "assert correct"
   ]
  },
  {
   "attachments": {},
   "cell_type": "markdown",
   "metadata": {},
   "source": [
    "### Clamping\n",
    "\n",
    "We could also imagine clamping away from the singularity, instead of shifting with addition.  That would look like this:"
   ]
  },
  {
   "cell_type": "code",
   "execution_count": 39,
   "metadata": {
    "execution": {
     "iopub.execute_input": "2025-07-23T21:32:20.480952Z",
     "iopub.status.busy": "2025-07-23T21:32:20.480662Z",
     "iopub.status.idle": "2025-07-23T21:32:20.487396Z",
     "shell.execute_reply": "2025-07-23T21:32:20.486730Z"
    }
   },
   "outputs": [],
   "source": [
    "def add_epsilon_max(expr, var, eps):\n",
    "    return expr.subs(var, sign_no_zero(var) * sm.Max(eps, sm.Abs(var)))\n",
    "\n",
    "\n",
    "def add_epsilon_near_1_clamp(expr, var, eps):\n",
    "    return expr.subs(var, sm.Max(-1 + eps, sm.Min(1 - eps, var)))"
   ]
  },
  {
   "attachments": {},
   "cell_type": "markdown",
   "metadata": {},
   "source": [
    "However, this will always give a derivative of 0 at the singularity - since the derivative of `sign_no_zero(var) * sm.Max(eps, sm.Abs(var))` with respect to `var` is 0 there.  We can see this with an example function, whose derivative at the singularity should be 1.  `add_epsilon_sign` handles this correctly:"
   ]
  },
  {
   "cell_type": "code",
   "execution_count": 40,
   "metadata": {
    "execution": {
     "iopub.execute_input": "2025-07-23T21:32:20.490967Z",
     "iopub.status.busy": "2025-07-23T21:32:20.490645Z",
     "iopub.status.idle": "2025-07-23T21:32:20.852467Z",
     "shell.execute_reply": "2025-07-23T21:32:20.851740Z"
    }
   },
   "outputs": [
    {
     "data": {
      "text/plain": [
       "'Expressions (raw / eps):'"
      ]
     },
     "metadata": {},
     "output_type": "display_data"
    },
    {
     "data": {
      "text/latex": [
       "$\\displaystyle \\frac{x^{2} + \\sin{\\left(x \\right)}}{x}$"
      ],
      "text/plain": [
       "(x**2 + sin(x))/x"
      ]
     },
     "metadata": {},
     "output_type": "display_data"
    },
    {
     "data": {
      "text/latex": [
       "$\\displaystyle \\frac{\\left(\\epsilon \\left(2 \\min\\left(0, \\operatorname{sign}{\\left(x \\right)}\\right) + 1\\right) + x\\right)^{2} + \\sin{\\left(\\epsilon \\left(2 \\min\\left(0, \\operatorname{sign}{\\left(x \\right)}\\right) + 1\\right) + x \\right)}}{\\epsilon \\left(2 \\min\\left(0, \\operatorname{sign}{\\left(x \\right)}\\right) + 1\\right) + x}$"
      ],
      "text/plain": [
       "((epsilon*(2*Min(0, sign(x)) + 1) + x)**2 + sin(epsilon*(2*Min(0, sign(x)) + 1) + x))/(epsilon*(2*Min(0, sign(x)) + 1) + x)"
      ]
     },
     "metadata": {},
     "output_type": "display_data"
    }
   ],
   "source": [
    "correct = is_epsilon_correct(\n",
    "    lambda x, eps: add_epsilon_sign((sm.sin(x) + x**2) / x, x, eps),\n",
    ")\n",
    "assert correct"
   ]
  },
  {
   "attachments": {},
   "cell_type": "markdown",
   "metadata": {},
   "source": [
    "`add_epsilon_max` gives the correct value, but not the correct derivative:"
   ]
  },
  {
   "cell_type": "code",
   "execution_count": 41,
   "metadata": {
    "execution": {
     "iopub.execute_input": "2025-07-23T21:32:20.855838Z",
     "iopub.status.busy": "2025-07-23T21:32:20.855583Z",
     "iopub.status.idle": "2025-07-23T21:32:21.030282Z",
     "shell.execute_reply": "2025-07-23T21:32:21.029634Z"
    }
   },
   "outputs": [
    {
     "data": {
      "text/plain": [
       "'Expressions (raw / eps):'"
      ]
     },
     "metadata": {},
     "output_type": "display_data"
    },
    {
     "data": {
      "text/latex": [
       "$\\displaystyle \\frac{x^{2} \\left(2 \\min\\left(0, \\operatorname{sign}{\\left(x \\right)}\\right) + 1\\right)^{2} + \\sin{\\left(\\left(2 \\min\\left(0, \\operatorname{sign}{\\left(x \\right)}\\right) + 1\\right) \\left|{x}\\right| \\right)}}{\\left(2 \\min\\left(0, \\operatorname{sign}{\\left(x \\right)}\\right) + 1\\right) \\left|{x}\\right|}$"
      ],
      "text/plain": [
       "(x**2*(2*Min(0, sign(x)) + 1)**2 + sin((2*Min(0, sign(x)) + 1)*Abs(x)))/((2*Min(0, sign(x)) + 1)*Abs(x))"
      ]
     },
     "metadata": {},
     "output_type": "display_data"
    },
    {
     "data": {
      "text/latex": [
       "$\\displaystyle \\frac{\\left(2 \\min\\left(0, \\operatorname{sign}{\\left(x \\right)}\\right) + 1\\right)^{2} \\max\\left(\\epsilon, \\left|{x}\\right|\\right)^{2} + \\sin{\\left(\\left(2 \\min\\left(0, \\operatorname{sign}{\\left(x \\right)}\\right) + 1\\right) \\max\\left(\\epsilon, \\left|{x}\\right|\\right) \\right)}}{\\left(2 \\min\\left(0, \\operatorname{sign}{\\left(x \\right)}\\right) + 1\\right) \\max\\left(\\epsilon, \\left|{x}\\right|\\right)}$"
      ],
      "text/plain": [
       "((2*Min(0, sign(x)) + 1)**2*Max(epsilon, Abs(x))**2 + sin((2*Min(0, sign(x)) + 1)*Max(epsilon, Abs(x))))/((2*Min(0, sign(x)) + 1)*Max(epsilon, Abs(x)))"
      ]
     },
     "metadata": {},
     "output_type": "display_data"
    },
    {
     "data": {
      "text/plain": [
       "'[ERROR] Derivatives at x=0 do not match (raw / eps / eps.limit):'"
      ]
     },
     "metadata": {},
     "output_type": "display_data"
    },
    {
     "data": {
      "text/latex": [
       "$\\displaystyle 1$"
      ],
      "text/plain": [
       "1"
      ]
     },
     "metadata": {},
     "output_type": "display_data"
    },
    {
     "data": {
      "text/latex": [
       "$\\displaystyle - \\frac{2 \\left(\\epsilon^{2} + \\sin{\\left(\\epsilon \\right)}\\right) \\delta\\left(0\\right)}{\\epsilon} + \\frac{4 \\epsilon^{2} \\delta\\left(0\\right) + 2 \\epsilon \\cos{\\left(\\epsilon \\right)} \\delta\\left(0\\right)}{\\epsilon}$"
      ],
      "text/plain": [
       "-2*(epsilon**2 + sin(epsilon))*DiracDelta(0)/epsilon + (4*epsilon**2*DiracDelta(0) + 2*epsilon*cos(epsilon)*DiracDelta(0))/epsilon"
      ]
     },
     "metadata": {},
     "output_type": "display_data"
    },
    {
     "data": {
      "text/latex": [
       "$\\displaystyle 0$"
      ],
      "text/plain": [
       "0"
      ]
     },
     "metadata": {},
     "output_type": "display_data"
    }
   ],
   "source": [
    "correct = is_epsilon_correct(\n",
    "    lambda x, eps: add_epsilon_max((sm.sin(x) + x**2) / x, x, eps),\n",
    ")\n",
    "assert not correct"
   ]
  },
  {
   "attachments": {},
   "cell_type": "markdown",
   "metadata": {},
   "source": [
    "## Numerical Values for Epsilon\n",
    "\n",
    "SymForce defaults to using 10 times the [floating point epsilon](https://en.wikipedia.org/wiki/Machine_epsilon), which we've found to be a good value across a wide variety of use cases.\n",
    "\n",
    "This numerical value is available, for example, as `sf.numeric_epsilon` and `sym.epsilon`.  Those constants specifically are intended for use with 64-bit floats (e.g. the builtin `float` type in Python), if using a different floating point type you should typically compute 10 times the epsilon for that type.  For example, `sym::kDefaultEpsilon<Scalar>` in C++ provides the recommended epsilon for each type.\n",
    "\n",
    "One caveat here is that this works best if anything you need to add $\\epsilon$ to has a magnitude near 1 or smaller.  If adding $\\epsilon$ to something that may be much larger, using an epsilon that is too small will result in not actually changing the value, due to floating point precision.  In cases like this, you'll want to know the approximate size of the value you're adding to, or an upper bound on that size.  If that size is `c`, you should add something like `c * epsilon` in your symbolic function instead of just `epsilon`."
   ]
  },
  {
   "attachments": {},
   "cell_type": "markdown",
   "metadata": {},
   "source": [
    "## Caveats and Limitations\n",
    "\n",
    "So far we've assumed the only singularity is at $x=0$, but everything above works just fine for singularities at other locations, for instance with the function $1/(1-x)$ for $x=1$.  What isn't handled well is functions that have multiple singularities, like $1/((x-1)(x-2)(x-3))$.  You can _compose_ functions using the singularity handling method above just fine, and everything will be safe.  This is almost always all that you need, but if you do encounter a function with multiple singularities that can't be rewritten as a composition of functions with fewer singularities, that will require something more complex.\n",
    "\n",
    "It's also easy to construct singularities where this method works symbolically, but relies on values like $\\epsilon^2$ which are too small in actual floating point implementations (see the `Pose2_SE2.to_tangent` section below).  And we could have a composite of multiple functions, so it's hard to have global visibility into what all your singular points are. Sometimes parameters have a fixed range, sometimes things are normalized, etc.\n",
    "\n",
    "So a remaining open question is: how well can we generalize this single variable example with a single known singularity to multiple variables and only locally known singularities like at the places we add a division, square root, or atan2 operation?"
   ]
  },
  {
   "attachments": {},
   "cell_type": "markdown",
   "metadata": {},
   "source": [
    "## Case Studies"
   ]
  },
  {
   "attachments": {},
   "cell_type": "markdown",
   "metadata": {},
   "source": [
    "### Pose2_SE2.from_tangent\n",
    "\n",
    "`Pose2_SE2.from_tangent` before epsilon handling looks like:\n",
    "\n",
    "```python\n",
    "def pose2_from_tangent(v):\n",
    "    theta = v[0]\n",
    "    R = Rot2.from_tangent([theta])\n",
    "    \n",
    "    a = sm.sin(theta) / theta\n",
    "    b = (1 - sm.cos(theta)) / theta\n",
    "    \n",
    "    t = geo.Vector2(a * v[1] - b * v[2], b * v[1] + a * v[2])\n",
    "    return geo.Pose2(R, t)\n",
    "```\n",
    "\n",
    "This has singularities in both `a` and `b` that we'd like to fix.  The initial version used:\n",
    "\n",
    "```python\n",
    "a = sm.sin(theta) / (theta + epsilon)\n",
    "b = (1 - sm.cos(theta)) / (theta + epsilon)\n",
    "```\n",
    "\n",
    "For `a`, this falls under the $sin(x) / x$ example above, and `b` falls under the $(1 - cos(x)) / x$ example above, so we can use the fixes from those examples, modified to handle negative $x$ as in the Generalization section."
   ]
  },
  {
   "attachments": {},
   "cell_type": "markdown",
   "metadata": {},
   "source": [
    "### Pose2_SE2.to_tangent\n",
    "\n",
    "`Pose2_SE2.to_tangent` before epsilon handling looks like:\n",
    "\n",
    "```python\n",
    "def pose2_to_tangent():\n",
    "    theta = self.R.to_tangent()[0]\n",
    "    halftheta = 0.5 * theta\n",
    "    a = (halftheta * sm.sin(theta)) / (1 - sm.cos(theta))\n",
    "    \n",
    "    V_inv = Matrix[[a, halftheta], [-halftheta, a]])\n",
    "    t_tangent = V_inv * self.t\n",
    "    return [theta, t_tangent[0], t_tangent[1]]\n",
    "```\n",
    "\n",
    "This has a singularity in `a` that looks like:"
   ]
  },
  {
   "cell_type": "code",
   "execution_count": 42,
   "metadata": {
    "execution": {
     "iopub.execute_input": "2025-07-23T21:32:21.033386Z",
     "iopub.status.busy": "2025-07-23T21:32:21.033126Z",
     "iopub.status.idle": "2025-07-23T21:32:22.008098Z",
     "shell.execute_reply": "2025-07-23T21:32:22.007443Z"
    }
   },
   "outputs": [
    {
     "data": {
      "text/plain": [
       "'Expressions (raw / eps):'"
      ]
     },
     "metadata": {},
     "output_type": "display_data"
    },
    {
     "data": {
      "text/latex": [
       "$\\displaystyle \\frac{0.5 x \\sin{\\left(x \\right)}}{1 - \\cos{\\left(x \\right)}}$"
      ],
      "text/plain": [
       "0.5*x*sin(x)/(1 - cos(x))"
      ]
     },
     "metadata": {},
     "output_type": "display_data"
    },
    {
     "data": {
      "text/latex": [
       "$\\displaystyle \\frac{0.5 x \\sin{\\left(x \\right)}}{1 - \\cos{\\left(x \\right)}}$"
      ],
      "text/plain": [
       "0.5*x*sin(x)/(1 - cos(x))"
      ]
     },
     "metadata": {},
     "output_type": "display_data"
    },
    {
     "data": {
      "text/plain": [
       "'[ERROR] Epsilon handling failed, expression at 0 is NaN.'"
      ]
     },
     "metadata": {},
     "output_type": "display_data"
    },
    {
     "data": {
      "text/plain": [
       "'[ERROR] Values at x=0 do not match (raw / eps / eps.limit):'"
      ]
     },
     "metadata": {},
     "output_type": "display_data"
    },
    {
     "data": {
      "text/latex": [
       "$\\displaystyle 1$"
      ],
      "text/plain": [
       "1"
      ]
     },
     "metadata": {},
     "output_type": "display_data"
    },
    {
     "data": {
      "text/latex": [
       "$\\displaystyle \\text{NaN}$"
      ],
      "text/plain": [
       "nan"
      ]
     },
     "metadata": {},
     "output_type": "display_data"
    },
    {
     "data": {
      "text/latex": [
       "$\\displaystyle \\text{NaN}$"
      ],
      "text/plain": [
       "nan"
      ]
     },
     "metadata": {},
     "output_type": "display_data"
    },
    {
     "data": {
      "text/plain": [
       "'[ERROR] Derivatives at x=0 do not match (raw / eps / eps.limit):'"
      ]
     },
     "metadata": {},
     "output_type": "display_data"
    },
    {
     "data": {
      "text/latex": [
       "$\\displaystyle 0$"
      ],
      "text/plain": [
       "0"
      ]
     },
     "metadata": {},
     "output_type": "display_data"
    },
    {
     "data": {
      "text/latex": [
       "$\\displaystyle \\text{NaN}$"
      ],
      "text/plain": [
       "nan"
      ]
     },
     "metadata": {},
     "output_type": "display_data"
    },
    {
     "data": {
      "text/latex": [
       "$\\displaystyle \\text{NaN}$"
      ],
      "text/plain": [
       "nan"
      ]
     },
     "metadata": {},
     "output_type": "display_data"
    }
   ],
   "source": [
    "correct = is_epsilon_correct(\n",
    "    lambda theta, eps: (0.5 * theta * sm.sin(theta)) / (1 - sm.cos(theta)),\n",
    ")\n",
    "assert not correct"
   ]
  },
  {
   "attachments": {},
   "cell_type": "markdown",
   "metadata": {},
   "source": [
    "We might think this can be fixed with with the $x = x + \\epsilon$ trick:"
   ]
  },
  {
   "cell_type": "code",
   "execution_count": 43,
   "metadata": {
    "execution": {
     "iopub.execute_input": "2025-07-23T21:32:22.010786Z",
     "iopub.status.busy": "2025-07-23T21:32:22.010535Z",
     "iopub.status.idle": "2025-07-23T21:32:22.757117Z",
     "shell.execute_reply": "2025-07-23T21:32:22.756284Z"
    }
   },
   "outputs": [
    {
     "data": {
      "text/plain": [
       "'Expressions (raw / eps):'"
      ]
     },
     "metadata": {},
     "output_type": "display_data"
    },
    {
     "data": {
      "text/latex": [
       "$\\displaystyle \\frac{0.5 x \\sin{\\left(x \\right)}}{1 - \\cos{\\left(x \\right)}}$"
      ],
      "text/plain": [
       "0.5*x*sin(x)/(1 - cos(x))"
      ]
     },
     "metadata": {},
     "output_type": "display_data"
    },
    {
     "data": {
      "text/latex": [
       "$\\displaystyle \\frac{0.5 \\left(\\epsilon \\left(2 \\min\\left(0, \\operatorname{sign}{\\left(x \\right)}\\right) + 1\\right) + x\\right) \\sin{\\left(\\epsilon \\left(2 \\min\\left(0, \\operatorname{sign}{\\left(x \\right)}\\right) + 1\\right) + x \\right)}}{1 - \\cos{\\left(\\epsilon \\left(2 \\min\\left(0, \\operatorname{sign}{\\left(x \\right)}\\right) + 1\\right) + x \\right)}}$"
      ],
      "text/plain": [
       "0.5*(epsilon*(2*Min(0, sign(x)) + 1) + x)*sin(epsilon*(2*Min(0, sign(x)) + 1) + x)/(1 - cos(epsilon*(2*Min(0, sign(x)) + 1) + x))"
      ]
     },
     "metadata": {},
     "output_type": "display_data"
    }
   ],
   "source": [
    "correct = is_epsilon_correct(\n",
    "    lambda theta, eps: add_epsilon_sign(\n",
    "        (0.5 * theta * sm.sin(theta)) / (1 - sm.cos(theta)), theta, eps\n",
    "    )\n",
    ")\n",
    "assert correct"
   ]
  },
  {
   "attachments": {},
   "cell_type": "markdown",
   "metadata": {},
   "source": [
    "But in practice, the denominator's taylor series is $(1 - (1 - 0.5 \\epsilon^2))$, and if $\\epsilon$ is near machine precision, then the denominator will end up as exactly `1 - 1 == 0`.  This might be solved by adding $sqrt(\\epsilon)$ instead, but that would introduce a large amount of error.  Instead, we do some algebra:\n",
    "\n",
    "$$\n",
    "\\begin{align*}\n",
    "\\frac{0.5 \\theta \\sin(\\theta)}{1 - \\cos(\\theta)}\n",
    "&= \\frac{0.5 \\theta \\sin(\\theta)}{1 - \\cos(\\theta)} \\frac{1 + \\cos(\\theta)}{1 + \\cos(\\theta)} \\\\\n",
    "&= \\frac{0.5 \\theta \\sin(\\theta) (1 + \\cos(\\theta))}{1 - \\cos^2(\\theta)} \\\\\n",
    "&= \\frac{0.5 \\theta \\sin(\\theta) (1 + \\cos(\\theta))}{\\sin^2(\\theta)} \\\\\n",
    "&= \\frac{0.5 \\theta (1 + \\cos(\\theta))}{\\sin(\\theta)}\n",
    "\\end{align*}\n",
    "$$\n",
    "\n",
    "Then, the only singularity is at $\\sin(\\theta) = 0$, which we can fix with:"
   ]
  },
  {
   "cell_type": "code",
   "execution_count": 44,
   "metadata": {
    "execution": {
     "iopub.execute_input": "2025-07-23T21:32:22.761162Z",
     "iopub.status.busy": "2025-07-23T21:32:22.760852Z",
     "iopub.status.idle": "2025-07-23T21:32:23.141691Z",
     "shell.execute_reply": "2025-07-23T21:32:23.140922Z"
    }
   },
   "outputs": [
    {
     "data": {
      "text/plain": [
       "'Expressions (raw / eps):'"
      ]
     },
     "metadata": {},
     "output_type": "display_data"
    },
    {
     "data": {
      "text/latex": [
       "$\\displaystyle \\frac{0.5 x \\left(\\cos{\\left(x \\right)} + 1\\right)}{\\sin{\\left(x \\right)}}$"
      ],
      "text/plain": [
       "0.5*x*(cos(x) + 1)/sin(x)"
      ]
     },
     "metadata": {},
     "output_type": "display_data"
    },
    {
     "data": {
      "text/latex": [
       "$\\displaystyle \\frac{\\left(0.5 \\epsilon + 0.5 x\\right) \\left(\\cos{\\left(x \\right)} + 1\\right)}{\\epsilon + \\sin{\\left(x \\right)}}$"
      ],
      "text/plain": [
       "(0.5*epsilon + 0.5*x)*(cos(x) + 1)/(epsilon + sin(x))"
      ]
     },
     "metadata": {},
     "output_type": "display_data"
    }
   ],
   "source": [
    "correct = is_epsilon_correct(\n",
    "    lambda theta, eps: (0.5 * (theta + eps) * (1 + sm.cos(theta))) / (sm.sin(theta) + eps)\n",
    ")\n",
    "assert correct"
   ]
  },
  {
   "attachments": {},
   "cell_type": "markdown",
   "metadata": {},
   "source": [
    "### Rot3.to_tangent\n",
    "\n",
    "`Rot3.to_tangent` before epsilon handling looks like:\n",
    "\n",
    "```python\n",
    "def logmap():\n",
    "    norm = sm.sqrt(1 - self.q.w**2)\n",
    "    tangent = 2 * self.q.xyz / norm * sm.acos(self.q.w)\n",
    "    return tangent\n",
    "```\n",
    "\n",
    "Ignoring the `q.xyz` variables, the function has a singularity at `w == 1`, of the form\n",
    "$$\n",
    "\\frac{\\arccos(w)}{\\sqrt{1 - w^2}}\n",
    "$$\n",
    "\n",
    "which can be fixed using either the `add_epsilon_near_1_sign` or `add_epsilon_near_1_clamp` methods described in the Generalization section."
   ]
  },
  {
   "attachments": {},
   "cell_type": "markdown",
   "metadata": {},
   "source": [
    "## Multivariate functions"
   ]
  },
  {
   "cell_type": "code",
   "execution_count": 45,
   "metadata": {
    "execution": {
     "iopub.execute_input": "2025-07-23T21:32:23.145494Z",
     "iopub.status.busy": "2025-07-23T21:32:23.145199Z",
     "iopub.status.idle": "2025-07-23T21:32:23.150775Z",
     "shell.execute_reply": "2025-07-23T21:32:23.150006Z"
    }
   },
   "outputs": [],
   "source": [
    "x, y = sm.symbols(\"x, y\", real=True)"
   ]
  },
  {
   "cell_type": "code",
   "execution_count": 46,
   "metadata": {
    "execution": {
     "iopub.execute_input": "2025-07-23T21:32:23.154912Z",
     "iopub.status.busy": "2025-07-23T21:32:23.153869Z",
     "iopub.status.idle": "2025-07-23T21:32:23.261236Z",
     "shell.execute_reply": "2025-07-23T21:32:23.260458Z"
    }
   },
   "outputs": [
    {
     "data": {
      "text/latex": [
       "$\\displaystyle \\frac{1}{\\left|{y}\\right|}$"
      ],
      "text/plain": [
       "1/Abs(y)"
      ]
     },
     "execution_count": 46,
     "metadata": {},
     "output_type": "execute_result"
    }
   ],
   "source": [
    "# Looking at a normalization function\n",
    "epsilon = sm.Symbol(\"epsilon\")\n",
    "expr = x / sm.sqrt(x**2 + y**2)\n",
    "sm.series(expr, x, n=2)\n",
    "sm.simplify(expr.diff(x).limit(x, 0))"
   ]
  },
  {
   "cell_type": "code",
   "execution_count": 47,
   "metadata": {
    "execution": {
     "iopub.execute_input": "2025-07-23T21:32:23.264545Z",
     "iopub.status.busy": "2025-07-23T21:32:23.264224Z",
     "iopub.status.idle": "2025-07-23T21:32:23.289170Z",
     "shell.execute_reply": "2025-07-23T21:32:23.288351Z"
    }
   },
   "outputs": [
    {
     "data": {
      "text/plain": [
       "'Expressions (raw / eps):'"
      ]
     },
     "metadata": {},
     "output_type": "display_data"
    },
    {
     "data": {
      "text/latex": [
       "$\\displaystyle \\frac{x}{\\left|{x}\\right|}$"
      ],
      "text/plain": [
       "x/Abs(x)"
      ]
     },
     "metadata": {},
     "output_type": "display_data"
    },
    {
     "data": {
      "text/latex": [
       "$\\displaystyle \\frac{\\epsilon + x}{\\left|{\\epsilon + x}\\right|}$"
      ],
      "text/plain": [
       "(epsilon + x)/Abs(epsilon + x)"
      ]
     },
     "metadata": {},
     "output_type": "display_data"
    },
    {
     "data": {
      "text/plain": [
       "True"
      ]
     },
     "execution_count": 47,
     "metadata": {},
     "output_type": "execute_result"
    }
   ],
   "source": [
    "# Simulate a normalization where y = 0\n",
    "is_epsilon_correct(lambda x, eps: sm.Matrix([x + eps, 0]).normalized()[0])"
   ]
  },
  {
   "cell_type": "code",
   "execution_count": 48,
   "metadata": {
    "execution": {
     "iopub.execute_input": "2025-07-23T21:32:23.293405Z",
     "iopub.status.busy": "2025-07-23T21:32:23.292415Z",
     "iopub.status.idle": "2025-07-23T21:32:23.358817Z",
     "shell.execute_reply": "2025-07-23T21:32:23.358143Z"
    }
   },
   "outputs": [
    {
     "data": {
      "text/plain": [
       "'Expressions (raw / eps):'"
      ]
     },
     "metadata": {},
     "output_type": "display_data"
    },
    {
     "data": {
      "text/latex": [
       "$\\displaystyle \\frac{x}{\\left|{x}\\right|}$"
      ],
      "text/plain": [
       "x/Abs(x)"
      ]
     },
     "metadata": {},
     "output_type": "display_data"
    },
    {
     "data": {
      "text/latex": [
       "$\\displaystyle \\frac{\\epsilon + x}{\\sqrt{\\epsilon^{2} + \\left(\\epsilon + x\\right)^{2}}}$"
      ],
      "text/plain": [
       "(epsilon + x)/sqrt(epsilon**2 + (epsilon + x)**2)"
      ]
     },
     "metadata": {},
     "output_type": "display_data"
    },
    {
     "data": {
      "text/plain": [
       "'[ERROR] Values at x=0 do not match (raw / eps / eps.limit):'"
      ]
     },
     "metadata": {},
     "output_type": "display_data"
    },
    {
     "data": {
      "text/latex": [
       "$\\displaystyle 1$"
      ],
      "text/plain": [
       "1"
      ]
     },
     "metadata": {},
     "output_type": "display_data"
    },
    {
     "data": {
      "text/latex": [
       "$\\displaystyle \\frac{\\sqrt{2}}{2}$"
      ],
      "text/plain": [
       "sqrt(2)/2"
      ]
     },
     "metadata": {},
     "output_type": "display_data"
    },
    {
     "data": {
      "text/latex": [
       "$\\displaystyle \\frac{\\sqrt{2}}{2}$"
      ],
      "text/plain": [
       "sqrt(2)/2"
      ]
     },
     "metadata": {},
     "output_type": "display_data"
    },
    {
     "data": {
      "text/plain": [
       "'[ERROR] Derivatives at x=0 do not match (raw / eps / eps.limit):'"
      ]
     },
     "metadata": {},
     "output_type": "display_data"
    },
    {
     "data": {
      "text/latex": [
       "$\\displaystyle 0$"
      ],
      "text/plain": [
       "0"
      ]
     },
     "metadata": {},
     "output_type": "display_data"
    },
    {
     "data": {
      "text/latex": [
       "$\\displaystyle \\frac{\\sqrt{2}}{4 \\epsilon}$"
      ],
      "text/plain": [
       "sqrt(2)/(4*epsilon)"
      ]
     },
     "metadata": {},
     "output_type": "display_data"
    },
    {
     "data": {
      "text/latex": [
       "$\\displaystyle \\infty$"
      ],
      "text/plain": [
       "oo"
      ]
     },
     "metadata": {},
     "output_type": "display_data"
    },
    {
     "data": {
      "text/plain": [
       "False"
      ]
     },
     "execution_count": 48,
     "metadata": {},
     "output_type": "execute_result"
    }
   ],
   "source": [
    "is_epsilon_correct(\n",
    "    lambda x, eps: (x + eps) / sm.sqrt((x + eps) ** 2 + (0 + eps) ** 2),\n",
    ")"
   ]
  },
  {
   "cell_type": "code",
   "execution_count": 49,
   "metadata": {
    "execution": {
     "iopub.execute_input": "2025-07-23T21:32:23.362888Z",
     "iopub.status.busy": "2025-07-23T21:32:23.361934Z",
     "iopub.status.idle": "2025-07-23T21:32:23.406445Z",
     "shell.execute_reply": "2025-07-23T21:32:23.405799Z"
    }
   },
   "outputs": [
    {
     "data": {
      "text/plain": [
       "'Expressions (raw / eps):'"
      ]
     },
     "metadata": {},
     "output_type": "display_data"
    },
    {
     "data": {
      "text/latex": [
       "$\\displaystyle \\frac{x}{\\left|{x}\\right|}$"
      ],
      "text/plain": [
       "x/Abs(x)"
      ]
     },
     "metadata": {},
     "output_type": "display_data"
    },
    {
     "data": {
      "text/latex": [
       "$\\displaystyle \\frac{\\epsilon + x}{\\sqrt{\\epsilon^{2} + \\left(\\epsilon + x\\right)^{2}}}$"
      ],
      "text/plain": [
       "(epsilon + x)/sqrt(epsilon**2 + (epsilon + x)**2)"
      ]
     },
     "metadata": {},
     "output_type": "display_data"
    },
    {
     "data": {
      "text/plain": [
       "'[ERROR] Values at x=0 do not match (raw / eps / eps.limit):'"
      ]
     },
     "metadata": {},
     "output_type": "display_data"
    },
    {
     "data": {
      "text/latex": [
       "$\\displaystyle 1$"
      ],
      "text/plain": [
       "1"
      ]
     },
     "metadata": {},
     "output_type": "display_data"
    },
    {
     "data": {
      "text/latex": [
       "$\\displaystyle \\frac{\\sqrt{2}}{2}$"
      ],
      "text/plain": [
       "sqrt(2)/2"
      ]
     },
     "metadata": {},
     "output_type": "display_data"
    },
    {
     "data": {
      "text/latex": [
       "$\\displaystyle \\frac{\\sqrt{2}}{2}$"
      ],
      "text/plain": [
       "sqrt(2)/2"
      ]
     },
     "metadata": {},
     "output_type": "display_data"
    },
    {
     "data": {
      "text/plain": [
       "'[ERROR] Derivatives at x=0 do not match (raw / eps / eps.limit):'"
      ]
     },
     "metadata": {},
     "output_type": "display_data"
    },
    {
     "data": {
      "text/latex": [
       "$\\displaystyle 0$"
      ],
      "text/plain": [
       "0"
      ]
     },
     "metadata": {},
     "output_type": "display_data"
    },
    {
     "data": {
      "text/latex": [
       "$\\displaystyle \\frac{\\sqrt{2}}{4 \\epsilon}$"
      ],
      "text/plain": [
       "sqrt(2)/(4*epsilon)"
      ]
     },
     "metadata": {},
     "output_type": "display_data"
    },
    {
     "data": {
      "text/latex": [
       "$\\displaystyle \\infty$"
      ],
      "text/plain": [
       "oo"
      ]
     },
     "metadata": {},
     "output_type": "display_data"
    },
    {
     "data": {
      "text/plain": [
       "False"
      ]
     },
     "execution_count": 49,
     "metadata": {},
     "output_type": "execute_result"
    }
   ],
   "source": [
    "is_epsilon_correct(lambda x, eps: (x + eps) / sm.sqrt(eps**2 + (x + eps) ** 2))"
   ]
  },
  {
   "cell_type": "code",
   "execution_count": 50,
   "metadata": {
    "execution": {
     "iopub.execute_input": "2025-07-23T21:32:23.409854Z",
     "iopub.status.busy": "2025-07-23T21:32:23.409592Z",
     "iopub.status.idle": "2025-07-23T21:32:23.453927Z",
     "shell.execute_reply": "2025-07-23T21:32:23.453174Z"
    }
   },
   "outputs": [
    {
     "data": {
      "text/plain": [
       "'Expressions (raw / eps):'"
      ]
     },
     "metadata": {},
     "output_type": "display_data"
    },
    {
     "data": {
      "text/latex": [
       "$\\displaystyle \\frac{x}{\\left|{x}\\right|}$"
      ],
      "text/plain": [
       "x/Abs(x)"
      ]
     },
     "metadata": {},
     "output_type": "display_data"
    },
    {
     "data": {
      "text/latex": [
       "$\\displaystyle \\frac{\\epsilon + x}{\\sqrt{\\epsilon^{2} + \\left(\\epsilon + x\\right)^{2}}}$"
      ],
      "text/plain": [
       "(epsilon + x)/sqrt(epsilon**2 + (epsilon + x)**2)"
      ]
     },
     "metadata": {},
     "output_type": "display_data"
    },
    {
     "data": {
      "text/plain": [
       "'[ERROR] Values at x=0 do not match (raw / eps / eps.limit):'"
      ]
     },
     "metadata": {},
     "output_type": "display_data"
    },
    {
     "data": {
      "text/latex": [
       "$\\displaystyle 1$"
      ],
      "text/plain": [
       "1"
      ]
     },
     "metadata": {},
     "output_type": "display_data"
    },
    {
     "data": {
      "text/latex": [
       "$\\displaystyle \\frac{\\sqrt{2}}{2}$"
      ],
      "text/plain": [
       "sqrt(2)/2"
      ]
     },
     "metadata": {},
     "output_type": "display_data"
    },
    {
     "data": {
      "text/latex": [
       "$\\displaystyle \\frac{\\sqrt{2}}{2}$"
      ],
      "text/plain": [
       "sqrt(2)/2"
      ]
     },
     "metadata": {},
     "output_type": "display_data"
    },
    {
     "data": {
      "text/plain": [
       "'[ERROR] Derivatives at x=0 do not match (raw / eps / eps.limit):'"
      ]
     },
     "metadata": {},
     "output_type": "display_data"
    },
    {
     "data": {
      "text/latex": [
       "$\\displaystyle 0$"
      ],
      "text/plain": [
       "0"
      ]
     },
     "metadata": {},
     "output_type": "display_data"
    },
    {
     "data": {
      "text/latex": [
       "$\\displaystyle \\frac{\\sqrt{2}}{4 \\epsilon}$"
      ],
      "text/plain": [
       "sqrt(2)/(4*epsilon)"
      ]
     },
     "metadata": {},
     "output_type": "display_data"
    },
    {
     "data": {
      "text/latex": [
       "$\\displaystyle \\infty$"
      ],
      "text/plain": [
       "oo"
      ]
     },
     "metadata": {},
     "output_type": "display_data"
    },
    {
     "data": {
      "text/plain": [
       "False"
      ]
     },
     "execution_count": 50,
     "metadata": {},
     "output_type": "execute_result"
    }
   ],
   "source": [
    "is_epsilon_correct(lambda x, eps: (x + eps) / sm.sqrt(eps**2 + (x + eps) ** 2))"
   ]
  }
 ],
 "metadata": {
  "kernelspec": {
   "display_name": "Python 3.8.9 64-bit",
   "language": "python",
   "name": "python3"
  },
  "language_info": {
   "codemirror_mode": {
    "name": "ipython",
    "version": 3
   },
   "file_extension": ".py",
   "mimetype": "text/x-python",
   "name": "python",
   "nbconvert_exporter": "python",
   "pygments_lexer": "ipython3",
   "version": "3.8.18"
  },
  "vscode": {
   "interpreter": {
    "hash": "36f0e22b03afe0406e010af8b04d290f2434e9abbb5b497280550ee7446112c1"
   }
  }
 },
 "nbformat": 4,
 "nbformat_minor": 2
}
