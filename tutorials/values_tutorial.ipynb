{
 "cells": [
  {
   "cell_type": "markdown",
   "metadata": {},
   "source": [
    "# Values Tutorial"
   ]
  },
  {
   "cell_type": "markdown",
   "metadata": {},
   "source": [
    "[Values](../api/symforce.values.values.html#symforce.values.values.Values) objects are ordered dict-like containers used to store multiple heterogeneous objects, normally for the purpose of function generation.\n",
    "\n",
    "Typically a Values object will first be created to defines a number of different symbolic inputs (e.g. rotations, translations, scalars, poses, cameras, etc.). Then, a second Values object will be created to describe the objects to be returned from the function, which will be composed of the symbolic elements defined by the input Values object."
   ]
  },
  {
   "cell_type": "code",
   "execution_count": 1,
   "metadata": {
    "execution": {
     "iopub.execute_input": "2024-04-23T23:18:55.139783Z",
     "iopub.status.busy": "2024-04-23T23:18:55.139542Z",
     "iopub.status.idle": "2024-04-23T23:18:55.745794Z",
     "shell.execute_reply": "2024-04-23T23:18:55.744958Z"
    }
   },
   "outputs": [],
   "source": [
    "# Setup\n",
    "import symforce\n",
    "\n",
    "symforce.set_symbolic_api(\"sympy\")\n",
    "symforce.set_log_level(\"warning\")\n",
    "\n",
    "import symforce.symbolic as sf\n",
    "from symforce.notebook_util import display\n",
    "from symforce.values import Values"
   ]
  },
  {
   "cell_type": "code",
   "execution_count": 2,
   "metadata": {
    "execution": {
     "iopub.execute_input": "2024-04-23T23:18:55.751283Z",
     "iopub.status.busy": "2024-04-23T23:18:55.750085Z",
     "iopub.status.idle": "2024-04-23T23:18:55.759496Z",
     "shell.execute_reply": "2024-04-23T23:18:55.758919Z"
    }
   },
   "outputs": [
    {
     "data": {
      "text/plain": [
       "Values(\n",
       "  x: x,\n",
       "  y: <Rot2 <C real=c_re, imag=c_im>>,\n",
       ")"
      ]
     },
     "metadata": {},
     "output_type": "display_data"
    }
   ],
   "source": [
    "inputs = Values(\n",
    "    x=sf.Symbol(\"x\"),\n",
    "    y=sf.Rot2.symbolic(\"c\"),\n",
    ")\n",
    "display(inputs)"
   ]
  },
  {
   "cell_type": "markdown",
   "metadata": {},
   "source": [
    "The `.add()` method can add a symbol using its name as the key:"
   ]
  },
  {
   "cell_type": "code",
   "execution_count": 3,
   "metadata": {
    "execution": {
     "iopub.execute_input": "2024-04-23T23:18:55.763605Z",
     "iopub.status.busy": "2024-04-23T23:18:55.762595Z",
     "iopub.status.idle": "2024-04-23T23:18:55.769436Z",
     "shell.execute_reply": "2024-04-23T23:18:55.768889Z"
    }
   },
   "outputs": [
    {
     "data": {
      "text/plain": [
       "Values(\n",
       "  x: x,\n",
       "  y: <Rot2 <C real=c_re, imag=c_im>>,\n",
       "  foo: foo,\n",
       ")"
      ]
     },
     "metadata": {},
     "output_type": "display_data"
    }
   ],
   "source": [
    "inputs.add(sf.Symbol(\"foo\"))\n",
    "display(inputs)"
   ]
  },
  {
   "cell_type": "markdown",
   "metadata": {},
   "source": [
    "Adding sub-values are well encouraged:"
   ]
  },
  {
   "cell_type": "code",
   "execution_count": 4,
   "metadata": {
    "execution": {
     "iopub.execute_input": "2024-04-23T23:18:55.773350Z",
     "iopub.status.busy": "2024-04-23T23:18:55.772351Z",
     "iopub.status.idle": "2024-04-23T23:18:55.820257Z",
     "shell.execute_reply": "2024-04-23T23:18:55.819605Z"
    }
   },
   "outputs": [
    {
     "data": {
      "text/plain": [
       "Values(\n",
       "  x: x,\n",
       "  y: <Rot2 <C real=c_re, imag=c_im>>,\n",
       "  foo: foo,\n",
       "  states:   Values(\n",
       "    p: x**2 + sin(y)/x**2,\n",
       "  ),\n",
       ")"
      ]
     },
     "metadata": {},
     "output_type": "display_data"
    }
   ],
   "source": [
    "x, y = sf.symbols(\"x y\")\n",
    "expr = x**2 + sf.sin(y) / x**2\n",
    "inputs[\"states\"] = Values(p=expr)\n",
    "display(inputs)"
   ]
  },
  {
   "cell_type": "markdown",
   "metadata": {},
   "source": [
    "A Values serializes to a depth-first traversed list. This means it implements StorageOps:"
   ]
  },
  {
   "cell_type": "code",
   "execution_count": 5,
   "metadata": {
    "execution": {
     "iopub.execute_input": "2024-04-23T23:18:55.824696Z",
     "iopub.status.busy": "2024-04-23T23:18:55.823642Z",
     "iopub.status.idle": "2024-04-23T23:18:56.569948Z",
     "shell.execute_reply": "2024-04-23T23:18:56.569331Z"
    }
   },
   "outputs": [
    {
     "data": {
      "image/png": "[encoded data removed]",
      "text/latex": [
       "$\\displaystyle \\left[ x, \\  c_{re}, \\  c_{im}, \\  foo, \\  x^{2} + \\frac{\\sin{\\left(y \\right)}}{x^{2}}\\right]$"
      ],
      "text/plain": [
       "⎡                   2   sin(y)⎤\n",
       "⎢x, cᵣₑ, cᵢₘ, foo, x  + ──────⎥\n",
       "⎢                          2  ⎥\n",
       "⎣                         x   ⎦"
      ]
     },
     "metadata": {},
     "output_type": "display_data"
    }
   ],
   "source": [
    "display(inputs.to_storage())"
   ]
  },
  {
   "cell_type": "markdown",
   "metadata": {},
   "source": [
    "We can also get a flattened lists of keys and values, with `.` separation for sub-values:"
   ]
  },
  {
   "cell_type": "code",
   "execution_count": 6,
   "metadata": {
    "execution": {
     "iopub.execute_input": "2024-04-23T23:18:56.574360Z",
     "iopub.status.busy": "2024-04-23T23:18:56.573256Z",
     "iopub.status.idle": "2024-04-23T23:18:56.580508Z",
     "shell.execute_reply": "2024-04-23T23:18:56.579958Z"
    }
   },
   "outputs": [
    {
     "data": {
      "text/plain": [
       "[('x', x),\n",
       " ('y', <Rot2 <C real=c_re, imag=c_im>>),\n",
       " ('foo', foo),\n",
       " ('states.p', x**2 + sin(y)/x**2)]"
      ]
     },
     "metadata": {},
     "output_type": "display_data"
    }
   ],
   "source": [
    "display(inputs.items_recursive())"
   ]
  },
  {
   "cell_type": "markdown",
   "metadata": {},
   "source": [
    "Note that there is a `.keys_recursive()` and a `.values_recursive()` which return flattened lists of keys and values respectively:"
   ]
  },
  {
   "cell_type": "code",
   "execution_count": 7,
   "metadata": {
    "execution": {
     "iopub.execute_input": "2024-04-23T23:18:56.584243Z",
     "iopub.status.busy": "2024-04-23T23:18:56.583290Z",
     "iopub.status.idle": "2024-04-23T23:18:56.591753Z",
     "shell.execute_reply": "2024-04-23T23:18:56.591232Z"
    }
   },
   "outputs": [
    {
     "data": {
      "text/plain": [
       "['x', 'y', 'foo', 'states.p']"
      ]
     },
     "metadata": {},
     "output_type": "display_data"
    },
    {
     "data": {
      "text/plain": [
       "[x, <Rot2 <C real=c_re, imag=c_im>>, foo, x**2 + sin(y)/x**2]"
      ]
     },
     "metadata": {},
     "output_type": "display_data"
    }
   ],
   "source": [
    "display(inputs.keys_recursive())\n",
    "display(inputs.values_recursive())"
   ]
  },
  {
   "cell_type": "markdown",
   "metadata": {},
   "source": [
    "To fully reconstruct the types in the Values from the serialized scalars, we need an index that describes which parts of the serialized list correspond to which types. The spec is `T.Dict[str, IndexEntry]` where `IndexEntry` has attributes `offset, storage_dim, datatype, shape, item_index`:"
   ]
  },
  {
   "cell_type": "code",
   "execution_count": 8,
   "metadata": {
    "execution": {
     "iopub.execute_input": "2024-04-23T23:18:56.595399Z",
     "iopub.status.busy": "2024-04-23T23:18:56.594471Z",
     "iopub.status.idle": "2024-04-23T23:18:56.600689Z",
     "shell.execute_reply": "2024-04-23T23:18:56.600166Z"
    }
   },
   "outputs": [
    {
     "data": {
      "text/plain": [
       "{'x': IndexEntry(offset=0, storage_dim=1, _module='builtins', _qualname='float', shape=None, item_index=None),\n",
       " 'y': IndexEntry(offset=1, storage_dim=2, _module='symforce.geo.rot2', _qualname='Rot2', shape=None, item_index=None),\n",
       " 'foo': IndexEntry(offset=3, storage_dim=1, _module='builtins', _qualname='float', shape=None, item_index=None),\n",
       " 'states': IndexEntry(offset=4, storage_dim=1, _module='symforce.values.values', _qualname='Values', shape=None, item_index={'p': IndexEntry(offset=0, storage_dim=1, _module='builtins', _qualname='float', shape=None, item_index=None)})}"
      ]
     },
     "execution_count": 8,
     "metadata": {},
     "output_type": "execute_result"
    }
   ],
   "source": [
    "index = inputs.index()\n",
    "index"
   ]
  },
  {
   "cell_type": "markdown",
   "metadata": {},
   "source": [
    "With a serialized list and an index, we can get the values back:"
   ]
  },
  {
   "cell_type": "code",
   "execution_count": 9,
   "metadata": {
    "execution": {
     "iopub.execute_input": "2024-04-23T23:18:56.604652Z",
     "iopub.status.busy": "2024-04-23T23:18:56.603397Z",
     "iopub.status.idle": "2024-04-23T23:18:56.610892Z",
     "shell.execute_reply": "2024-04-23T23:18:56.610140Z"
    }
   },
   "outputs": [
    {
     "data": {
      "text/plain": [
       "Values(\n",
       "  x: x,\n",
       "  y: <Rot2 <C real=c_re, imag=c_im>>,\n",
       "  foo: foo,\n",
       "  states:   Values(\n",
       "    p: x**2 + sin(y)/x**2,\n",
       "  ),\n",
       ")"
      ]
     },
     "metadata": {},
     "output_type": "display_data"
    }
   ],
   "source": [
    "inputs2 = Values.from_storage_index(inputs.to_storage(), index)\n",
    "assert inputs == inputs2\n",
    "display(inputs)"
   ]
  },
  {
   "cell_type": "markdown",
   "metadata": {},
   "source": [
    "The `item_index` is a recursive structure that can contain the index for a sub-values:"
   ]
  },
  {
   "cell_type": "code",
   "execution_count": 10,
   "metadata": {
    "execution": {
     "iopub.execute_input": "2024-04-23T23:18:56.614522Z",
     "iopub.status.busy": "2024-04-23T23:18:56.613551Z",
     "iopub.status.idle": "2024-04-23T23:18:56.617757Z",
     "shell.execute_reply": "2024-04-23T23:18:56.617248Z"
    }
   },
   "outputs": [],
   "source": [
    "item_index = inputs.index()[\"states\"].item_index\n",
    "assert item_index == inputs[\"states\"].index()"
   ]
  },
  {
   "cell_type": "markdown",
   "metadata": {},
   "source": [
    "We can also set sub-values directly with dot notation in the keys. They get split up:"
   ]
  },
  {
   "cell_type": "code",
   "execution_count": 11,
   "metadata": {
    "execution": {
     "iopub.execute_input": "2024-04-23T23:18:56.621412Z",
     "iopub.status.busy": "2024-04-23T23:18:56.620442Z",
     "iopub.status.idle": "2024-04-23T23:18:56.627219Z",
     "shell.execute_reply": "2024-04-23T23:18:56.626684Z"
    }
   },
   "outputs": [
    {
     "data": {
      "text/plain": [
       "Values(\n",
       "  x: x,\n",
       "  y: <Rot2 <C real=c_re, imag=c_im>>,\n",
       "  foo: foo,\n",
       "  states:   Values(\n",
       "    p: x**2 + sin(y)/x**2,\n",
       "    blah: 3,\n",
       "  ),\n",
       ")"
      ]
     },
     "metadata": {},
     "output_type": "display_data"
    }
   ],
   "source": [
    "inputs[\"states.blah\"] = 3\n",
    "display(inputs)"
   ]
  },
  {
   "cell_type": "markdown",
   "metadata": {},
   "source": [
    "The `.attr` field also allows attribute access rather than key access:"
   ]
  },
  {
   "cell_type": "code",
   "execution_count": 12,
   "metadata": {
    "execution": {
     "iopub.execute_input": "2024-04-23T23:18:56.630959Z",
     "iopub.status.busy": "2024-04-23T23:18:56.629993Z",
     "iopub.status.idle": "2024-04-23T23:18:56.658484Z",
     "shell.execute_reply": "2024-04-23T23:18:56.657851Z"
    }
   },
   "outputs": [
    {
     "data": {
      "image/png": "[encoded data removed]",
      "text/latex": [
       "$\\displaystyle x^{2} + \\frac{\\sin{\\left(y \\right)}}{x^{2}}$"
      ],
      "text/plain": [
       " 2   sin(y)\n",
       "x  + ──────\n",
       "        2  \n",
       "       x   "
      ]
     },
     "metadata": {},
     "output_type": "display_data"
    }
   ],
   "source": [
    "assert inputs[\"states.p\"] is inputs[\"states\"][\"p\"] is inputs.attr.states.p\n",
    "display(inputs.attr.states.p)"
   ]
  },
  {
   "cell_type": "markdown",
   "metadata": {},
   "source": [
    "Finally, SymForce adds the concept of a name scope to namespace symbols. Within a scope block, symbol names get prefixed with the scope name:"
   ]
  },
  {
   "cell_type": "code",
   "execution_count": 13,
   "metadata": {
    "execution": {
     "iopub.execute_input": "2024-04-23T23:18:56.662670Z",
     "iopub.status.busy": "2024-04-23T23:18:56.661680Z",
     "iopub.status.idle": "2024-04-23T23:18:56.680278Z",
     "shell.execute_reply": "2024-04-23T23:18:56.679733Z"
    }
   },
   "outputs": [
    {
     "data": {
      "image/png": "[encoded data removed]",
      "text/latex": [
       "$\\displaystyle params.cost$"
      ],
      "text/plain": [
       "params.cost"
      ]
     },
     "metadata": {},
     "output_type": "display_data"
    }
   ],
   "source": [
    "with sf.scope(\"params\"):\n",
    "    s = sf.Symbol(\"cost\")\n",
    "display(s)"
   ]
  },
  {
   "cell_type": "markdown",
   "metadata": {},
   "source": [
    "A common use case is to call a function that adds symbols within your own name scope to avoid name collisions. You can also chain name scopes:"
   ]
  },
  {
   "cell_type": "code",
   "execution_count": 14,
   "metadata": {
    "execution": {
     "iopub.execute_input": "2024-04-23T23:18:56.684239Z",
     "iopub.status.busy": "2024-04-23T23:18:56.683277Z",
     "iopub.status.idle": "2024-04-23T23:18:56.705100Z",
     "shell.execute_reply": "2024-04-23T23:18:56.704550Z"
    }
   },
   "outputs": [
    {
     "data": {
      "text/plain": [
       "Values(\n",
       "  x: x,\n",
       "  foo:   Values(\n",
       "    x: foo.x,\n",
       "    bar:     Values(\n",
       "      x: foo.bar.x,\n",
       "    ),\n",
       "  ),\n",
       ")"
      ]
     },
     "metadata": {},
     "output_type": "display_data"
    },
    {
     "data": {
      "image/png": "[encoded data removed]",
      "text/latex": [
       "$\\displaystyle foo.bar.x$"
      ],
      "text/plain": [
       "foo.bar.x"
      ]
     },
     "metadata": {},
     "output_type": "display_data"
    }
   ],
   "source": [
    "v = Values()\n",
    "v.add(sf.Symbol(\"x\"))\n",
    "with sf.scope(\"foo\"):\n",
    "    v.add(sf.Symbol(\"x\"))\n",
    "    with sf.scope(\"bar\"):\n",
    "        v.add(sf.Symbol(\"x\"))\n",
    "display(v)\n",
    "display(v.attr.foo.bar.x)"
   ]
  },
  {
   "cell_type": "markdown",
   "metadata": {},
   "source": [
    "The values class also provides a `.scope()` method that not only applies the scope to symbol names but also to keys added to the Values:"
   ]
  },
  {
   "cell_type": "code",
   "execution_count": 15,
   "metadata": {
    "execution": {
     "iopub.execute_input": "2024-04-23T23:18:56.708939Z",
     "iopub.status.busy": "2024-04-23T23:18:56.708019Z",
     "iopub.status.idle": "2024-04-23T23:18:56.715041Z",
     "shell.execute_reply": "2024-04-23T23:18:56.714517Z"
    }
   },
   "outputs": [
    {
     "data": {
      "text/plain": [
       "Values(\n",
       "  hello:   Values(\n",
       "    y: x**2,\n",
       "    z: hello.z,\n",
       "  ),\n",
       ")"
      ]
     },
     "execution_count": 15,
     "metadata": {},
     "output_type": "execute_result"
    }
   ],
   "source": [
    "v = Values()\n",
    "with v.scope(\"hello\"):\n",
    "    v[\"y\"] = x**2\n",
    "    v[\"z\"] = sf.Symbol(\"z\")\n",
    "v"
   ]
  },
  {
   "cell_type": "markdown",
   "metadata": {},
   "source": [
    "This flexible set of features provided by the Values class allows conveniently building up large expressions, and acts as the interface to code generation."
   ]
  },
  {
   "cell_type": "markdown",
   "metadata": {},
   "source": [
    "## Lie Group Operations"
   ]
  },
  {
   "cell_type": "markdown",
   "metadata": {},
   "source": [
    "One useful feature of Values objects is that element-wise Lie group operations on can be performed on them."
   ]
  },
  {
   "cell_type": "code",
   "execution_count": 16,
   "metadata": {
    "execution": {
     "iopub.execute_input": "2024-04-23T23:18:56.718724Z",
     "iopub.status.busy": "2024-04-23T23:18:56.717785Z",
     "iopub.status.idle": "2024-04-23T23:18:56.726227Z",
     "shell.execute_reply": "2024-04-23T23:18:56.725714Z"
    }
   },
   "outputs": [
    {
     "data": {
      "text/plain": [
       "Values(\n",
       "  scalar: x,\n",
       "  rot3: <Rot3 <Q xyzw=[rot_x, rot_y, rot_z, rot_w]>>,\n",
       "  sub_vals:   Values(\n",
       "    pose3: <Pose3 R=<Rot3 <Q xyzw=[pose.R_x, pose.R_y, pose.R_z, pose.R_w]>>, t=(pose.t0, pose.t1, pose.t2)>,\n",
       "    vec: Matrix([\n",
       "[vec0],\n",
       "[vec1],\n",
       "[vec2]]),\n",
       "  ),\n",
       ")"
      ]
     },
     "metadata": {},
     "output_type": "display_data"
    }
   ],
   "source": [
    "lie_vals = Values()\n",
    "lie_vals[\"scalar\"] = sf.Symbol(\"x\")\n",
    "lie_vals[\"rot3\"] = sf.Rot3.symbolic(\"rot\")\n",
    "\n",
    "sub_lie_vals = Values()\n",
    "sub_lie_vals[\"pose3\"] = sf.Pose3.symbolic(\"pose\")\n",
    "sub_lie_vals[\"vec\"] = sf.V3.symbolic(\"vec\")\n",
    "\n",
    "lie_vals[\"sub_vals\"] = sub_lie_vals\n",
    "\n",
    "display(lie_vals)"
   ]
  },
  {
   "cell_type": "code",
   "execution_count": 17,
   "metadata": {
    "execution": {
     "iopub.execute_input": "2024-04-23T23:18:56.729685Z",
     "iopub.status.busy": "2024-04-23T23:18:56.728803Z",
     "iopub.status.idle": "2024-04-23T23:18:56.921255Z",
     "shell.execute_reply": "2024-04-23T23:18:56.920624Z"
    }
   },
   "outputs": [
    {
     "data": {
      "image/png": "[encoded data removed]",
      "text/latex": [
       "$\\displaystyle 13$"
      ],
      "text/plain": [
       "13"
      ]
     },
     "metadata": {},
     "output_type": "display_data"
    },
    {
     "data": {
      "image/png": "[encoded data removed]",
      "text/latex": [
       "$\\displaystyle 13$"
      ],
      "text/plain": [
       "13"
      ]
     },
     "metadata": {},
     "output_type": "display_data"
    }
   ],
   "source": [
    "display(lie_vals.tangent_dim())\n",
    "display(len(lie_vals.to_tangent()))"
   ]
  },
  {
   "cell_type": "markdown",
   "metadata": {},
   "source": [
    "Importantly, we can compute the jacobian of the storage space of the object with respect to its tangent space:"
   ]
  },
  {
   "cell_type": "code",
   "execution_count": 18,
   "metadata": {
    "execution": {
     "iopub.execute_input": "2024-04-23T23:18:56.925459Z",
     "iopub.status.busy": "2024-04-23T23:18:56.924479Z",
     "iopub.status.idle": "2024-04-23T23:18:56.976418Z",
     "shell.execute_reply": "2024-04-23T23:18:56.975813Z"
    }
   },
   "outputs": [
    {
     "data": {
      "text/latex": [
       "$\\displaystyle \\left[\\begin{array}{ccccccccccccc}1 & 0 & 0 & 0 & 0 & 0 & 0 & 0 & 0 & 0 & 0 & 0 & 0\\\\0 & \\frac{rot_{w}}{2} & - \\frac{rot_{z}}{2} & \\frac{rot_{y}}{2} & 0 & 0 & 0 & 0 & 0 & 0 & 0 & 0 & 0\\\\0 & \\frac{rot_{z}}{2} & \\frac{rot_{w}}{2} & - \\frac{rot_{x}}{2} & 0 & 0 & 0 & 0 & 0 & 0 & 0 & 0 & 0\\\\0 & - \\frac{rot_{y}}{2} & \\frac{rot_{x}}{2} & \\frac{rot_{w}}{2} & 0 & 0 & 0 & 0 & 0 & 0 & 0 & 0 & 0\\\\0 & - \\frac{rot_{x}}{2} & - \\frac{rot_{y}}{2} & - \\frac{rot_{z}}{2} & 0 & 0 & 0 & 0 & 0 & 0 & 0 & 0 & 0\\\\0 & 0 & 0 & 0 & \\frac{pose.R_{w}}{2} & - \\frac{pose.R_{z}}{2} & \\frac{pose.R_{y}}{2} & 0 & 0 & 0 & 0 & 0 & 0\\\\0 & 0 & 0 & 0 & \\frac{pose.R_{z}}{2} & \\frac{pose.R_{w}}{2} & - \\frac{pose.R_{x}}{2} & 0 & 0 & 0 & 0 & 0 & 0\\\\0 & 0 & 0 & 0 & - \\frac{pose.R_{y}}{2} & \\frac{pose.R_{x}}{2} & \\frac{pose.R_{w}}{2} & 0 & 0 & 0 & 0 & 0 & 0\\\\0 & 0 & 0 & 0 & - \\frac{pose.R_{x}}{2} & - \\frac{pose.R_{y}}{2} & - \\frac{pose.R_{z}}{2} & 0 & 0 & 0 & 0 & 0 & 0\\\\0 & 0 & 0 & 0 & 0 & 0 & 0 & 1 & 0 & 0 & 0 & 0 & 0\\\\0 & 0 & 0 & 0 & 0 & 0 & 0 & 0 & 1 & 0 & 0 & 0 & 0\\\\0 & 0 & 0 & 0 & 0 & 0 & 0 & 0 & 0 & 1 & 0 & 0 & 0\\\\0 & 0 & 0 & 0 & 0 & 0 & 0 & 0 & 0 & 0 & 1 & 0 & 0\\\\0 & 0 & 0 & 0 & 0 & 0 & 0 & 0 & 0 & 0 & 0 & 1 & 0\\\\0 & 0 & 0 & 0 & 0 & 0 & 0 & 0 & 0 & 0 & 0 & 0 & 1\\end{array}\\right]$"
      ],
      "text/plain": [
       "⎡1     0        0        0         0           0           0       0  0  0  0 \n",
       "⎢                                                                             \n",
       "⎢    rot_w   -rot_z    rot_y                                                  \n",
       "⎢0   ─────   ───────   ─────       0           0           0       0  0  0  0 \n",
       "⎢      2        2        2                                                    \n",
       "⎢                                                                             \n",
       "⎢    rot_z    rot_w   -rotₓ                                                   \n",
       "⎢0   ─────    ─────   ──────       0           0           0       0  0  0  0 \n",
       "⎢      2        2       2                                                     \n",
       "⎢                                                                             \n",
       "⎢   -rot_y    rotₓ     rot_w                                                  \n",
       "⎢0  ───────   ────     ─────       0           0           0       0  0  0  0 \n",
       "⎢      2       2         2                                                    \n",
       "⎢                                                                             \n",
       "⎢   -rotₓ    -rot_y   -rot_z                                                  \n",
       "⎢0  ──────   ───────  ───────      0           0           0       0  0  0  0 \n",
       "⎢     2         2        2                                                    \n",
       "⎢                                                                             \n",
       "⎢                               pose.R_w   -pose.R_z    pose.R_y              \n",
       "⎢0     0        0        0      ────────   ──────────   ────────   0  0  0  0 \n",
       "⎢                                  2           2           2                  \n",
       "⎢                                                                             \n",
       "⎢                               pose.R_z    pose.R_w   -pose.Rₓ               \n",
       "⎢0     0        0        0      ────────    ────────   ─────────   0  0  0  0 \n",
       "⎢                                  2           2           2                  \n",
       "⎢                                                                             \n",
       "⎢                              -pose.R_y    pose.Rₓ     pose.R_w              \n",
       "⎢0     0        0        0     ──────────   ───────     ────────   0  0  0  0 \n",
       "⎢                                  2           2           2                  \n",
       "⎢                                                                             \n",
       "⎢                              -pose.Rₓ    -pose.R_y   -pose.R_z              \n",
       "⎢0     0        0        0     ─────────   ──────────  ──────────  0  0  0  0 \n",
       "⎢                                  2           2           2                  \n",
       "⎢                                                                             \n",
       "⎢0     0        0        0         0           0           0       1  0  0  0 \n",
       "⎢                                                                             \n",
       "⎢0     0        0        0         0           0           0       0  1  0  0 \n",
       "⎢                                                                             \n",
       "⎢0     0        0        0         0           0           0       0  0  1  0 \n",
       "⎢                                                                             \n",
       "⎢0     0        0        0         0           0           0       0  0  0  1 \n",
       "⎢                                                                             \n",
       "⎢0     0        0        0         0           0           0       0  0  0  0 \n",
       "⎢                                                                             \n",
       "⎣0     0        0        0         0           0           0       0  0  0  0 \n",
       "\n",
       " 0  0⎤\n",
       "     ⎥\n",
       "     ⎥\n",
       " 0  0⎥\n",
       "     ⎥\n",
       "     ⎥\n",
       "     ⎥\n",
       " 0  0⎥\n",
       "     ⎥\n",
       "     ⎥\n",
       "     ⎥\n",
       " 0  0⎥\n",
       "     ⎥\n",
       "     ⎥\n",
       "     ⎥\n",
       " 0  0⎥\n",
       "     ⎥\n",
       "     ⎥\n",
       "     ⎥\n",
       " 0  0⎥\n",
       "     ⎥\n",
       "     ⎥\n",
       "     ⎥\n",
       " 0  0⎥\n",
       "     ⎥\n",
       "     ⎥\n",
       "     ⎥\n",
       " 0  0⎥\n",
       "     ⎥\n",
       "     ⎥\n",
       "     ⎥\n",
       " 0  0⎥\n",
       "     ⎥\n",
       "     ⎥\n",
       " 0  0⎥\n",
       "     ⎥\n",
       " 0  0⎥\n",
       "     ⎥\n",
       " 0  0⎥\n",
       "     ⎥\n",
       " 0  0⎥\n",
       "     ⎥\n",
       " 1  0⎥\n",
       "     ⎥\n",
       " 0  1⎦"
      ]
     },
     "metadata": {},
     "output_type": "display_data"
    }
   ],
   "source": [
    "display(lie_vals.storage_D_tangent())"
   ]
  },
  {
   "cell_type": "markdown",
   "metadata": {},
   "source": [
    "This means that we can use the elements of the object to compute a residual, and then compute the jacobian of such a residual with respect to the tangent space of our values object."
   ]
  },
  {
   "cell_type": "code",
   "execution_count": 19,
   "metadata": {
    "execution": {
     "iopub.execute_input": "2024-04-23T23:18:56.980489Z",
     "iopub.status.busy": "2024-04-23T23:18:56.979534Z",
     "iopub.status.idle": "2024-04-23T23:18:57.102651Z",
     "shell.execute_reply": "2024-04-23T23:18:57.102016Z"
    }
   },
   "outputs": [
    {
     "data": {
      "text/latex": [
       "$\\displaystyle \\left[\\begin{matrix}vec_{0} \\left(- 2 rot_{y}^{2} - 2 rot_{z}^{2} + 1\\right) + vec_{1} \\left(- 2 rot_{w} rot_{z} + 2 rot_{x} rot_{y}\\right) + vec_{2} \\cdot \\left(2 rot_{w} rot_{y} + 2 rot_{x} rot_{z}\\right)\\\\vec_{0} \\cdot \\left(2 rot_{w} rot_{z} + 2 rot_{x} rot_{y}\\right) + vec_{1} \\left(- 2 rot_{x}^{2} - 2 rot_{z}^{2} + 1\\right) + vec_{2} \\left(- 2 rot_{w} rot_{x} + 2 rot_{y} rot_{z}\\right)\\\\vec_{0} \\left(- 2 rot_{w} rot_{y} + 2 rot_{x} rot_{z}\\right) + vec_{1} \\cdot \\left(2 rot_{w} rot_{x} + 2 rot_{y} rot_{z}\\right) + vec_{2} \\left(- 2 rot_{x}^{2} - 2 rot_{y}^{2} + 1\\right)\\\\pose.t0 + vec_{0} \\left(- 2 pose.R_{y}^{2} - 2 pose.R_{z}^{2} + 1\\right) + vec_{1} \\left(- 2 pose.R_{w} pose.R_{z} + 2 pose.R_{x} pose.R_{y}\\right) + vec_{2} \\cdot \\left(2 pose.R_{w} pose.R_{y} + 2 pose.R_{x} pose.R_{z}\\right)\\\\pose.t1 + vec_{0} \\cdot \\left(2 pose.R_{w} pose.R_{z} + 2 pose.R_{x} pose.R_{y}\\right) + vec_{1} \\left(- 2 pose.R_{x}^{2} - 2 pose.R_{z}^{2} + 1\\right) + vec_{2} \\left(- 2 pose.R_{w} pose.R_{x} + 2 pose.R_{y} pose.R_{z}\\right)\\\\pose.t2 + vec_{0} \\left(- 2 pose.R_{w} pose.R_{y} + 2 pose.R_{x} pose.R_{z}\\right) + vec_{1} \\cdot \\left(2 pose.R_{w} pose.R_{x} + 2 pose.R_{y} pose.R_{z}\\right) + vec_{2} \\left(- 2 pose.R_{x}^{2} - 2 pose.R_{y}^{2} + 1\\right)\\end{matrix}\\right]$"
      ],
      "text/plain": [
       "⎡                         ⎛         2          2    ⎞                         \n",
       "⎢                    vec₀⋅⎝- 2⋅rot_y  - 2⋅rot_z  + 1⎠ + vec₁⋅(-2⋅rot_w⋅rot_z +\n",
       "⎢                                                                             \n",
       "⎢                                                               ⎛        2    \n",
       "⎢                    vec₀⋅(2⋅rot_w⋅rot_z + 2⋅rotₓ⋅rot_y) + vec₁⋅⎝- 2⋅rotₓ  - 2\n",
       "⎢                                                                             \n",
       "⎢                                                                             \n",
       "⎢                    vec₀⋅(-2⋅rot_w⋅rot_y + 2⋅rotₓ⋅rot_z) + vec₁⋅(2⋅rot_w⋅rotₓ\n",
       "⎢                                                                             \n",
       "⎢               ⎛            2             2    ⎞                             \n",
       "⎢pose.t0 + vec₀⋅⎝- 2⋅pose.R_y  - 2⋅pose.R_z  + 1⎠ + vec₁⋅(-2⋅pose.R_w⋅pose.R_z\n",
       "⎢                                                                             \n",
       "⎢                                                                 ⎛           \n",
       "⎢pose.t1 + vec₀⋅(2⋅pose.R_w⋅pose.R_z + 2⋅pose.Rₓ⋅pose.R_y) + vec₁⋅⎝- 2⋅pose.Rₓ\n",
       "⎢                                                                             \n",
       "⎢                                                                             \n",
       "⎣pose.t2 + vec₀⋅(-2⋅pose.R_w⋅pose.R_y + 2⋅pose.Rₓ⋅pose.R_z) + vec₁⋅(2⋅pose.R_w\n",
       "\n",
       "                                                                        ⎤\n",
       " 2⋅rotₓ⋅rot_y) + vec₂⋅(2⋅rot_w⋅rot_y + 2⋅rotₓ⋅rot_z)                    ⎥\n",
       "                                                                        ⎥\n",
       "      2    ⎞                                                            ⎥\n",
       "⋅rot_z  + 1⎠ + vec₂⋅(-2⋅rot_w⋅rotₓ + 2⋅rot_y⋅rot_z)                     ⎥\n",
       "                                                                        ⎥\n",
       "                         ⎛        2          2    ⎞                     ⎥\n",
       " + 2⋅rot_y⋅rot_z) + vec₂⋅⎝- 2⋅rotₓ  - 2⋅rot_y  + 1⎠                     ⎥\n",
       "                                                                        ⎥\n",
       "                                                                        ⎥\n",
       " + 2⋅pose.Rₓ⋅pose.R_y) + vec₂⋅(2⋅pose.R_w⋅pose.R_y + 2⋅pose.Rₓ⋅pose.R_z)⎥\n",
       "                                                                        ⎥\n",
       "2             2    ⎞                                                    ⎥\n",
       "  - 2⋅pose.R_z  + 1⎠ + vec₂⋅(-2⋅pose.R_w⋅pose.Rₓ + 2⋅pose.R_y⋅pose.R_z) ⎥\n",
       "                                                                        ⎥\n",
       "                                       ⎛           2             2    ⎞ ⎥\n",
       "⋅pose.Rₓ + 2⋅pose.R_y⋅pose.R_z) + vec₂⋅⎝- 2⋅pose.Rₓ  - 2⋅pose.R_y  + 1⎠ ⎦"
      ]
     },
     "metadata": {},
     "output_type": "display_data"
    }
   ],
   "source": [
    "residual = sf.Matrix(6, 1)\n",
    "residual[0:3, 0] = lie_vals[\"rot3\"] * lie_vals[\"sub_vals.vec\"]\n",
    "residual[3:6, 0] = lie_vals[\"sub_vals.pose3\"] * lie_vals[\"sub_vals.vec\"]\n",
    "display(residual)"
   ]
  },
  {
   "cell_type": "code",
   "execution_count": 20,
   "metadata": {
    "execution": {
     "iopub.execute_input": "2024-04-23T23:18:57.107025Z",
     "iopub.status.busy": "2024-04-23T23:18:57.106107Z",
     "iopub.status.idle": "2024-04-23T23:18:58.528912Z",
     "shell.execute_reply": "2024-04-23T23:18:58.528134Z"
    }
   },
   "outputs": [
    {
     "data": {
      "image/png": "[encoded data removed]",
      "text/latex": [
       "$\\displaystyle \\left( 6, \\  13\\right)$"
      ],
      "text/plain": [
       "(6, 13)"
      ]
     },
     "metadata": {},
     "output_type": "display_data"
    },
    {
     "data": {
      "text/latex": [
       "$\\displaystyle \\left[\\begin{array}{ccccccccccccc}0 & vec_{1} \\cdot \\left(2 rot_{w} rot_{y} + 2 rot_{x} rot_{z}\\right) + vec_{2} \\cdot \\left(2 rot_{w} rot_{z} - 2 rot_{x} rot_{y}\\right) & vec_{0} \\left(- 2 rot_{w} rot_{y} - 2 rot_{x} rot_{z}\\right) + vec_{2} \\left(rot_{w}^{2} + rot_{x}^{2} - rot_{y}^{2} - rot_{z}^{2}\\right) & vec_{0} \\left(- 2 rot_{w} rot_{z} + 2 rot_{x} rot_{y}\\right) + vec_{1} \\left(- rot_{w}^{2} - rot_{x}^{2} + rot_{y}^{2} + rot_{z}^{2}\\right) & 0 & 0 & 0 & 0 & 0 & 0 & - 2 rot_{y}^{2} - 2 rot_{z}^{2} + 1 & - 2 rot_{w} rot_{z} + 2 rot_{x} rot_{y} & 2 rot_{w} rot_{y} + 2 rot_{x} rot_{z}\\\\0 & vec_{1} \\left(- 2 rot_{w} rot_{x} + 2 rot_{y} rot_{z}\\right) + vec_{2} \\left(- rot_{w}^{2} + rot_{x}^{2} - rot_{y}^{2} + rot_{z}^{2}\\right) & vec_{0} \\cdot \\left(2 rot_{w} rot_{x} - 2 rot_{y} rot_{z}\\right) + vec_{2} \\cdot \\left(2 rot_{w} rot_{z} + 2 rot_{x} rot_{y}\\right) & vec_{0} \\left(rot_{w}^{2} - rot_{x}^{2} + rot_{y}^{2} - rot_{z}^{2}\\right) + vec_{1} \\left(- 2 rot_{w} rot_{z} - 2 rot_{x} rot_{y}\\right) & 0 & 0 & 0 & 0 & 0 & 0 & 2 rot_{w} rot_{z} + 2 rot_{x} rot_{y} & - 2 rot_{x}^{2} - 2 rot_{z}^{2} + 1 & - 2 rot_{w} rot_{x} + 2 rot_{y} rot_{z}\\\\0 & vec_{1} \\left(rot_{w}^{2} - rot_{x}^{2} - rot_{y}^{2} + rot_{z}^{2}\\right) + vec_{2} \\left(- 2 rot_{w} rot_{x} - 2 rot_{y} rot_{z}\\right) & vec_{0} \\left(- rot_{w}^{2} + rot_{x}^{2} + rot_{y}^{2} - rot_{z}^{2}\\right) + vec_{2} \\left(- 2 rot_{w} rot_{y} + 2 rot_{x} rot_{z}\\right) & vec_{0} \\cdot \\left(2 rot_{w} rot_{x} + 2 rot_{y} rot_{z}\\right) + vec_{1} \\cdot \\left(2 rot_{w} rot_{y} - 2 rot_{x} rot_{z}\\right) & 0 & 0 & 0 & 0 & 0 & 0 & - 2 rot_{w} rot_{y} + 2 rot_{x} rot_{z} & 2 rot_{w} rot_{x} + 2 rot_{y} rot_{z} & - 2 rot_{x}^{2} - 2 rot_{y}^{2} + 1\\\\0 & 0 & 0 & 0 & vec_{1} \\cdot \\left(2 pose.R_{w} pose.R_{y} + 2 pose.R_{x} pose.R_{z}\\right) + vec_{2} \\cdot \\left(2 pose.R_{w} pose.R_{z} - 2 pose.R_{x} pose.R_{y}\\right) & vec_{0} \\left(- 2 pose.R_{w} pose.R_{y} - 2 pose.R_{x} pose.R_{z}\\right) + vec_{2} \\left(pose.R_{w}^{2} + pose.R_{x}^{2} - pose.R_{y}^{2} - pose.R_{z}^{2}\\right) & vec_{0} \\left(- 2 pose.R_{w} pose.R_{z} + 2 pose.R_{x} pose.R_{y}\\right) + vec_{1} \\left(- pose.R_{w}^{2} - pose.R_{x}^{2} + pose.R_{y}^{2} + pose.R_{z}^{2}\\right) & 1 & 0 & 0 & - 2 pose.R_{y}^{2} - 2 pose.R_{z}^{2} + 1 & - 2 pose.R_{w} pose.R_{z} + 2 pose.R_{x} pose.R_{y} & 2 pose.R_{w} pose.R_{y} + 2 pose.R_{x} pose.R_{z}\\\\0 & 0 & 0 & 0 & vec_{1} \\left(- 2 pose.R_{w} pose.R_{x} + 2 pose.R_{y} pose.R_{z}\\right) + vec_{2} \\left(- pose.R_{w}^{2} + pose.R_{x}^{2} - pose.R_{y}^{2} + pose.R_{z}^{2}\\right) & vec_{0} \\cdot \\left(2 pose.R_{w} pose.R_{x} - 2 pose.R_{y} pose.R_{z}\\right) + vec_{2} \\cdot \\left(2 pose.R_{w} pose.R_{z} + 2 pose.R_{x} pose.R_{y}\\right) & vec_{0} \\left(pose.R_{w}^{2} - pose.R_{x}^{2} + pose.R_{y}^{2} - pose.R_{z}^{2}\\right) + vec_{1} \\left(- 2 pose.R_{w} pose.R_{z} - 2 pose.R_{x} pose.R_{y}\\right) & 0 & 1 & 0 & 2 pose.R_{w} pose.R_{z} + 2 pose.R_{x} pose.R_{y} & - 2 pose.R_{x}^{2} - 2 pose.R_{z}^{2} + 1 & - 2 pose.R_{w} pose.R_{x} + 2 pose.R_{y} pose.R_{z}\\\\0 & 0 & 0 & 0 & vec_{1} \\left(pose.R_{w}^{2} - pose.R_{x}^{2} - pose.R_{y}^{2} + pose.R_{z}^{2}\\right) + vec_{2} \\left(- 2 pose.R_{w} pose.R_{x} - 2 pose.R_{y} pose.R_{z}\\right) & vec_{0} \\left(- pose.R_{w}^{2} + pose.R_{x}^{2} + pose.R_{y}^{2} - pose.R_{z}^{2}\\right) + vec_{2} \\left(- 2 pose.R_{w} pose.R_{y} + 2 pose.R_{x} pose.R_{z}\\right) & vec_{0} \\cdot \\left(2 pose.R_{w} pose.R_{x} + 2 pose.R_{y} pose.R_{z}\\right) + vec_{1} \\cdot \\left(2 pose.R_{w} pose.R_{y} - 2 pose.R_{x} pose.R_{z}\\right) & 0 & 0 & 1 & - 2 pose.R_{w} pose.R_{y} + 2 pose.R_{x} pose.R_{z} & 2 pose.R_{w} pose.R_{x} + 2 pose.R_{y} pose.R_{z} & - 2 pose.R_{x}^{2} - 2 pose.R_{y}^{2} + 1\\end{array}\\right]$"
      ],
      "text/plain": [
       "⎡                                                                             \n",
       "⎢0     vec₁⋅(2⋅rot_w⋅rot_y + 2⋅rotₓ⋅rot_z) + vec₂⋅(2⋅rot_w⋅rot_z - 2⋅rotₓ⋅rot_\n",
       "⎢                                                                             \n",
       "⎢                                               ⎛       2       2        2    \n",
       "⎢0  vec₁⋅(-2⋅rot_w⋅rotₓ + 2⋅rot_y⋅rot_z) + vec₂⋅⎝- rot_w  + rotₓ  - rot_y  + r\n",
       "⎢                                                                             \n",
       "⎢         ⎛     2       2        2        2⎞                                  \n",
       "⎢0   vec₁⋅⎝rot_w  - rotₓ  - rot_y  + rot_z ⎠ + vec₂⋅(-2⋅rot_w⋅rotₓ - 2⋅rot_y⋅r\n",
       "⎢                                                                             \n",
       "⎢                                                                             \n",
       "⎢0                                         0                                  \n",
       "⎢                                                                             \n",
       "⎢                                                                             \n",
       "⎢0                                         0                                  \n",
       "⎢                                                                             \n",
       "⎢                                                                             \n",
       "⎣0                                         0                                  \n",
       "\n",
       "                                                     ⎛     2       2        2 \n",
       "y)       vec₀⋅(-2⋅rot_w⋅rot_y - 2⋅rotₓ⋅rot_z) + vec₂⋅⎝rot_w  + rotₓ  - rot_y  \n",
       "                                                                              \n",
       "    2⎞                                                                        \n",
       "ot_z ⎠     vec₀⋅(2⋅rot_w⋅rotₓ - 2⋅rot_y⋅rot_z) + vec₂⋅(2⋅rot_w⋅rot_z + 2⋅rotₓ⋅\n",
       "                                                                              \n",
       "             ⎛       2       2        2        2⎞                             \n",
       "ot_z)   vec₀⋅⎝- rot_w  + rotₓ  + rot_y  - rot_z ⎠ + vec₂⋅(-2⋅rot_w⋅rot_y + 2⋅r\n",
       "                                                                              \n",
       "                                                                              \n",
       "                                               0                              \n",
       "                                                                              \n",
       "                                                                              \n",
       "                                               0                              \n",
       "                                                                              \n",
       "                                                                              \n",
       "                                               0                              \n",
       "\n",
       "       2⎞                                               ⎛       2       2     \n",
       "- rot_z ⎠   vec₀⋅(-2⋅rot_w⋅rot_z + 2⋅rotₓ⋅rot_y) + vec₁⋅⎝- rot_w  - rotₓ  + ro\n",
       "                                                                              \n",
       "                  ⎛     2       2        2        2⎞                          \n",
       "rot_y)       vec₀⋅⎝rot_w  - rotₓ  + rot_y  - rot_z ⎠ + vec₁⋅(-2⋅rot_w⋅rot_z - \n",
       "                                                                              \n",
       "                                                                              \n",
       "otₓ⋅rot_z)     vec₀⋅(2⋅rot_w⋅rotₓ + 2⋅rot_y⋅rot_z) + vec₁⋅(2⋅rot_w⋅rot_y - 2⋅r\n",
       "                                                                              \n",
       "                                                                              \n",
       "                                                   0                          \n",
       "                                                                              \n",
       "                                                                              \n",
       "                                                   0                          \n",
       "                                                                              \n",
       "                                                                              \n",
       "                                                   0                          \n",
       "\n",
       "   2        2⎞                                                                \n",
       "t_y  + rot_z ⎠                                                     0          \n",
       "                                                                              \n",
       "                                                                              \n",
       "2⋅rotₓ⋅rot_y)                                                      0          \n",
       "                                                                              \n",
       "                                                                              \n",
       "otₓ⋅rot_z)                                                         0          \n",
       "                                                                              \n",
       "                                                                              \n",
       "                   vec₁⋅(2⋅pose.R_w⋅pose.R_y + 2⋅pose.Rₓ⋅pose.R_z) + vec₂⋅(2⋅p\n",
       "                                                                              \n",
       "                                                                        ⎛     \n",
       "                vec₁⋅(-2⋅pose.R_w⋅pose.Rₓ + 2⋅pose.R_y⋅pose.R_z) + vec₂⋅⎝- pos\n",
       "                                                                              \n",
       "                      ⎛        2          2           2           2⎞          \n",
       "                 vec₁⋅⎝pose.R_w  - pose.Rₓ  - pose.R_y  + pose.R_z ⎠ + vec₂⋅(-\n",
       "\n",
       "                                                                              \n",
       "                                                                              \n",
       "                                                                              \n",
       "                                                                              \n",
       "                                                                              \n",
       "                                                                              \n",
       "                                                                              \n",
       "                                                                              \n",
       "                                                                              \n",
       "                                                                              \n",
       "ose.R_w⋅pose.R_z - 2⋅pose.Rₓ⋅pose.R_y)       vec₀⋅(-2⋅pose.R_w⋅pose.R_y - 2⋅po\n",
       "                                                                              \n",
       "     2          2           2           2⎞                                    \n",
       "e.R_w  + pose.Rₓ  - pose.R_y  + pose.R_z ⎠     vec₀⋅(2⋅pose.R_w⋅pose.Rₓ - 2⋅po\n",
       "                                                                              \n",
       "                                                 ⎛          2          2      \n",
       "2⋅pose.R_w⋅pose.Rₓ - 2⋅pose.R_y⋅pose.R_z)   vec₀⋅⎝- pose.R_w  + pose.Rₓ  + pos\n",
       "\n",
       "                                                                              \n",
       "                 0                                                            \n",
       "                                                                              \n",
       "                                                                              \n",
       "                 0                                                            \n",
       "                                                                              \n",
       "                                                                              \n",
       "                 0                                                            \n",
       "                                                                              \n",
       "                       ⎛        2          2           2           2⎞         \n",
       "se.Rₓ⋅pose.R_z) + vec₂⋅⎝pose.R_w  + pose.Rₓ  - pose.R_y  - pose.R_z ⎠   vec₀⋅(\n",
       "                                                                              \n",
       "                                                                              \n",
       "se.R_y⋅pose.R_z) + vec₂⋅(2⋅pose.R_w⋅pose.R_z + 2⋅pose.Rₓ⋅pose.R_y)       vec₀⋅\n",
       "                                                                              \n",
       "     2           2⎞                                                           \n",
       "e.R_y  - pose.R_z ⎠ + vec₂⋅(-2⋅pose.R_w⋅pose.R_y + 2⋅pose.Rₓ⋅pose.R_z)     vec\n",
       "\n",
       "                                                                              \n",
       "                                             0                                \n",
       "                                                                              \n",
       "                                                                              \n",
       "                                             0                                \n",
       "                                                                              \n",
       "                                                                              \n",
       "                                             0                                \n",
       "                                                                              \n",
       "                                                  ⎛          2          2     \n",
       "-2⋅pose.R_w⋅pose.R_z + 2⋅pose.Rₓ⋅pose.R_y) + vec₁⋅⎝- pose.R_w  - pose.Rₓ  + po\n",
       "                                                                              \n",
       "⎛        2          2           2           2⎞                                \n",
       "⎝pose.R_w  - pose.Rₓ  + pose.R_y  - pose.R_z ⎠ + vec₁⋅(-2⋅pose.R_w⋅pose.R_z - \n",
       "                                                                              \n",
       "                                                                              \n",
       "₀⋅(2⋅pose.R_w⋅pose.Rₓ + 2⋅pose.R_y⋅pose.R_z) + vec₁⋅(2⋅pose.R_w⋅pose.R_y - 2⋅p\n",
       "\n",
       "                                                2          2                  \n",
       "                      0  0  0          - 2⋅rot_y  - 2⋅rot_z  + 1              \n",
       "                                                                              \n",
       "                                                                              \n",
       "                      0  0  0        2⋅rot_w⋅rot_z + 2⋅rotₓ⋅rot_y             \n",
       "                                                                              \n",
       "                                                                              \n",
       "                      0  0  0        -2⋅rot_w⋅rot_y + 2⋅rotₓ⋅rot_z            \n",
       "                                                                              \n",
       "      2           2⎞                            2             2               \n",
       "se.R_y  + pose.R_z ⎠  1  0  0       - 2⋅pose.R_y  - 2⋅pose.R_z  + 1       -2⋅p\n",
       "                                                                              \n",
       "                                                                              \n",
       "2⋅pose.Rₓ⋅pose.R_y)   0  1  0  2⋅pose.R_w⋅pose.R_z + 2⋅pose.Rₓ⋅pose.R_y       \n",
       "                                                                              \n",
       "                                                                              \n",
       "ose.Rₓ⋅pose.R_z)      0  0  1  -2⋅pose.R_w⋅pose.R_y + 2⋅pose.Rₓ⋅pose.R_z  2⋅po\n",
       "\n",
       "                                                                              \n",
       "  -2⋅rot_w⋅rot_z + 2⋅rotₓ⋅rot_y              2⋅rot_w⋅rot_y + 2⋅rotₓ⋅rot_z     \n",
       "                                                                              \n",
       "            2          2                                                      \n",
       "    - 2⋅rotₓ  - 2⋅rot_z  + 1                 -2⋅rot_w⋅rotₓ + 2⋅rot_y⋅rot_z    \n",
       "                                                                              \n",
       "                                                       2          2           \n",
       "  2⋅rot_w⋅rotₓ + 2⋅rot_y⋅rot_z                 - 2⋅rotₓ  - 2⋅rot_y  + 1       \n",
       "                                                                              \n",
       "                                                                              \n",
       "ose.R_w⋅pose.R_z + 2⋅pose.Rₓ⋅pose.R_y  2⋅pose.R_w⋅pose.R_y + 2⋅pose.Rₓ⋅pose.R_\n",
       "                                                                              \n",
       "            2             2                                                   \n",
       " - 2⋅pose.Rₓ  - 2⋅pose.R_z  + 1        -2⋅pose.R_w⋅pose.Rₓ + 2⋅pose.R_y⋅pose.R\n",
       "                                                                              \n",
       "                                                       2             2        \n",
       "se.R_w⋅pose.Rₓ + 2⋅pose.R_y⋅pose.R_z        - 2⋅pose.Rₓ  - 2⋅pose.R_y  + 1    \n",
       "\n",
       "  ⎤\n",
       "  ⎥\n",
       "  ⎥\n",
       "  ⎥\n",
       "  ⎥\n",
       "  ⎥\n",
       "  ⎥\n",
       "  ⎥\n",
       "  ⎥\n",
       "  ⎥\n",
       "z ⎥\n",
       "  ⎥\n",
       "  ⎥\n",
       "_z⎥\n",
       "  ⎥\n",
       "  ⎥\n",
       "  ⎦"
      ]
     },
     "metadata": {},
     "output_type": "display_data"
    }
   ],
   "source": [
    "residual_D_tangent = residual.jacobian(lie_vals)\n",
    "display(residual_D_tangent.shape)\n",
    "display(residual_D_tangent)"
   ]
  }
 ],
 "metadata": {
  "kernelspec": {
   "display_name": "Python 3",
   "language": "python",
   "name": "python3"
  },
  "language_info": {
   "codemirror_mode": {
    "name": "ipython",
    "version": 3
   },
   "file_extension": ".py",
   "mimetype": "text/x-python",
   "name": "python",
   "nbconvert_exporter": "python",
   "pygments_lexer": "ipython3",
   "version": "3.8.10"
  }
 },
 "nbformat": 4,
 "nbformat_minor": 2
}
