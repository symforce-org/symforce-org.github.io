{
 "cells": [
  {
   "cell_type": "markdown",
   "metadata": {},
   "source": [
    "# SymPy Tutorial"
   ]
  },
  {
   "cell_type": "markdown",
   "metadata": {},
   "source": [
    "SymForce is built on the [SymPy](https://sympy.org) API for symbolic algebra. If you're not familiar with SymPy or symbolic computation, go through [their](https://docs.sympy.org/latest/tutorial/index.html) tutorial.\n",
    "Some basic usage is shown here."
   ]
  },
  {
   "cell_type": "markdown",
   "metadata": {},
   "source": [
    "First, some optional configuration - see [Symbolic APIs](#Symbolic-APIs) below for more information:"
   ]
  },
  {
   "cell_type": "code",
   "execution_count": 1,
   "metadata": {
    "execution": {
     "iopub.execute_input": "2025-04-16T18:28:18.461299Z",
     "iopub.status.busy": "2025-04-16T18:28:18.461078Z",
     "iopub.status.idle": "2025-04-16T18:28:18.734146Z",
     "shell.execute_reply": "2025-04-16T18:28:18.733461Z"
    }
   },
   "outputs": [
    {
     "name": "stderr",
     "output_type": "stream",
     "text": [
      "/opt/hostedtoolcache/Python/3.8.18/x64/lib/python3.8/site-packages/setuptools_scm/git.py:167: UserWarning: \"/home/runner/work/symforce/symforce\" is shallow and may cause errors\n",
      "  warnings.warn(f'\"{wd.path}\" is shallow and may cause errors')\n"
     ]
    }
   ],
   "source": [
    "import symforce\n",
    "\n",
    "symforce.set_symbolic_api(\"symengine\")"
   ]
  },
  {
   "cell_type": "markdown",
   "metadata": {},
   "source": [
    "Some imports that are useful for notebooks - you'll see these across many of our tutorials:"
   ]
  },
  {
   "cell_type": "code",
   "execution_count": 2,
   "metadata": {
    "execution": {
     "iopub.execute_input": "2025-04-16T18:28:18.737193Z",
     "iopub.status.busy": "2025-04-16T18:28:18.736780Z",
     "iopub.status.idle": "2025-04-16T18:28:19.242678Z",
     "shell.execute_reply": "2025-04-16T18:28:19.241814Z"
    }
   },
   "outputs": [],
   "source": [
    "from symforce.notebook_util import display\n",
    "from symforce.notebook_util import print_expression_tree\n",
    "from symforce.notebook_util import set_notebook_defaults\n",
    "\n",
    "set_notebook_defaults()"
   ]
  },
  {
   "cell_type": "markdown",
   "metadata": {},
   "source": [
    "Always import the SymPy API through SymForce, because symforce can switch out the symbolic implementation of the API and adds a few minor but important augmentations.  [symforce.symbolic](../api/symforce.symbolic.html) includes both the supported parts of the underlying symbolic API, as well as all of the types from [symforce.geo](../api/symforce.geo.html) and [symforce.cam](../api/symforce.cam.html).  Let's define some algebraic symbols:"
   ]
  },
  {
   "cell_type": "code",
   "execution_count": 3,
   "metadata": {
    "execution": {
     "iopub.execute_input": "2025-04-16T18:28:19.246220Z",
     "iopub.status.busy": "2025-04-16T18:28:19.245870Z",
     "iopub.status.idle": "2025-04-16T18:28:19.251280Z",
     "shell.execute_reply": "2025-04-16T18:28:19.250535Z"
    }
   },
   "outputs": [],
   "source": [
    "import symforce.symbolic as sf\n",
    "\n",
    "x = sf.Symbol(\"x\")\n",
    "y = sf.Symbol(\"y\")"
   ]
  },
  {
   "cell_type": "markdown",
   "metadata": {},
   "source": [
    "Build a symbolic expression:"
   ]
  },
  {
   "cell_type": "code",
   "execution_count": 4,
   "metadata": {
    "execution": {
     "iopub.execute_input": "2025-04-16T18:28:19.254177Z",
     "iopub.status.busy": "2025-04-16T18:28:19.253908Z",
     "iopub.status.idle": "2025-04-16T18:28:20.331350Z",
     "shell.execute_reply": "2025-04-16T18:28:20.330589Z"
    }
   },
   "outputs": [
    {
     "data": {
      "image/png": "[encoded data removed]",
      "text/latex": [
       "$\\displaystyle x^{2} + \\frac{\\sin{\\left(y \\right)}}{x^{2}}$"
      ],
      "text/plain": [
       " 2   sin(y)\n",
       "x  + ──────\n",
       "        2  \n",
       "       x   "
      ]
     },
     "metadata": {},
     "output_type": "display_data"
    }
   ],
   "source": [
    "expr = x**2 + sf.sin(y) / x**2\n",
    "display(expr)"
   ]
  },
  {
   "cell_type": "markdown",
   "metadata": {},
   "source": [
    "This expression object is a tree of operations and arguments:"
   ]
  },
  {
   "cell_type": "code",
   "execution_count": 5,
   "metadata": {
    "execution": {
     "iopub.execute_input": "2025-04-16T18:28:20.335081Z",
     "iopub.status.busy": "2025-04-16T18:28:20.334622Z",
     "iopub.status.idle": "2025-04-16T18:28:20.341919Z",
     "shell.execute_reply": "2025-04-16T18:28:20.341071Z"
    }
   },
   "outputs": [
    {
     "name": "stdout",
     "output_type": "stream",
     "text": [
      "Add: sin(y)/x**2 + x**2\n",
      "+-Pow: x**2\n",
      "| +-Symbol: x\n",
      "| +-Integer: 2\n",
      "+-Mul: sin(y)/x**2\n",
      "  +-Pow: x**(-2)\n",
      "  | +-Symbol: x\n",
      "  | +-Integer: -2\n",
      "  +-sin: sin(y)\n",
      "    +-Symbol: y\n"
     ]
    }
   ],
   "source": [
    "print_expression_tree(expr)"
   ]
  },
  {
   "cell_type": "markdown",
   "metadata": {},
   "source": [
    "We can evaluate this numerically by plugging in values:"
   ]
  },
  {
   "cell_type": "code",
   "execution_count": 6,
   "metadata": {
    "execution": {
     "iopub.execute_input": "2025-04-16T18:28:20.345407Z",
     "iopub.status.busy": "2025-04-16T18:28:20.345100Z",
     "iopub.status.idle": "2025-04-16T18:28:20.375610Z",
     "shell.execute_reply": "2025-04-16T18:28:20.374820Z"
    }
   },
   "outputs": [
    {
     "data": {
      "image/png": "[encoded data removed]",
      "text/latex": [
       "$\\displaystyle 1.71042940438101$"
      ],
      "text/plain": [
       "1.71042940438101"
      ]
     },
     "metadata": {},
     "output_type": "display_data"
    }
   ],
   "source": [
    "display(expr.subs({x: 1.2, y: 0.4}))"
   ]
  },
  {
   "cell_type": "markdown",
   "metadata": {},
   "source": [
    "We can perform symbolic manipulation like differentiation, integration, simplifiation, etc.."
   ]
  },
  {
   "cell_type": "code",
   "execution_count": 7,
   "metadata": {
    "execution": {
     "iopub.execute_input": "2025-04-16T18:28:20.380075Z",
     "iopub.status.busy": "2025-04-16T18:28:20.379030Z",
     "iopub.status.idle": "2025-04-16T18:28:20.415253Z",
     "shell.execute_reply": "2025-04-16T18:28:20.414422Z"
    }
   },
   "outputs": [
    {
     "data": {
      "image/png": "[encoded data removed]",
      "text/latex": [
       "$\\displaystyle \\frac{\\cos{\\left(y \\right)}}{x^{2}}$"
      ],
      "text/plain": [
       "cos(y)\n",
       "──────\n",
       "   2  \n",
       "  x   "
      ]
     },
     "metadata": {},
     "output_type": "display_data"
    }
   ],
   "source": [
    "display(expr.diff(y))"
   ]
  },
  {
   "cell_type": "code",
   "execution_count": 8,
   "metadata": {
    "execution": {
     "iopub.execute_input": "2025-04-16T18:28:20.418411Z",
     "iopub.status.busy": "2025-04-16T18:28:20.418104Z",
     "iopub.status.idle": "2025-04-16T18:28:20.493620Z",
     "shell.execute_reply": "2025-04-16T18:28:20.492827Z"
    }
   },
   "outputs": [
    {
     "data": {
      "image/png": "[encoded data removed]",
      "text/latex": [
       "$\\displaystyle x^{2} + \\frac{y^{5}}{120 x^{2}} - \\frac{y^{3}}{6 x^{2}} + \\frac{y}{x^{2}}$"
      ],
      "text/plain": [
       "        5       3      \n",
       " 2     y       y     y \n",
       "x  + ────── - ──── + ──\n",
       "          2      2    2\n",
       "     120⋅x    6⋅x    x "
      ]
     },
     "metadata": {},
     "output_type": "display_data"
    }
   ],
   "source": [
    "display(sf.series(expr, y))"
   ]
  },
  {
   "cell_type": "markdown",
   "metadata": {},
   "source": [
    "## Symbolic APIs"
   ]
  },
  {
   "cell_type": "markdown",
   "metadata": {},
   "source": [
    "SymForce supports two underling symbolic APIs.  The [SymPy](https://sympy.org) API is pure Python, and the [SymEngine](https://symengine.org) API is a C++ implementation of much of SymPy.  SymEngine is the default, and if you installed SymForce with `pip` or built it from source you'll have it already.  SymEngine is much faster than SymPy by a factor of 100 or more.  However, SymEngine doesn't implement everything SymPy does.  SymForce abstracts over some of these differences, and adds support for some operations by converting between SymEngine and SymPy calls.\n",
    "\n",
    "For how to set the symbolic api, see the docs for [symforce.set_symbolic_api](../api/symforce.html#symforce.set_symbolic_api)."
   ]
  }
 ],
 "metadata": {
  "kernelspec": {
   "display_name": "Python 3",
   "language": "python",
   "name": "python3"
  },
  "language_info": {
   "codemirror_mode": {
    "name": "ipython",
    "version": 3
   },
   "file_extension": ".py",
   "mimetype": "text/x-python",
   "name": "python",
   "nbconvert_exporter": "python",
   "pygments_lexer": "ipython3",
   "version": "3.8.18"
  }
 },
 "nbformat": 4,
 "nbformat_minor": 2
}
