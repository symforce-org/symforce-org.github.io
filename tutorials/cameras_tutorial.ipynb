{
 "cells": [
  {
   "cell_type": "markdown",
   "metadata": {},
   "source": [
    "# Cameras Tutorial"
   ]
  },
  {
   "cell_type": "markdown",
   "metadata": {},
   "source": [
    "This is an introductory walkthrough of the symbolic [cameras package](../api/symforce.cam.html) in symforce."
   ]
  },
  {
   "cell_type": "code",
   "execution_count": 1,
   "metadata": {
    "execution": {
     "iopub.execute_input": "2022-10-28T22:49:10.898027Z",
     "iopub.status.busy": "2022-10-28T22:49:10.897592Z",
     "iopub.status.idle": "2022-10-28T22:49:11.401836Z",
     "shell.execute_reply": "2022-10-28T22:49:11.401168Z"
    }
   },
   "outputs": [],
   "source": [
    "# Setup\n",
    "import symforce\n",
    "\n",
    "symforce.set_symbolic_api(\"sympy\")\n",
    "symforce.set_log_level(\"warning\")\n",
    "\n",
    "from symforce.notebook_util import display\n",
    "import symforce.symbolic as sf"
   ]
  },
  {
   "cell_type": "markdown",
   "metadata": {},
   "source": [
    "Let's start by creating a linear camera calibration object:"
   ]
  },
  {
   "cell_type": "code",
   "execution_count": 2,
   "metadata": {
    "execution": {
     "iopub.execute_input": "2022-10-28T22:49:11.406449Z",
     "iopub.status.busy": "2022-10-28T22:49:11.405178Z",
     "iopub.status.idle": "2022-10-28T22:49:11.422218Z",
     "shell.execute_reply": "2022-10-28T22:49:11.421629Z"
    }
   },
   "outputs": [
    {
     "data": {
      "text/plain": [
       "<LinearCameraCal\n",
       "  focal_length=[cal.f_x, cal.f_y],\n",
       "  principal_point=[cal.c_x, cal.c_y],\n",
       "  distortion_coeffs=[]>"
      ]
     },
     "metadata": {},
     "output_type": "display_data"
    }
   ],
   "source": [
    "linear_camera_cal = sf.LinearCameraCal.symbolic(\"cal\")\n",
    "display(linear_camera_cal)"
   ]
  },
  {
   "cell_type": "markdown",
   "metadata": {},
   "source": [
    "This lets us project/deproject points written in the camera frame as so:"
   ]
  },
  {
   "cell_type": "code",
   "execution_count": 3,
   "metadata": {
    "execution": {
     "iopub.execute_input": "2022-10-28T22:49:11.439507Z",
     "iopub.status.busy": "2022-10-28T22:49:11.439260Z",
     "iopub.status.idle": "2022-10-28T22:49:12.466982Z",
     "shell.execute_reply": "2022-10-28T22:49:12.466357Z"
    }
   },
   "outputs": [
    {
     "data": {
      "text/latex": [
       "$\\displaystyle \\left[\\begin{matrix}\\frac{- cal.c_{x} + p_{0}}{cal.f_{x}}\\\\\\frac{- cal.c_{y} + p_{1}}{cal.f_{y}}\\\\1\\end{matrix}\\right]$"
      ],
      "text/plain": [
       "⎡-cal.cₓ + p₀ ⎤\n",
       "⎢──────────── ⎥\n",
       "⎢   cal.fₓ    ⎥\n",
       "⎢             ⎥\n",
       "⎢-cal.c_y + p₁⎥\n",
       "⎢─────────────⎥\n",
       "⎢   cal.f_y   ⎥\n",
       "⎢             ⎥\n",
       "⎣      1      ⎦"
      ]
     },
     "metadata": {},
     "output_type": "display_data"
    }
   ],
   "source": [
    "camera_point = sf.V3.symbolic(\"p\")\n",
    "camera_ray, _ = linear_camera_cal.camera_ray_from_pixel(camera_point)\n",
    "display(camera_ray)"
   ]
  },
  {
   "cell_type": "code",
   "execution_count": 4,
   "metadata": {
    "execution": {
     "iopub.execute_input": "2022-10-28T22:49:12.471599Z",
     "iopub.status.busy": "2022-10-28T22:49:12.470604Z",
     "iopub.status.idle": "2022-10-28T22:49:12.486643Z",
     "shell.execute_reply": "2022-10-28T22:49:12.486183Z"
    }
   },
   "outputs": [
    {
     "data": {
      "text/latex": [
       "$\\displaystyle \\left[\\begin{matrix}p_{0}\\\\p_{1}\\end{matrix}\\right]$"
      ],
      "text/plain": [
       "⎡p₀⎤\n",
       "⎢  ⎥\n",
       "⎣p₁⎦"
      ]
     },
     "metadata": {},
     "output_type": "display_data"
    }
   ],
   "source": [
    "camera_point_reprojected, _ = linear_camera_cal.pixel_from_camera_point(\n",
    "    camera_ray,\n",
    ")\n",
    "display(camera_point_reprojected)"
   ]
  },
  {
   "cell_type": "markdown",
   "metadata": {},
   "source": [
    "Using camera calibration objects, we can create cameras with additional parameters, such as an image size:"
   ]
  },
  {
   "cell_type": "code",
   "execution_count": 5,
   "metadata": {
    "execution": {
     "iopub.execute_input": "2022-10-28T22:49:12.490747Z",
     "iopub.status.busy": "2022-10-28T22:49:12.489746Z",
     "iopub.status.idle": "2022-10-28T22:49:12.496797Z",
     "shell.execute_reply": "2022-10-28T22:49:12.496337Z"
    }
   },
   "outputs": [
    {
     "data": {
      "text/plain": [
       "<Camera\n",
       "  CameraCal=<LinearCameraCal\n",
       "  focal_length=[440, 400],\n",
       "  principal_point=[320, 240],\n",
       "  distortion_coeffs=[]>\n",
       "  image_size=[640, 480]>"
      ]
     },
     "metadata": {},
     "output_type": "display_data"
    }
   ],
   "source": [
    "linear_camera = sf.Camera(\n",
    "    calibration=sf.LinearCameraCal(\n",
    "        focal_length=(440, 400),\n",
    "        principal_point=(320, 240),\n",
    "    ),\n",
    "    image_size=(640, 480),\n",
    ")\n",
    "display(linear_camera)"
   ]
  },
  {
   "cell_type": "markdown",
   "metadata": {},
   "source": [
    "Now, when projecting points into the image frame, we can check whether the resulting point is in the bounds determined by image_size:"
   ]
  },
  {
   "cell_type": "code",
   "execution_count": 6,
   "metadata": {
    "execution": {
     "iopub.execute_input": "2022-10-28T22:49:12.500744Z",
     "iopub.status.busy": "2022-10-28T22:49:12.499778Z",
     "iopub.status.idle": "2022-10-28T22:49:12.509193Z",
     "shell.execute_reply": "2022-10-28T22:49:12.508720Z"
    }
   },
   "outputs": [
    {
     "name": "stdout",
     "output_type": "stream",
     "text": [
      "point=[0, 0, 1] -> pixel=[320, 240], is_valid=1\n",
      "point=[100, 0, 1] -> pixel=[44320, 240], is_valid=0\n"
     ]
    }
   ],
   "source": [
    "point_in_FOV = sf.V3(0, 0, 1)\n",
    "point_outside_FOV = sf.V3(100, 0, 1)\n",
    "for point in (point_in_FOV, point_outside_FOV):\n",
    "    pixel, is_valid = linear_camera.pixel_from_camera_point(point)\n",
    "    print(\n",
    "        \"point={} -> pixel={}, is_valid={}\".format(\n",
    "            point.to_storage(),\n",
    "            pixel.to_storage(),\n",
    "            is_valid,\n",
    "        )\n",
    "    )"
   ]
  },
  {
   "cell_type": "markdown",
   "metadata": {},
   "source": [
    "We can also create a camera with a given pose:"
   ]
  },
  {
   "cell_type": "code",
   "execution_count": 7,
   "metadata": {
    "execution": {
     "iopub.execute_input": "2022-10-28T22:49:12.513211Z",
     "iopub.status.busy": "2022-10-28T22:49:12.512228Z",
     "iopub.status.idle": "2022-10-28T22:49:12.522651Z",
     "shell.execute_reply": "2022-10-28T22:49:12.522119Z"
    }
   },
   "outputs": [
    {
     "data": {
      "text/plain": [
       "<PosedCamera\n",
       "  Pose=<Pose3 R=<Rot3 <Q xyzw=[0, 1, 0, 0]>>, t=(0, 0, 0)>\n",
       "  Camera=<PosedCamera\n",
       "  CameraCal=<LinearCameraCal\n",
       "  focal_length=[440, 400],\n",
       "  principal_point=[320, 240],\n",
       "  distortion_coeffs=[]>\n",
       "  image_size=[640, 480]>>"
      ]
     },
     "metadata": {},
     "output_type": "display_data"
    }
   ],
   "source": [
    "linear_posed_camera = sf.PosedCamera(\n",
    "    pose=sf.Pose3(\n",
    "        # camera is spun 180 degrees about y-axis\n",
    "        R=sf.Rot3.from_yaw_pitch_roll(0, sf.pi, 0),\n",
    "        t=sf.V3(),\n",
    "    ),\n",
    "    calibration=linear_camera.calibration,\n",
    "    image_size=(640, 480),\n",
    ")\n",
    "display(linear_posed_camera)"
   ]
  },
  {
   "cell_type": "markdown",
   "metadata": {},
   "source": [
    "The given pose can be used to transform points between a global frame and the image frame:"
   ]
  },
  {
   "cell_type": "code",
   "execution_count": 8,
   "metadata": {
    "execution": {
     "iopub.execute_input": "2022-10-28T22:49:12.526581Z",
     "iopub.status.busy": "2022-10-28T22:49:12.525576Z",
     "iopub.status.idle": "2022-10-28T22:49:12.534150Z",
     "shell.execute_reply": "2022-10-28T22:49:12.533686Z"
    }
   },
   "outputs": [
    {
     "name": "stdout",
     "output_type": "stream",
     "text": [
      "point in global coordinates=[0, 0, -1] (in camera coordinates=[0, 0, 1])\n",
      "global_point=[0, 0, -1] -> pixel=[320, 240], is_valid=1\n"
     ]
    }
   ],
   "source": [
    "global_point = sf.V3(0, 0, -1)\n",
    "print(\n",
    "    \"point in global coordinates={} (in camera coordinates={})\".format(\n",
    "        global_point.to_storage(),\n",
    "        (linear_posed_camera.pose * global_point).to_storage(),\n",
    "    )\n",
    ")\n",
    "\n",
    "pixel, is_valid = linear_posed_camera.pixel_from_global_point(global_point)\n",
    "print(\n",
    "    \"global_point={} -> pixel={}, is_valid={}\".format(\n",
    "        global_point.to_storage(), pixel.to_storage(), is_valid\n",
    "    )\n",
    ")"
   ]
  },
  {
   "cell_type": "markdown",
   "metadata": {},
   "source": [
    "We can also transform points in pixel coordinates back into the global frame (given a range):"
   ]
  },
  {
   "cell_type": "code",
   "execution_count": 9,
   "metadata": {
    "execution": {
     "iopub.execute_input": "2022-10-28T22:49:12.537999Z",
     "iopub.status.busy": "2022-10-28T22:49:12.537028Z",
     "iopub.status.idle": "2022-10-28T22:49:12.548883Z",
     "shell.execute_reply": "2022-10-28T22:49:12.548410Z"
    }
   },
   "outputs": [
    {
     "data": {
      "text/latex": [
       "$\\displaystyle \\left[\\begin{matrix}0\\\\0\\\\-1.0\\end{matrix}\\right]$"
      ],
      "text/plain": [
       "⎡ 0  ⎤\n",
       "⎢    ⎥\n",
       "⎢ 0  ⎥\n",
       "⎢    ⎥\n",
       "⎣-1.0⎦"
      ]
     },
     "metadata": {},
     "output_type": "display_data"
    }
   ],
   "source": [
    "range_to_point = (global_point - linear_posed_camera.pose.t).norm()\n",
    "global_point_reprojected, is_valid = linear_posed_camera.global_point_from_pixel(\n",
    "    pixel, range_to_point=range_to_point\n",
    ")\n",
    "display(global_point_reprojected)"
   ]
  },
  {
   "cell_type": "markdown",
   "metadata": {},
   "source": [
    "Finally, we can warp points between two posed cameras given the location of the pixel in the source camera, the inverse range to the point, and the target camera to warp the point into."
   ]
  },
  {
   "cell_type": "code",
   "execution_count": 10,
   "metadata": {
    "execution": {
     "iopub.execute_input": "2022-10-28T22:49:12.552892Z",
     "iopub.status.busy": "2022-10-28T22:49:12.551921Z",
     "iopub.status.idle": "2022-10-28T22:49:12.569080Z",
     "shell.execute_reply": "2022-10-28T22:49:12.568602Z"
    }
   },
   "outputs": [
    {
     "data": {
      "text/latex": [
       "$\\displaystyle \\left[\\begin{matrix}320\\\\458.520995937516\\end{matrix}\\right]$"
      ],
      "text/plain": [
       "⎡      320       ⎤\n",
       "⎢                ⎥\n",
       "⎣458.520995937516⎦"
      ]
     },
     "metadata": {},
     "output_type": "display_data"
    }
   ],
   "source": [
    "# Perturb second camera slightly from first (small angular change in roll)\n",
    "perturbed_rotation = linear_posed_camera.pose.R * sf.Rot3.from_yaw_pitch_roll(0, 0, 0.5)\n",
    "target_posed_cam = sf.PosedCamera(\n",
    "    pose=sf.Pose3(R=perturbed_rotation, t=sf.V3()),\n",
    "    calibration=linear_camera.calibration,\n",
    ")\n",
    "# Warp pixel from source camera into target camera given inverse range\n",
    "target_pixel, is_valid = linear_posed_camera.warp_pixel(\n",
    "    pixel=sf.V2(320, 240),\n",
    "    inverse_range=1.0,\n",
    "    target_cam=target_posed_cam,\n",
    ")\n",
    "display(target_pixel)"
   ]
  },
  {
   "cell_type": "markdown",
   "metadata": {},
   "source": [
    "In the examples above we used a linear calibration, but we can use other types of calibrations as well:"
   ]
  },
  {
   "cell_type": "code",
   "execution_count": 11,
   "metadata": {
    "execution": {
     "iopub.execute_input": "2022-10-28T22:49:12.573176Z",
     "iopub.status.busy": "2022-10-28T22:49:12.572188Z",
     "iopub.status.idle": "2022-10-28T22:49:12.597794Z",
     "shell.execute_reply": "2022-10-28T22:49:12.597050Z"
    }
   },
   "outputs": [
    {
     "data": {
      "text/latex": [
       "$\\displaystyle \\left[\\begin{matrix}-0.72576759882138\\\\-0.510725347318749\\\\1\\end{matrix}\\right]$"
      ],
      "text/plain": [
       "⎡-0.72576759882138 ⎤\n",
       "⎢                  ⎥\n",
       "⎢-0.510725347318749⎥\n",
       "⎢                  ⎥\n",
       "⎣        1         ⎦"
      ]
     },
     "metadata": {},
     "output_type": "display_data"
    },
    {
     "data": {
      "text/latex": [
       "$\\displaystyle \\left[\\begin{matrix}49.9999999999999\\\\50.0\\end{matrix}\\right]$"
      ],
      "text/plain": [
       "⎡49.9999999999999⎤\n",
       "⎢                ⎥\n",
       "⎣      50.0      ⎦"
      ]
     },
     "metadata": {},
     "output_type": "display_data"
    }
   ],
   "source": [
    "atan_cam = sf.ATANCameraCal(\n",
    "    focal_length=[380.0, 380.0],\n",
    "    principal_point=[320.0, 240.0],\n",
    "    omega=0.35,\n",
    ")\n",
    "camera_ray, is_valid = atan_cam.camera_ray_from_pixel(sf.V2(50.0, 50.0))\n",
    "display(camera_ray)\n",
    "pixel, is_valid = atan_cam.pixel_from_camera_point(camera_ray)\n",
    "display(pixel)"
   ]
  }
 ],
 "metadata": {
  "file_extension": ".py",
  "kernelspec": {
   "display_name": "Python 3",
   "language": "python",
   "name": "python3"
  },
  "language_info": {
   "codemirror_mode": {
    "name": "ipython",
    "version": 3
   },
   "file_extension": ".py",
   "mimetype": "text/x-python",
   "name": "python",
   "nbconvert_exporter": "python",
   "pygments_lexer": "ipython3",
   "version": "3.8.10"
  },
  "mimetype": "text/x-python",
  "name": "python",
  "npconvert_exporter": "python",
  "pygments_lexer": "ipython2",
  "version": 2
 },
 "nbformat": 4,
 "nbformat_minor": 2
}
